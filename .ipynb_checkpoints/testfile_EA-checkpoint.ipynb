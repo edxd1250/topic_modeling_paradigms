{
 "cells": [
  {
   "cell_type": "markdown",
   "metadata": {},
   "source": [
    "# __Arabodopsis-related topic over time__\n",
    "\n",
    "Goals here:\n",
    "- Model topics for docs mentioning Arabidopsis\n",
    "- Model Arabidopsis topics over time\n",
    "\n",
    "Issues:\n",
    "- 9/5/23:\n",
    "  - Pass the code to Edmond to adopt it for all pubmed articles.\n",
    "- 2/8/23:\n",
    "  - Rerun to make sure the time bins are divided up based on an equal number of records.\n",
    "- 10/4/22: \n",
    "  - Run BERTopic and get `RuntimeError: CUDA error: no kernel image is available for execution on the device`.\n",
    "    - Reinstall torch following advices from [here](https://github.com/NVlabs/stylegan2-ada-pytorch/issues/6) for example\n",
    "    - `conda install pytorch torchvision torchaudio cudatoolkit=11.6 -c pytorch -c conda-forge`\n",
    "  - Once updating torch, run into problem that numba requires numpy <=1.21\n",
    "    - `conda install numpy=1.21`\n",
    "  - Get `AttributeError: 'BERTopic' object has no attribute 'generate_topic_labels'`\n",
    "    - Update BERTopic: `pip install --upgrade bertopic`\n",
    "  - Get `ImportError: cannot import name 'DatasetInfo' from 'huggingface_hub.hf_api'`\n",
    "    - Update huggingface_hub\n",
    "  - Because BERTopic is updated, the c-tf-idf matrix name is changed. This is not changed for earlier codes."
   ]
  },
  {
   "cell_type": "markdown",
   "metadata": {},
   "source": [
    "## ___Set up___"
   ]
  },
  {
   "cell_type": "markdown",
   "metadata": {},
   "source": [
    "### Environment\n",
    "\n",
    "```bash\n",
    "conda create -n topic_model python\n",
    "conda activate topic_model\n",
    "pip install bertopic\n",
    "pip install seaborn statsmodels xlsxwriter kaleido session-info\n",
    "\n",
    "```"
   ]
  },
  {
   "cell_type": "markdown",
   "metadata": {},
   "source": [
    "### Module import\n",
    "\n",
    "In bertopic environment"
   ]
  },
  {
   "cell_type": "code",
   "execution_count": 1,
   "metadata": {},
   "outputs": [
    {
     "ename": "ModuleNotFoundError",
     "evalue": "No module named 'statsmodels'",
     "output_type": "error",
     "traceback": [
      "\u001b[0;31m---------------------------------------------------------------------------\u001b[0m",
      "\u001b[0;31mModuleNotFoundError\u001b[0m                       Traceback (most recent call last)",
      "Cell \u001b[0;32mIn[1], line 6\u001b[0m\n\u001b[1;32m      4\u001b[0m \u001b[38;5;28;01mimport\u001b[39;00m \u001b[38;5;21;01mmatplotlib\u001b[39;00m \u001b[38;5;28;01mas\u001b[39;00m \u001b[38;5;21;01mmpl\u001b[39;00m\n\u001b[1;32m      5\u001b[0m \u001b[38;5;28;01mimport\u001b[39;00m \u001b[38;5;21;01mmatplotlib\u001b[39;00m\u001b[38;5;21;01m.\u001b[39;00m\u001b[38;5;21;01mpyplot\u001b[39;00m \u001b[38;5;28;01mas\u001b[39;00m \u001b[38;5;21;01mplt\u001b[39;00m\n\u001b[0;32m----> 6\u001b[0m \u001b[38;5;28;01mimport\u001b[39;00m \u001b[38;5;21;01mstatsmodels\u001b[39;00m\u001b[38;5;21;01m.\u001b[39;00m\u001b[38;5;21;01mapi\u001b[39;00m \u001b[38;5;28;01mas\u001b[39;00m \u001b[38;5;21;01msm\u001b[39;00m\n\u001b[1;32m      7\u001b[0m \u001b[38;5;28;01mimport\u001b[39;00m \u001b[38;5;21;01mplotly\u001b[39;00m\u001b[38;5;21;01m.\u001b[39;00m\u001b[38;5;21;01mgraph_objects\u001b[39;00m \u001b[38;5;28;01mas\u001b[39;00m \u001b[38;5;21;01mgo\u001b[39;00m\n\u001b[1;32m      8\u001b[0m \u001b[38;5;28;01mimport\u001b[39;00m \u001b[38;5;21;01mseaborn\u001b[39;00m \u001b[38;5;28;01mas\u001b[39;00m \u001b[38;5;21;01msns\u001b[39;00m\n",
      "\u001b[0;31mModuleNotFoundError\u001b[0m: No module named 'statsmodels'"
     ]
    }
   ],
   "source": [
    "import re, pickle, os, torch, csv\n",
    "import numpy as np\n",
    "import pandas as pd\n",
    "import matplotlib as mpl\n",
    "import matplotlib.pyplot as plt\n",
    "import statsmodels.api as sm\n",
    "import plotly.graph_objects as go\n",
    "import seaborn as sns\n",
    "\n",
    "from pathlib import Path\n",
    "from tqdm import tqdm\n",
    "from nltk.corpus import stopwords\n",
    "from nltk.tokenize import word_tokenize\n",
    "from bertopic import BERTopic\n",
    "from sentence_transformers import SentenceTransformer\n",
    "from hdbscan import HDBSCAN\n",
    "from xlsxwriter.workbook import Workbook\n",
    "from datetime import datetime\n",
    "from bisect import bisect\n",
    "from sklearn.preprocessing import normalize\n",
    "from sklearn.metrics import mean_squared_error\n",
    "from sklearn.preprocessing import minmax_scale\n",
    "from scipy.interpolate import interp1d\n",
    "from shutil import copy\n",
    "from dateutil.relativedelta import relativedelta\n",
    "import datetime\n",
    "import math"
   ]
  },
  {
   "cell_type": "code",
   "execution_count": 1,
   "metadata": {},
   "outputs": [
    {
     "name": "stderr",
     "output_type": "stream",
     "text": [
      "/mnt/home/ande2472/miniconda3/envs/hdbscan5/lib/python3.10/site-packages/tqdm/auto.py:21: TqdmWarning: IProgress not found. Please update jupyter and ipywidgets. See https://ipywidgets.readthedocs.io/en/stable/user_install.html\n",
      "  from .autonotebook import tqdm as notebook_tqdm\n"
     ]
    }
   ],
   "source": [
    "import re, pickle, os, torch, csv\n",
    "import numpy as np\n",
    "import pandas as pd\n",
    "from pathlib import Path\n",
    "from tqdm import tqdm\n",
    "from bertopic import BERTopic\n",
    "import datetime\n",
    "import math\n"
   ]
  },
  {
   "cell_type": "code",
   "execution_count": 4,
   "metadata": {},
   "outputs": [
    {
     "name": "stdout",
     "output_type": "stream",
     "text": [
      "Fri Feb 23 12:16:23 2024       \n",
      "+-----------------------------------------------------------------------------+\n",
      "| NVIDIA-SMI 525.60.13    Driver Version: 525.60.13    CUDA Version: 12.0     |\n",
      "|-------------------------------+----------------------+----------------------+\n",
      "| GPU  Name        Persistence-M| Bus-Id        Disp.A | Volatile Uncorr. ECC |\n",
      "| Fan  Temp  Perf  Pwr:Usage/Cap|         Memory-Usage | GPU-Util  Compute M. |\n",
      "|                               |                      |               MIG M. |\n",
      "|===============================+======================+======================|\n",
      "|   0  Tesla V100S-PCI...  On   | 00000000:3E:00.0 Off |                    0 |\n",
      "| N/A   30C    P0    25W / 250W |      0MiB / 32768MiB |      0%      Default |\n",
      "|                               |                      |                  N/A |\n",
      "+-------------------------------+----------------------+----------------------+\n",
      "                                                                               \n",
      "+-----------------------------------------------------------------------------+\n",
      "| Processes:                                                                  |\n",
      "|  GPU   GI   CI        PID   Type   Process name                  GPU Memory |\n",
      "|        ID   ID                                                   Usage      |\n",
      "|=============================================================================|\n",
      "|  No running processes found                                                 |\n",
      "+-----------------------------------------------------------------------------+\n"
     ]
    }
   ],
   "source": [
    "!nvidia-smi"
   ]
  },
  {
   "cell_type": "code",
   "execution_count": 2,
   "metadata": {},
   "outputs": [
    {
     "data": {
      "text/plain": [
       "(True, '2.0.1+cu117')"
      ]
     },
     "execution_count": 2,
     "metadata": {},
     "output_type": "execute_result"
    }
   ],
   "source": [
    "torch.cuda.is_available(), torch.__version__"
   ]
  },
  {
   "cell_type": "markdown",
   "metadata": {},
   "source": [
    "### Session info\n",
    "\n",
    "The info has been incorported into `requirements.txt` in the repo."
   ]
  },
  {
   "cell_type": "code",
   "execution_count": 3,
   "metadata": {},
   "outputs": [
    {
     "data": {
      "text/html": [
       "<details>\n",
       "<summary>Click to view session information</summary>\n",
       "<pre>\n",
       "-----\n",
       "bertopic                    0.15.0\n",
       "dateutil                    2.8.2\n",
       "hdbscan                     NA\n",
       "matplotlib                  3.7.3\n",
       "nltk                        3.8.1\n",
       "numpy                       1.24.4\n",
       "pandas                      2.1.0\n",
       "plotly                      5.16.1\n",
       "scipy                       1.11.2\n",
       "sentence_transformers       2.2.2\n",
       "session_info                1.0.0\n",
       "sklearn                     1.3.0\n",
       "statsmodels                 0.14.0\n",
       "torch                       2.0.1+cu117\n",
       "tqdm                        4.66.1\n",
       "xlsxwriter                  3.1.3\n",
       "-----\n",
       "</pre>\n",
       "<details>\n",
       "<summary>Click to view modules imported as dependencies</summary>\n",
       "<pre>\n",
       "PIL                 10.0.0\n",
       "asttokens           NA\n",
       "backcall            0.2.0\n",
       "certifi             2023.07.22\n",
       "charset_normalizer  3.2.0\n",
       "comm                0.1.4\n",
       "cycler              0.10.0\n",
       "cython_runtime      NA\n",
       "debugpy             1.6.7\n",
       "decorator           5.1.1\n",
       "executing           1.2.0\n",
       "filelock            3.12.3\n",
       "huggingface_hub     0.17.1\n",
       "idna                3.4\n",
       "ipykernel           6.25.2\n",
       "jedi                0.19.0\n",
       "jinja2              3.1.2\n",
       "joblib              1.3.2\n",
       "kiwisolver          1.4.5\n",
       "llvmlite            0.40.1\n",
       "markupsafe          2.1.3\n",
       "mpl_toolkits        NA\n",
       "mpmath              1.3.0\n",
       "numba               0.57.1\n",
       "nvfuser             NA\n",
       "packaging           23.1\n",
       "parso               0.8.3\n",
       "paste               NA\n",
       "patsy               0.5.3\n",
       "pexpect             4.8.0\n",
       "pickleshare         0.7.5\n",
       "pkg_resources       NA\n",
       "platformdirs        3.10.0\n",
       "prompt_toolkit      3.0.39\n",
       "psutil              5.9.0\n",
       "ptyprocess          0.7.0\n",
       "pure_eval           0.2.2\n",
       "pydev_ipython       NA\n",
       "pydevconsole        NA\n",
       "pydevd              2.9.5\n",
       "pydevd_file_utils   NA\n",
       "pydevd_plugins      NA\n",
       "pydevd_tracing      NA\n",
       "pygments            2.16.1\n",
       "pynndescent         0.5.10\n",
       "pyparsing           3.1.1\n",
       "pytz                2023.3.post1\n",
       "regex               2.5.132\n",
       "requests            2.31.0\n",
       "safetensors         0.3.3\n",
       "sentencepiece       0.1.99\n",
       "setuptools          68.0.0\n",
       "six                 1.16.0\n",
       "stack_data          0.6.2\n",
       "swig_runtime_data4  NA\n",
       "sympy               1.12\n",
       "threadpoolctl       3.2.0\n",
       "tokenizers          0.13.3\n",
       "tornado             6.3.2\n",
       "traitlets           5.9.0\n",
       "transformers        4.33.1\n",
       "typing_extensions   NA\n",
       "umap                0.5.3\n",
       "urllib3             2.0.4\n",
       "wcwidth             0.2.6\n",
       "yaml                6.0.1\n",
       "zmq                 25.1.0\n",
       "zope                NA\n",
       "</pre>\n",
       "</details> <!-- seems like this ends pre, so might as well be explicit -->\n",
       "<pre>\n",
       "-----\n",
       "IPython             8.15.0\n",
       "jupyter_client      8.3.1\n",
       "jupyter_core        5.3.1\n",
       "-----\n",
       "Python 3.11.5 (main, Sep 11 2023, 13:54:46) [GCC 11.2.0]\n",
       "Linux-6.5.0-4-amd64-x86_64-with-glibc2.37\n",
       "-----\n",
       "Session information updated at 2024-01-16 10:21\n",
       "</pre>\n",
       "</details>"
      ],
      "text/plain": [
       "<IPython.core.display.HTML object>"
      ]
     },
     "execution_count": 3,
     "metadata": {},
     "output_type": "execute_result"
    }
   ],
   "source": [
    "# Below is the package info\n",
    "import session_info\n",
    "session_info.show()"
   ]
  },
  {
   "cell_type": "markdown",
   "metadata": {},
   "source": [
    "### Key variables"
   ]
  },
  {
   "cell_type": "code",
   "execution_count": 4,
   "metadata": {},
   "outputs": [],
   "source": [
    "# Reproducibility\n",
    "seed = 20220609\n",
    "\n",
    "# Setting working directory\n",
    "work_dir   = Path.home() / (\"projects/topic_model_example\")\n",
    "\n",
    "# plant science corpus with date and other info\n",
    "corpus_file = work_dir / \"corpus_plant_421658.tsv.gz\"\n",
    "\n",
    "# Species match data\n",
    "viridi_offspr_file = work_dir / \"viridiplantae_offspring_names.pickle\" \n",
    "match_csr_file     = work_dir / \"match_csr.pickle\"\n",
    "\n",
    "# BERT model to use\n",
    "model_name     = \"allenai/scibert_scivocab_uncased\"\n",
    "model_name_mod = \"-\".join(model_name.split(\"/\"))\n",
    "\n",
    "# the target term\n",
    "target = \"Arabidopsis\"\n",
    "\n",
    "## outputs for topic modeling\n",
    "# path for the corpus for the target (i.e., Arabidopsis)\n",
    "corpus_target_file = work_dir / \"corpus_arabidopsis.tsv.gz\"\n",
    "\n",
    "# generated during bertopic run\n",
    "docs_clean_file  = work_dir / f\"output/docs_clean_{target}.pickle\"\n",
    "emb_file         = work_dir / f\"output/embeddings_{target}_scibert.pickle\"\n",
    "topic_model_file = work_dir / f\"output/topic_model_{target}_{model_name_mod}\"\n",
    "topics_file      = work_dir / f\"output/topics_{target}_{model_name_mod}.pickle\"\n",
    "probs_file       = work_dir / f'output/probs_{target}_{model_name_mod}.pickle'\n",
    "topic_model_updated_file = work_dir / \\\n",
    "                              f\"output/topic_model_update_{target}_{model_name_mod}\"\n",
    "\n",
    "## outputs for topic model analysis\n",
    "top_50_terms_file = work_dir / f'output/top_50_terms_per_topic_{target}.pickle'\n",
    "top_50_terms_xlsx = work_dir / f'output/top_50_terms_per_topic_{target}.xlsx'\n",
    "topic_label_file  = work_dir / f\"output/topic_labels_{target}.txt\"\n",
    "rep_docs_file     = work_dir / f\"output/topic_rep_docs_{target}.tsv\"\n",
    "\n",
    "# Put the top 50 term info into different tsv files in the top_50 folder\n",
    "top_50_dir = work_dir / \"output/top_50\"\n",
    "top_50_dir.mkdir(parents=True, exist_ok=True)\n",
    "\n",
    "## output for topic over time analysis\n",
    "# Creat a folder to store c-tf-idf matrix for each timestamp bin\n",
    "ctfidf_dir = work_dir / \"output/ctfidf_over_time\"\n",
    "ctfidf_dir.mkdir(parents=True, exist_ok=True)\n",
    "\n",
    "# Create a folder to store topic over time graph for each topic\n",
    "tot_graph_dir = work_dir / 'output/tot_graphs'\n",
    "tot_graph_dir.mkdir(parents=True, exist_ok=True)\n",
    "\n",
    "# output for lowess fit\n",
    "dir_lowess = work_dir / \"output/_lowess\"\n",
    "dir_lowess.mkdir(parents=True, exist_ok=True)\n",
    "\n",
    "# for selected files\n",
    "dir_lowess_sel = dir_lowess / \"_selected\"\n",
    "dir_lowess_sel.mkdir(parents=True, exist_ok=True)\n",
    "\n",
    "# So PDF is saved properly\n",
    "mpl.rcParams['pdf.fonttype'] = 42\n",
    "plt.rcParams[\"font.family\"] = \"sans-serif\""
   ]
  },
  {
   "cell_type": "markdown",
   "metadata": {},
   "source": [
    "## Test Zone"
   ]
  },
  {
   "cell_type": "markdown",
   "metadata": {},
   "source": [
    "### Testing generate_embeddings.py"
   ]
  },
  {
   "cell_type": "code",
   "execution_count": 5,
   "metadata": {},
   "outputs": [],
   "source": [
    "tsv = \"/mnt/scratch/ande2472/rawpubmed/pubmed23n0001.xml.gz.parsed_tsv\"\n",
    "out = \"/mnt/scratch/ande2472/outtest2\""
   ]
  },
  {
   "cell_type": "code",
   "execution_count": 6,
   "metadata": {},
   "outputs": [],
   "source": [
    "output_dir = Path(out)\n",
    "tsvpath = Path(tsv)\n",
    "Tsvfile = tsvpath.stem"
   ]
  },
  {
   "cell_type": "code",
   "execution_count": 7,
   "metadata": {},
   "outputs": [
    {
     "data": {
      "text/plain": [
       "'pubmed23n0001.xml.gz'"
      ]
     },
     "execution_count": 7,
     "metadata": {},
     "output_type": "execute_result"
    }
   ],
   "source": [
    "Tsvfile"
   ]
  },
  {
   "cell_type": "code",
   "execution_count": 8,
   "metadata": {},
   "outputs": [],
   "source": [
    "output_dir_cleanfiles = output_dir / \"clean_files\"\n",
    "output_dir_genembed = output_dir / \"generated_embeddings\""
   ]
  },
  {
   "cell_type": "code",
   "execution_count": 9,
   "metadata": {},
   "outputs": [
    {
     "ename": "NameError",
     "evalue": "name 'filename' is not defined",
     "output_type": "error",
     "traceback": [
      "\u001b[0;31m---------------------------------------------------------------------------\u001b[0m",
      "\u001b[0;31mNameError\u001b[0m                                 Traceback (most recent call last)",
      "Cell \u001b[0;32mIn[9], line 1\u001b[0m\n\u001b[0;32m----> 1\u001b[0m docs_clean_file  \u001b[38;5;241m=\u001b[39m output_dir \u001b[38;5;241m/\u001b[39m \u001b[38;5;124mf\u001b[39m\u001b[38;5;124m\"\u001b[39m\u001b[38;5;124mclean_files/\u001b[39m\u001b[38;5;132;01m{\u001b[39;00m\u001b[43mfilename\u001b[49m\u001b[38;5;132;01m}\u001b[39;00m\u001b[38;5;124m_docs_clean.pickle\u001b[39m\u001b[38;5;124m\"\u001b[39m\n\u001b[1;32m      2\u001b[0m emb_file         \u001b[38;5;241m=\u001b[39m output_dir\u001b[38;5;241m/\u001b[39m \u001b[38;5;124mf\u001b[39m\u001b[38;5;124m\"\u001b[39m\u001b[38;5;124mgenerated_embeddings/\u001b[39m\u001b[38;5;132;01m{\u001b[39;00mfilename\u001b[38;5;132;01m}\u001b[39;00m\u001b[38;5;124m_embeddings_scibert.pickle\u001b[39m\u001b[38;5;124m\"\u001b[39m\n",
      "\u001b[0;31mNameError\u001b[0m: name 'filename' is not defined"
     ]
    }
   ],
   "source": [
    "docs_clean_file  = output_dir / f\"clean_files/{filename}_docs_clean.pickle\"\n",
    "emb_file         = output_dir/ f\"generated_embeddings/{filename}_embeddings_scibert.pickle\""
   ]
  },
  {
   "cell_type": "markdown",
   "metadata": {},
   "source": [
    "## Testing generatetopics.py"
   ]
  },
  {
   "cell_type": "code",
   "execution_count": 10,
   "metadata": {},
   "outputs": [
    {
     "ename": "FileNotFoundError",
     "evalue": "[Errno 2] No such file or directory: '/mnt/home/ande2472/data/generate_embeddings_output/generated_embeddings/pubmed23n0001_embeddings_scibert.pickle'",
     "output_type": "error",
     "traceback": [
      "\u001b[0;31m---------------------------------------------------------------------------\u001b[0m",
      "\u001b[0;31mFileNotFoundError\u001b[0m                         Traceback (most recent call last)",
      "Cell \u001b[0;32mIn[10], line 4\u001b[0m\n\u001b[1;32m      1\u001b[0m embpath \u001b[38;5;241m=\u001b[39m Path(\u001b[38;5;124m'\u001b[39m\u001b[38;5;124m/mnt/home/ande2472/data/generate_embeddings_output/clean_files/pubmed23n0001_docs_clean.pickle\u001b[39m\u001b[38;5;124m'\u001b[39m)\n\u001b[1;32m      2\u001b[0m embpath \u001b[38;5;241m=\u001b[39m Path(\u001b[38;5;124m'\u001b[39m\u001b[38;5;124m/mnt/home/ande2472/data/generate_embeddings_output/generated_embeddings/pubmed23n0001_embeddings_scibert.pickle\u001b[39m\u001b[38;5;124m'\u001b[39m)\n\u001b[0;32m----> 4\u001b[0m \u001b[38;5;28;01mwith\u001b[39;00m \u001b[38;5;28;43mopen\u001b[39;49m\u001b[43m(\u001b[49m\u001b[43membpath\u001b[49m\u001b[43m,\u001b[49m\u001b[43m \u001b[49m\u001b[38;5;124;43m\"\u001b[39;49m\u001b[38;5;124;43mrb\u001b[39;49m\u001b[38;5;124;43m\"\u001b[39;49m\u001b[43m)\u001b[49m \u001b[38;5;28;01mas\u001b[39;00m f:\n\u001b[1;32m      5\u001b[0m     embeddings \u001b[38;5;241m=\u001b[39m pickle\u001b[38;5;241m.\u001b[39mload(f)\n\u001b[1;32m      8\u001b[0m \u001b[38;5;28;01mwith\u001b[39;00m \u001b[38;5;28mopen\u001b[39m(cleanpath, \u001b[38;5;124m\"\u001b[39m\u001b[38;5;124mrb\u001b[39m\u001b[38;5;124m\"\u001b[39m) \u001b[38;5;28;01mas\u001b[39;00m f:\n",
      "File \u001b[0;32m~/miniconda3/envs/topic_model/lib/python3.11/site-packages/IPython/core/interactiveshell.py:286\u001b[0m, in \u001b[0;36m_modified_open\u001b[0;34m(file, *args, **kwargs)\u001b[0m\n\u001b[1;32m    279\u001b[0m \u001b[39mif\u001b[39;00m file \u001b[39min\u001b[39;00m {\u001b[39m0\u001b[39m, \u001b[39m1\u001b[39m, \u001b[39m2\u001b[39m}:\n\u001b[1;32m    280\u001b[0m     \u001b[39mraise\u001b[39;00m \u001b[39mValueError\u001b[39;00m(\n\u001b[1;32m    281\u001b[0m         \u001b[39mf\u001b[39m\u001b[39m\"\u001b[39m\u001b[39mIPython won\u001b[39m\u001b[39m'\u001b[39m\u001b[39mt let you open fd=\u001b[39m\u001b[39m{\u001b[39;00mfile\u001b[39m}\u001b[39;00m\u001b[39m by default \u001b[39m\u001b[39m\"\u001b[39m\n\u001b[1;32m    282\u001b[0m         \u001b[39m\"\u001b[39m\u001b[39mas it is likely to crash IPython. If you know what you are doing, \u001b[39m\u001b[39m\"\u001b[39m\n\u001b[1;32m    283\u001b[0m         \u001b[39m\"\u001b[39m\u001b[39myou can use builtins\u001b[39m\u001b[39m'\u001b[39m\u001b[39m open.\u001b[39m\u001b[39m\"\u001b[39m\n\u001b[1;32m    284\u001b[0m     )\n\u001b[0;32m--> 286\u001b[0m \u001b[39mreturn\u001b[39;00m io_open(file, \u001b[39m*\u001b[39;49margs, \u001b[39m*\u001b[39;49m\u001b[39m*\u001b[39;49mkwargs)\n",
      "\u001b[0;31mFileNotFoundError\u001b[0m: [Errno 2] No such file or directory: '/mnt/home/ande2472/data/generate_embeddings_output/generated_embeddings/pubmed23n0001_embeddings_scibert.pickle'"
     ]
    }
   ],
   "source": [
    "embpath = Path('/mnt/home/ande2472/data/generate_embeddings_output/clean_files/pubmed23n0001_docs_clean.pickle')\n",
    "embpath = Path('/mnt/home/ande2472/data/generate_embeddings_output/generated_embeddings/pubmed23n0001_embeddings_scibert.pickle')\n",
    "\n",
    "with open(embpath, \"rb\") as f:\n",
    "    embeddings = pickle.load(f)\n",
    "  \n",
    "\n",
    "with open(cleanpath, \"rb\") as f:\n",
    "    docs_clean = pickle.load(f)"
   ]
  },
  {
   "cell_type": "markdown",
   "metadata": {},
   "source": [
    "## Testing finding amount of NA's\n"
   ]
  },
  {
   "cell_type": "code",
   "execution_count": 11,
   "metadata": {},
   "outputs": [
    {
     "ename": "NameError",
     "evalue": "name 'ogpath' is not defined",
     "output_type": "error",
     "traceback": [
      "\u001b[0;31m---------------------------------------------------------------------------\u001b[0m",
      "\u001b[0;31mNameError\u001b[0m                                 Traceback (most recent call last)",
      "Cell \u001b[0;32mIn[11], line 1\u001b[0m\n\u001b[0;32m----> 1\u001b[0m path_to_originfile \u001b[38;5;241m=\u001b[39m \u001b[43mogpath\u001b[49m \u001b[38;5;241m/\u001b[39m ogfiles[\u001b[38;5;241m5\u001b[39m]\n\u001b[1;32m      2\u001b[0m original \u001b[38;5;241m=\u001b[39m pd\u001b[38;5;241m.\u001b[39mread_csv(path_to_originfile, sep\u001b[38;5;241m=\u001b[39m\u001b[38;5;124m'\u001b[39m\u001b[38;5;130;01m\\t\u001b[39;00m\u001b[38;5;124m'\u001b[39m)\n\u001b[1;32m      3\u001b[0m \u001b[38;5;66;03m#path_to_originfile\u001b[39;00m\n",
      "\u001b[0;31mNameError\u001b[0m: name 'ogpath' is not defined"
     ]
    }
   ],
   "source": [
    "path_to_originfile = ogpath / ogfiles[5]\n",
    "original = pd.read_csv(path_to_originfile, sep='\\t')\n",
    "#path_to_originfile"
   ]
  },
  {
   "cell_type": "code",
   "execution_count": 12,
   "metadata": {},
   "outputs": [
    {
     "ename": "FileNotFoundError",
     "evalue": "[Errno 2] No such file or directory: '/mnt/home/ande2472/data/generate_embeddings_output/clean_files'",
     "output_type": "error",
     "traceback": [
      "\u001b[0;31m---------------------------------------------------------------------------\u001b[0m",
      "\u001b[0;31mFileNotFoundError\u001b[0m                         Traceback (most recent call last)",
      "Cell \u001b[0;32mIn[12], line 3\u001b[0m\n\u001b[1;32m      1\u001b[0m cleanpath \u001b[38;5;241m=\u001b[39m Path(\u001b[38;5;124m'\u001b[39m\u001b[38;5;124m/mnt/home/ande2472/data/generate_embeddings_output/clean_files\u001b[39m\u001b[38;5;124m'\u001b[39m)\n\u001b[1;32m      2\u001b[0m ogpath \u001b[38;5;241m=\u001b[39m Path(\u001b[38;5;124m'\u001b[39m\u001b[38;5;124m/mnt/home/ande2472/data/parsed_tsv_files\u001b[39m\u001b[38;5;124m'\u001b[39m)\n\u001b[0;32m----> 3\u001b[0m cleanfiles \u001b[38;5;241m=\u001b[39m \u001b[43mos\u001b[49m\u001b[38;5;241;43m.\u001b[39;49m\u001b[43mlistdir\u001b[49m\u001b[43m(\u001b[49m\u001b[43mcleanpath\u001b[49m\u001b[43m)\u001b[49m\n\u001b[1;32m      4\u001b[0m ogfiles \u001b[38;5;241m=\u001b[39m os\u001b[38;5;241m.\u001b[39mlistdir(ogpath)\n\u001b[1;32m      5\u001b[0m num_files_removed \u001b[38;5;241m=\u001b[39m \u001b[38;5;241m0\u001b[39m\n",
      "\u001b[0;31mFileNotFoundError\u001b[0m: [Errno 2] No such file or directory: '/mnt/home/ande2472/data/generate_embeddings_output/clean_files'"
     ]
    }
   ],
   "source": [
    "cleanpath = Path('/mnt/home/ande2472/data/generate_embeddings_output/clean_files')\n",
    "ogpath = Path('/mnt/home/ande2472/data/parsed_tsv_files')\n",
    "cleanfiles = os.listdir(cleanpath)\n",
    "ogfiles = os.listdir(ogpath)\n",
    "num_files_removed = 0\n",
    "files_removed = np.zeros(len(cleanfiles))\n",
    "for i in range(len(cleanfiles)):\n",
    "    path_to_cleanfile = cleanpath / cleanfiles[i]\n",
    "    path_to_originfile = ogpath / ogfiles[i]\n",
    "    try:\n",
    "        original = pd.read_csv(path_to_originfile, sep='\\t')\n",
    "        with open(path_to_cleanfile, \"rb\") as f:\n",
    "            clean = pickle.load(f)\n",
    "        \n",
    "        removed = len(original) - len(clean)\n",
    "        files_removed[i] = removed\n",
    "        num_files_removed += removed\n",
    "    except:\n",
    "        print(f\"Problem with {ogfiles[i]}. Skipping...\")\n"
   ]
  },
  {
   "cell_type": "code",
   "execution_count": 26,
   "metadata": {},
   "outputs": [
    {
     "data": {
      "text/plain": [
       "10714328"
      ]
     },
     "execution_count": 26,
     "metadata": {},
     "output_type": "execute_result"
    }
   ],
   "source": [
    "num_files_removed"
   ]
  },
  {
   "cell_type": "code",
   "execution_count": 5,
   "metadata": {},
   "outputs": [],
   "source": [
    "ogpath = Path('/mnt/home/ande2472/data/parsed_tsv_files/pubmed23n0001.tsv')\n",
    "docs_og = pd.read_csv(ogpath, sep='\\t')"
   ]
  },
  {
   "cell_type": "code",
   "execution_count": 7,
   "metadata": {},
   "outputs": [
    {
     "data": {
      "text/plain": [
       "15358"
      ]
     },
     "execution_count": 7,
     "metadata": {},
     "output_type": "execute_result"
    }
   ],
   "source": [
    "len(docs_clean)"
   ]
  },
  {
   "cell_type": "code",
   "execution_count": 8,
   "metadata": {},
   "outputs": [
    {
     "data": {
      "text/plain": [
       "29937"
      ]
     },
     "execution_count": 8,
     "metadata": {},
     "output_type": "execute_result"
    }
   ],
   "source": [
    "len(docs_og)"
   ]
  },
  {
   "cell_type": "markdown",
   "metadata": {},
   "source": [
    "## Testing combineembeddings"
   ]
  },
  {
   "cell_type": "code",
   "execution_count": 13,
   "metadata": {},
   "outputs": [],
   "source": [
    "embdir = Path('/home/ande2472/data/generate_embeddings_output/generated_embeddings/')\n",
    "cleandir = Path('/home/ande2472/data/generate_embeddings_output/clean_files/')"
   ]
  },
  {
   "cell_type": "markdown",
   "metadata": {},
   "source": [
    "### random assignment"
   ]
  },
  {
   "cell_type": "code",
   "execution_count": 14,
   "metadata": {},
   "outputs": [
    {
     "name": "stdout",
     "output_type": "stream",
     "text": [
      "Adding pubmed23n0021_embeddings_scibert.pickle and pubmed23n0021_docs_clean.pickle to combined file...\n",
      "emb shape: (12372, 768)\n",
      "Adding pubmed23n0033_embeddings_scibert.pickle and pubmed23n0033_docs_clean.pickle to combined file...\n",
      "emb shape: (12809, 768)\n",
      "Adding pubmed23n0065_embeddings_scibert.pickle and pubmed23n0065_docs_clean.pickle to combined file...\n",
      "emb shape: (21001, 768)\n",
      "Adding pubmed23n0671_embeddings_scibert.pickle and pubmed23n0671_docs_clean.pickle to combined file...\n",
      "emb shape: (25178, 768)\n"
     ]
    }
   ],
   "source": [
    "from os import listdir\n",
    "import random\n",
    "num = 4\n",
    "embfiles = listdir(embdir)\n",
    "embfiles.sort()\n",
    "cleanfiles = listdir(cleandir)\n",
    "cleanfiles.sort()\n",
    "\n",
    "#read in files and combine\n",
    "\n",
    "combined_embeddings = None\n",
    "combined_cleanfiles = []\n",
    "\n",
    "for i in range(num):\n",
    "    value = random.randint(0,len(embfiles))\n",
    "    embfile = embdir / embfiles[value]\n",
    "    cleanfile = cleandir / cleanfiles[value]\n",
    "    print(f'Adding {embfiles[value]} and {cleanfiles[value]} to combined file...')\n",
    "    with open(cleanfile, \"rb\") as f:\n",
    "        clean = pickle.load(f)\n",
    "    with open(embfile, \"rb\") as f:\n",
    "        emb = pickle.load(f)\n",
    "    print(f\"emb shape: {emb.shape}\")\n",
    "    if combined_embeddings is None:\n",
    "        combined_embeddings = emb\n",
    "    else:\n",
    "        combined_embeddings = np.concatenate((combined_embeddings, emb))\n",
    "    \n",
    "    combined_cleanfiles += clean"
   ]
  },
  {
   "cell_type": "markdown",
   "metadata": {},
   "source": [
    "### ordered assignment"
   ]
  },
  {
   "cell_type": "code",
   "execution_count": 23,
   "metadata": {},
   "outputs": [
    {
     "name": "stderr",
     "output_type": "stream",
     "text": [
      "  6%|▋         | 1/16 [00:01<00:18,  1.26s/it]"
     ]
    },
    {
     "name": "stdout",
     "output_type": "stream",
     "text": [
      "emb shape: (32640, 768)\n",
      "emb shape: (33064, 768)\n"
     ]
    },
    {
     "name": "stderr",
     "output_type": "stream",
     "text": [
      " 19%|█▉        | 3/16 [00:03<00:15,  1.21s/it]"
     ]
    },
    {
     "name": "stdout",
     "output_type": "stream",
     "text": [
      "emb shape: (33453, 768)\n",
      "emb shape: (33299, 768)\n"
     ]
    },
    {
     "name": "stderr",
     "output_type": "stream",
     "text": [
      " 31%|███▏      | 5/16 [00:06<00:13,  1.23s/it]"
     ]
    },
    {
     "name": "stdout",
     "output_type": "stream",
     "text": [
      "emb shape: (33284, 768)\n",
      "emb shape: (33237, 768)\n"
     ]
    },
    {
     "name": "stderr",
     "output_type": "stream",
     "text": [
      " 44%|████▍     | 7/16 [00:10<00:14,  1.64s/it]"
     ]
    },
    {
     "name": "stdout",
     "output_type": "stream",
     "text": [
      "emb shape: (32542, 768)\n",
      "emb shape: (33665, 768)\n"
     ]
    },
    {
     "name": "stderr",
     "output_type": "stream",
     "text": [
      " 56%|█████▋    | 9/16 [00:12<00:09,  1.37s/it]"
     ]
    },
    {
     "name": "stdout",
     "output_type": "stream",
     "text": [
      "emb shape: (32826, 768)\n",
      "emb shape: (32960, 768)\n"
     ]
    },
    {
     "name": "stderr",
     "output_type": "stream",
     "text": [
      " 69%|██████▉   | 11/16 [00:15<00:06,  1.26s/it]"
     ]
    },
    {
     "name": "stdout",
     "output_type": "stream",
     "text": [
      "emb shape: (32526, 768)\n"
     ]
    },
    {
     "name": "stderr",
     "output_type": "stream",
     "text": [
      " 75%|███████▌  | 12/16 [00:21<00:11,  2.90s/it]"
     ]
    },
    {
     "name": "stdout",
     "output_type": "stream",
     "text": [
      "emb shape: (32827, 768)\n",
      "emb shape: (35276, 768)\n"
     ]
    },
    {
     "name": "stderr",
     "output_type": "stream",
     "text": [
      " 88%|████████▊ | 14/16 [00:23<00:03,  1.98s/it]"
     ]
    },
    {
     "name": "stdout",
     "output_type": "stream",
     "text": [
      "emb shape: (29214, 768)\n"
     ]
    },
    {
     "name": "stderr",
     "output_type": "stream",
     "text": [
      " 94%|█████████▍| 15/16 [00:25<00:01,  1.76s/it]"
     ]
    },
    {
     "name": "stdout",
     "output_type": "stream",
     "text": [
      "emb shape: (32092, 768)\n"
     ]
    },
    {
     "name": "stderr",
     "output_type": "stream",
     "text": [
      "100%|██████████| 16/16 [00:26<00:00,  1.63s/it]"
     ]
    }
   ],
   "source": [
    "from os import listdir\n",
    "#embdir = Path('/home/ande2472/data/generate_embeddings_output/generated_embeddings/')\n",
    "#cleandir = Path('/home/ande2472/data/generate_embeddings_output/clean_files/')\n",
    "num = 4\n",
    "output = Path('/mnt/home/ande2472/data/generate_embeddings_v2')\n",
    "\n",
    "cleandir = Path('/mnt/home/ande2472/data/generate_embeddings_v2/clean_files/')\n",
    "embdir = Path('/mnt/home/ande2472/data/generate_embeddings_v2/generated_embeddings/')\n",
    "\n",
    "def combineemb(embdir, cleandir, num, startcount=None, output=None, save=False):\n",
    "\n",
    "    if output is not None: \n",
    "        embout = output / f'ordered_{num}_emb_combined.pickle'\n",
    "        cleanout = output / f'ordered_{num}_clean_combined.pickle'\n",
    "\n",
    "\n",
    "    embfiles = listdir(embdir)\n",
    "    embfiles.sort(key=lambda x: int(x.split('_')[0]))\n",
    "    cleanfiles = listdir(cleandir)\n",
    "    cleanfiles.sort(key=lambda x: int(x.split('_')[0]))\n",
    "\n",
    "    #read in files and combine\n",
    "\n",
    "\n",
    "    combined_embeddings = []\n",
    "    combined_cleanfiles = []\n",
    "    if startcount == None:\n",
    "        #value =len(embfiles) - 1\n",
    "        value = 0\n",
    "    else:\n",
    "        value = startcount\n",
    "\n",
    "    for i in tqdm(range(num)):\n",
    "        #value = random.randint(0,len(embfiles))\n",
    "        \n",
    "\n",
    "        embfile = embdir / embfiles[value]\n",
    "        cleanfile = cleandir / cleanfiles[value]\n",
    "        #print(f'Adding {embfiles[value]} and {cleanfiles[value]} to combined file...')\n",
    "        with open(cleanfile, \"rb\") as f:\n",
    "            clean = pickle.load(f)\n",
    "        with open(embfile, \"rb\") as f:\n",
    "            embog = pickle.load(f)\n",
    "       # print(f\"emb shape: {embog.shape}\")\n",
    "        emb = embog.tolist()\n",
    "        if combined_embeddings is None:\n",
    "            combined_embeddings = emb\n",
    "        else:\n",
    "           # combined_embeddings = np.concatenate((combined_embeddings, emb))\n",
    "           combined_embeddings += emb\n",
    "         \n",
    "        #value = value - 1\n",
    "        value = value + 1\n",
    "        \n",
    "        combined_cleanfiles += clean\n",
    "        \n",
    "        \n",
    "    matrix = np.array(combined_embeddings)\n",
    "        \n",
    "    if save == True:\n",
    "            with open(embout, \"wb\") as f:\n",
    "              pickle.dump(combined_embeddings, f)\n",
    "            with open(cleanout, \"wb\") as f:\n",
    "               pickle.dump(combined_cleanfiles, f)\n",
    "            print(f\"Combined data saved to {output}\")\n",
    "\n",
    "    print(f\"Total records: {len(combined_cleanfiles)}\")    \n",
    "    return combined_cleanfiles, matrix\n",
    "\n",
    "\n",
    "\n",
    "\n",
    "clean16,emb16 = combineemb(embdir,cleandir,16)\n",
    "\n",
    "\n",
    "\n",
    "\n",
    "\n",
    "\n",
    "\n",
    "# print(f\"Combined data saved to {output}\")\n"
   ]
  },
  {
   "cell_type": "code",
   "execution_count": 21,
   "metadata": {},
   "outputs": [],
   "source": [
    "def combineembog(embdir, cleandir, num, startcount=None, output=None, save=False):\n",
    "\n",
    "    if output is not None: \n",
    "        embout = output / f'ordered_{num}_emb_combined.pickle'\n",
    "        cleanout = output / f'ordered_{num}_clean_combined.pickle'\n",
    "\n",
    "\n",
    "    embfiles = listdir(embdir)\n",
    "    embfiles.sort(key=lambda x: int(x.split('_')[0]))\n",
    "    cleanfiles = listdir(cleandir)\n",
    "    cleanfiles.sort(key=lambda x: int(x.split('_')[0]))\n",
    "\n",
    "    #read in files and combine\n",
    "\n",
    "\n",
    "    combined_embeddings = None\n",
    "    combined_cleanfiles = []\n",
    "    #value =len(embfiles) - 1\n",
    "    value = 0\n",
    "    for i in tqdm(range(num)):\n",
    "        #value = random.randint(0,len(embfiles))\n",
    "        \n",
    " \n",
    "        embfile = embdir / embfiles[value]\n",
    "        cleanfile = cleandir / cleanfiles[value]\n",
    "        print(f'Adding {embfiles[value]} and {cleanfiles[value]} to combined file...')\n",
    "        with open(cleanfile, \"rb\") as f:\n",
    "            clean = pickle.load(f)\n",
    "        with open(embfile, \"rb\") as f:\n",
    "            emb = pickle.load(f)\n",
    "        print(f\"emb shape: {emb.shape}\")\n",
    "        if combined_embeddings is None:\n",
    "            combined_embeddings = emb\n",
    "        else:\n",
    "            combined_embeddings = np.concatenate((combined_embeddings, emb))\n",
    "        \n",
    "        #value = value - 1\n",
    "        value = value + 1\n",
    "        \n",
    "        combined_cleanfiles += clean\n",
    "        \n",
    "        \n",
    "    matrix = np.array(combined_embeddings)\n",
    "        \n",
    "    if save == True:\n",
    "            with open(embout, \"wb\") as f:\n",
    "              pickle.dump(combined_embeddings, f)\n",
    "            with open(cleanout, \"wb\") as f:\n",
    "               pickle.dump(combined_cleanfiles, f)\n",
    "            print(f\"Combined data saved to {output}\")\n",
    "\n",
    "    print(f\"Total records: {len(combined_cleanfiles)}\")    \n",
    "    return combined_cleanfiles, combined_embeddings"
   ]
  },
  {
   "cell_type": "code",
   "execution_count": 22,
   "metadata": {},
   "outputs": [
    {
     "name": "stderr",
     "output_type": "stream",
     "text": [
      "  6%|▋         | 1/16 [00:00<00:03,  4.98it/s]"
     ]
    },
    {
     "name": "stdout",
     "output_type": "stream",
     "text": [
      "Adding 0_ordered_embeddings_scibert.pickle and 0_ordered_docs_clean.pickle to combined file...\n",
      "emb shape: (32640, 768)\n",
      "Adding 1_ordered_embeddings_scibert.pickle and 1_ordered_docs_clean.pickle to combined file...\n",
      "emb shape: (33064, 768)\n"
     ]
    },
    {
     "name": "stderr",
     "output_type": "stream",
     "text": [
      " 12%|█▎        | 2/16 [00:00<00:03,  3.52it/s]"
     ]
    },
    {
     "name": "stdout",
     "output_type": "stream",
     "text": [
      "Adding 2_ordered_embeddings_scibert.pickle and 2_ordered_docs_clean.pickle to combined file...\n",
      "emb shape: (33453, 768)\n"
     ]
    },
    {
     "name": "stderr",
     "output_type": "stream",
     "text": [
      " 19%|█▉        | 3/16 [00:00<00:04,  3.09it/s]"
     ]
    },
    {
     "name": "stdout",
     "output_type": "stream",
     "text": [
      "Adding 3_ordered_embeddings_scibert.pickle and 3_ordered_docs_clean.pickle to combined file...\n",
      "emb shape: (33299, 768)\n"
     ]
    },
    {
     "name": "stderr",
     "output_type": "stream",
     "text": [
      " 25%|██▌       | 4/16 [00:01<00:04,  2.80it/s]"
     ]
    },
    {
     "name": "stdout",
     "output_type": "stream",
     "text": [
      "Adding 4_ordered_embeddings_scibert.pickle and 4_ordered_docs_clean.pickle to combined file...\n",
      "emb shape: (33284, 768)\n"
     ]
    },
    {
     "name": "stderr",
     "output_type": "stream",
     "text": [
      " 31%|███▏      | 5/16 [00:01<00:04,  2.45it/s]"
     ]
    },
    {
     "name": "stdout",
     "output_type": "stream",
     "text": [
      "Adding 5_ordered_embeddings_scibert.pickle and 5_ordered_docs_clean.pickle to combined file...\n",
      "emb shape: (33237, 768)\n"
     ]
    },
    {
     "name": "stderr",
     "output_type": "stream",
     "text": [
      " 38%|███▊      | 6/16 [00:02<00:04,  2.00it/s]"
     ]
    },
    {
     "name": "stdout",
     "output_type": "stream",
     "text": [
      "Adding 6_ordered_embeddings_scibert.pickle and 6_ordered_docs_clean.pickle to combined file...\n",
      "emb shape: (32542, 768)\n"
     ]
    },
    {
     "name": "stderr",
     "output_type": "stream",
     "text": [
      " 44%|████▍     | 7/16 [00:03<00:05,  1.73it/s]"
     ]
    },
    {
     "name": "stdout",
     "output_type": "stream",
     "text": [
      "Adding 7_ordered_embeddings_scibert.pickle and 7_ordered_docs_clean.pickle to combined file...\n",
      "emb shape: (33665, 768)\n"
     ]
    },
    {
     "name": "stderr",
     "output_type": "stream",
     "text": [
      " 50%|█████     | 8/16 [00:04<00:05,  1.50it/s]"
     ]
    },
    {
     "name": "stdout",
     "output_type": "stream",
     "text": [
      "Adding 8_ordered_embeddings_scibert.pickle and 8_ordered_docs_clean.pickle to combined file...\n",
      "emb shape: (32826, 768)\n"
     ]
    },
    {
     "name": "stderr",
     "output_type": "stream",
     "text": [
      " 56%|█████▋    | 9/16 [00:05<00:05,  1.32it/s]"
     ]
    },
    {
     "name": "stdout",
     "output_type": "stream",
     "text": [
      "Adding 9_ordered_embeddings_scibert.pickle and 9_ordered_docs_clean.pickle to combined file...\n",
      "emb shape: (32960, 768)\n"
     ]
    },
    {
     "name": "stderr",
     "output_type": "stream",
     "text": [
      " 62%|██████▎   | 10/16 [00:05<00:04,  1.24it/s]"
     ]
    },
    {
     "name": "stdout",
     "output_type": "stream",
     "text": [
      "Adding 10_ordered_embeddings_scibert.pickle and 10_ordered_docs_clean.pickle to combined file...\n",
      "emb shape: (32526, 768)\n"
     ]
    },
    {
     "name": "stderr",
     "output_type": "stream",
     "text": [
      " 69%|██████▉   | 11/16 [00:07<00:04,  1.09it/s]"
     ]
    },
    {
     "name": "stdout",
     "output_type": "stream",
     "text": [
      "Adding 11_ordered_embeddings_scibert.pickle and 11_ordered_docs_clean.pickle to combined file...\n",
      "emb shape: (32827, 768)\n"
     ]
    },
    {
     "name": "stderr",
     "output_type": "stream",
     "text": [
      " 75%|███████▌  | 12/16 [00:08<00:03,  1.03it/s]"
     ]
    },
    {
     "name": "stdout",
     "output_type": "stream",
     "text": [
      "Adding 12_ordered_embeddings_scibert.pickle and 12_ordered_docs_clean.pickle to combined file...\n",
      "emb shape: (35276, 768)\n"
     ]
    },
    {
     "name": "stderr",
     "output_type": "stream",
     "text": [
      " 81%|████████▏ | 13/16 [00:09<00:03,  1.01s/it]"
     ]
    },
    {
     "name": "stdout",
     "output_type": "stream",
     "text": [
      "Adding 13_ordered_embeddings_scibert.pickle and 13_ordered_docs_clean.pickle to combined file...\n",
      "emb shape: (29214, 768)\n"
     ]
    },
    {
     "name": "stderr",
     "output_type": "stream",
     "text": [
      " 88%|████████▊ | 14/16 [00:10<00:02,  1.10s/it]"
     ]
    },
    {
     "name": "stdout",
     "output_type": "stream",
     "text": [
      "Adding 14_ordered_embeddings_scibert.pickle and 14_ordered_docs_clean.pickle to combined file...\n",
      "emb shape: (32092, 768)\n"
     ]
    },
    {
     "name": "stderr",
     "output_type": "stream",
     "text": [
      " 94%|█████████▍| 15/16 [00:12<00:01,  1.30s/it]"
     ]
    },
    {
     "name": "stdout",
     "output_type": "stream",
     "text": [
      "Adding 15_ordered_embeddings_scibert.pickle and 15_ordered_docs_clean.pickle to combined file...\n",
      "emb shape: (34506, 768)\n"
     ]
    },
    {
     "name": "stderr",
     "output_type": "stream",
     "text": [
      "100%|██████████| 16/16 [00:13<00:00,  1.16it/s]\n"
     ]
    },
    {
     "name": "stdout",
     "output_type": "stream",
     "text": [
      "Total records: 527411\n"
     ]
    }
   ],
   "source": [
    "clean16,emb16 = combineembog(embdir,cleandir,16)"
   ]
  },
  {
   "cell_type": "code",
   "execution_count": 11,
   "metadata": {},
   "outputs": [
    {
     "data": {
      "text/plain": [
       "560000"
      ]
     },
     "execution_count": 11,
     "metadata": {},
     "output_type": "execute_result"
    }
   ],
   "source": [
    "35000*16"
   ]
  },
  {
   "cell_type": "code",
   "execution_count": 10,
   "metadata": {},
   "outputs": [
    {
     "data": {
      "text/plain": [
       "(527411, 768)"
      ]
     },
     "execution_count": 10,
     "metadata": {},
     "output_type": "execute_result"
    }
   ],
   "source": [
    "emb16.shape"
   ]
  },
  {
   "cell_type": "code",
   "execution_count": 22,
   "metadata": {},
   "outputs": [
    {
     "data": {
      "text/plain": [
       "1147"
      ]
     },
     "execution_count": 22,
     "metadata": {},
     "output_type": "execute_result"
    }
   ],
   "source": [
    "embfiles = listdir(embdir)\n",
    "embfiles.sort()\n",
    "cleanfiles = listdir(cleandir)\n",
    "cleanfiles.sort()\n",
    "len(embfiles)"
   ]
  },
  {
   "cell_type": "code",
   "execution_count": 29,
   "metadata": {},
   "outputs": [
    {
     "data": {
      "text/plain": [
       "(401830, 401830)"
      ]
     },
     "execution_count": 29,
     "metadata": {},
     "output_type": "execute_result"
    }
   ],
   "source": [
    "len(emb16), len(clean16part1)+len(clean16part2)+len(clean16part3)+len(clean16part4)"
   ]
  },
  {
   "cell_type": "code",
   "execution_count": 46,
   "metadata": {},
   "outputs": [],
   "source": [
    "embedding_components = [filename.split('_')[0] for filename in embfiles]\n",
    "clean_components = [filename.split('_')[0] for filename in cleanfiles]\n",
    "\n",
    "clean_set = set(clean_components)\n",
    "emb_set = set(embedding_components)\n",
    "\n",
    "missing_in_clean = clean_set - emb_set\n",
    "missing_in_emb = emb_set-clean_set"
   ]
  },
  {
   "cell_type": "code",
   "execution_count": 47,
   "metadata": {},
   "outputs": [
    {
     "data": {
      "text/plain": [
       "set()"
      ]
     },
     "execution_count": 47,
     "metadata": {},
     "output_type": "execute_result"
    }
   ],
   "source": [
    "missing_in_clean"
   ]
  },
  {
   "cell_type": "code",
   "execution_count": 43,
   "metadata": {},
   "outputs": [
    {
     "data": {
      "text/plain": [
       "set()"
      ]
     },
     "execution_count": 43,
     "metadata": {},
     "output_type": "execute_result"
    }
   ],
   "source": [
    "missing_in_emb"
   ]
  },
  {
   "cell_type": "code",
   "execution_count": 38,
   "metadata": {},
   "outputs": [
    {
     "data": {
      "text/plain": [
       "{'pubmed23n1112_docs_clean.pickle',\n",
       " 'pubmed23n0176_docs_clean.pickle',\n",
       " 'pubmed23n0991_docs_clean.pickle',\n",
       " 'pubmed23n0914_docs_clean.pickle',\n",
       " 'pubmed23n1110_docs_clean.pickle',\n",
       " 'pubmed23n0297_docs_clean.pickle',\n",
       " 'pubmed23n0433_docs_clean.pickle',\n",
       " 'pubmed23n0610_docs_clean.pickle',\n",
       " 'pubmed23n0004_docs_clean.pickle',\n",
       " 'pubmed23n0843_docs_clean.pickle',\n",
       " 'pubmed23n0715_docs_clean.pickle',\n",
       " 'pubmed23n0317_docs_clean.pickle',\n",
       " 'pubmed23n0414_docs_clean.pickle',\n",
       " 'pubmed23n0776_docs_clean.pickle',\n",
       " 'pubmed23n0287_docs_clean.pickle',\n",
       " 'pubmed23n0837_docs_clean.pickle',\n",
       " 'pubmed23n0305_docs_clean.pickle',\n",
       " 'pubmed23n0720_docs_clean.pickle',\n",
       " 'pubmed23n0154_docs_clean.pickle',\n",
       " 'pubmed23n0239_docs_clean.pickle',\n",
       " 'pubmed23n1151_docs_clean.pickle',\n",
       " 'pubmed23n0669_docs_clean.pickle',\n",
       " 'pubmed23n0453_docs_clean.pickle',\n",
       " 'pubmed23n0443_docs_clean.pickle',\n",
       " 'pubmed23n1122_docs_clean.pickle',\n",
       " 'pubmed23n0200_docs_clean.pickle',\n",
       " 'pubmed23n0260_docs_clean.pickle',\n",
       " 'pubmed23n0248_docs_clean.pickle',\n",
       " 'pubmed23n1133_docs_clean.pickle',\n",
       " 'pubmed23n0857_docs_clean.pickle',\n",
       " 'pubmed23n0318_docs_clean.pickle',\n",
       " 'pubmed23n1024_docs_clean.pickle',\n",
       " 'pubmed23n0380_docs_clean.pickle',\n",
       " 'pubmed23n0245_docs_clean.pickle',\n",
       " 'pubmed23n0713_docs_clean.pickle',\n",
       " 'pubmed23n0382_docs_clean.pickle',\n",
       " 'pubmed23n0434_docs_clean.pickle',\n",
       " 'pubmed23n0546_docs_clean.pickle',\n",
       " 'pubmed23n0650_docs_clean.pickle',\n",
       " 'pubmed23n0708_docs_clean.pickle',\n",
       " 'pubmed23n0387_docs_clean.pickle',\n",
       " 'pubmed23n0422_docs_clean.pickle',\n",
       " 'pubmed23n0586_docs_clean.pickle',\n",
       " 'pubmed23n0279_docs_clean.pickle',\n",
       " 'pubmed23n0793_docs_clean.pickle',\n",
       " 'pubmed23n1056_docs_clean.pickle',\n",
       " 'pubmed23n1142_docs_clean.pickle',\n",
       " 'pubmed23n0928_docs_clean.pickle',\n",
       " 'pubmed23n0141_docs_clean.pickle',\n",
       " 'pubmed23n0115_docs_clean.pickle',\n",
       " 'pubmed23n0133_docs_clean.pickle',\n",
       " 'pubmed23n0582_docs_clean.pickle',\n",
       " 'pubmed23n1078_docs_clean.pickle',\n",
       " 'pubmed23n0921_docs_clean.pickle',\n",
       " 'pubmed23n0571_docs_clean.pickle',\n",
       " 'pubmed23n0258_docs_clean.pickle',\n",
       " 'pubmed23n0899_docs_clean.pickle',\n",
       " 'pubmed23n0979_docs_clean.pickle',\n",
       " 'pubmed23n0773_docs_clean.pickle',\n",
       " 'pubmed23n0229_docs_clean.pickle',\n",
       " 'pubmed23n0292_docs_clean.pickle',\n",
       " 'pubmed23n0511_docs_clean.pickle',\n",
       " 'pubmed23n0310_docs_clean.pickle',\n",
       " 'pubmed23n0825_docs_clean.pickle',\n",
       " 'pubmed23n1129_docs_clean.pickle',\n",
       " 'pubmed23n0919_docs_clean.pickle',\n",
       " 'pubmed23n1063_docs_clean.pickle',\n",
       " 'pubmed23n0353_docs_clean.pickle',\n",
       " 'pubmed23n0378_docs_clean.pickle',\n",
       " 'pubmed23n0166_docs_clean.pickle',\n",
       " 'pubmed23n0232_docs_clean.pickle',\n",
       " 'pubmed23n0159_docs_clean.pickle',\n",
       " 'pubmed23n0634_docs_clean.pickle',\n",
       " 'pubmed23n0984_docs_clean.pickle',\n",
       " 'pubmed23n0493_docs_clean.pickle',\n",
       " 'pubmed23n0629_docs_clean.pickle',\n",
       " 'pubmed23n0686_docs_clean.pickle',\n",
       " 'pubmed23n1038_docs_clean.pickle',\n",
       " 'pubmed23n1105_docs_clean.pickle',\n",
       " 'pubmed23n0267_docs_clean.pickle',\n",
       " 'pubmed23n0002_docs_clean.pickle',\n",
       " 'pubmed23n0337_docs_clean.pickle',\n",
       " 'pubmed23n0010_docs_clean.pickle',\n",
       " 'pubmed23n0531_docs_clean.pickle',\n",
       " 'pubmed23n0976_docs_clean.pickle',\n",
       " 'pubmed23n0544_docs_clean.pickle',\n",
       " 'pubmed23n1109_docs_clean.pickle',\n",
       " 'pubmed23n1034_docs_clean.pickle',\n",
       " 'pubmed23n0213_docs_clean.pickle',\n",
       " 'pubmed23n0611_docs_clean.pickle',\n",
       " 'pubmed23n0760_docs_clean.pickle',\n",
       " 'pubmed23n0679_docs_clean.pickle',\n",
       " 'pubmed23n0791_docs_clean.pickle',\n",
       " 'pubmed23n1124_docs_clean.pickle',\n",
       " 'pubmed23n0308_docs_clean.pickle',\n",
       " 'pubmed23n0199_docs_clean.pickle',\n",
       " 'pubmed23n0421_docs_clean.pickle',\n",
       " 'pubmed23n0427_docs_clean.pickle',\n",
       " 'pubmed23n0785_docs_clean.pickle',\n",
       " 'pubmed23n1145_docs_clean.pickle',\n",
       " 'pubmed23n0701_docs_clean.pickle',\n",
       " 'pubmed23n0743_docs_clean.pickle',\n",
       " 'pubmed23n0897_docs_clean.pickle',\n",
       " 'pubmed23n0780_docs_clean.pickle',\n",
       " 'pubmed23n0191_docs_clean.pickle',\n",
       " 'pubmed23n1083_docs_clean.pickle',\n",
       " 'pubmed23n0888_docs_clean.pickle',\n",
       " 'pubmed23n1104_docs_clean.pickle',\n",
       " 'pubmed23n1117_docs_clean.pickle',\n",
       " 'pubmed23n0525_docs_clean.pickle',\n",
       " 'pubmed23n0091_docs_clean.pickle',\n",
       " 'pubmed23n0442_docs_clean.pickle',\n",
       " 'pubmed23n0065_docs_clean.pickle',\n",
       " 'pubmed23n1147_docs_clean.pickle',\n",
       " 'pubmed23n0211_docs_clean.pickle',\n",
       " 'pubmed23n0963_docs_clean.pickle',\n",
       " 'pubmed23n0871_docs_clean.pickle',\n",
       " 'pubmed23n0589_docs_clean.pickle',\n",
       " 'pubmed23n0121_docs_clean.pickle',\n",
       " 'pubmed23n0500_docs_clean.pickle',\n",
       " 'pubmed23n0712_docs_clean.pickle',\n",
       " 'pubmed23n0309_docs_clean.pickle',\n",
       " 'pubmed23n0608_docs_clean.pickle',\n",
       " 'pubmed23n0642_docs_clean.pickle',\n",
       " 'pubmed23n0060_docs_clean.pickle',\n",
       " 'pubmed23n0630_docs_clean.pickle',\n",
       " 'pubmed23n1126_docs_clean.pickle',\n",
       " 'pubmed23n0561_docs_clean.pickle',\n",
       " 'pubmed23n1006_docs_clean.pickle',\n",
       " 'pubmed23n0659_docs_clean.pickle',\n",
       " 'pubmed23n0001_docs_clean.pickle',\n",
       " 'pubmed23n0412_docs_clean.pickle',\n",
       " 'pubmed23n0935_docs_clean.pickle',\n",
       " 'pubmed23n0964_docs_clean.pickle',\n",
       " 'pubmed23n0415_docs_clean.pickle',\n",
       " 'pubmed23n0222_docs_clean.pickle',\n",
       " 'pubmed23n0357_docs_clean.pickle',\n",
       " 'pubmed23n0037_docs_clean.pickle',\n",
       " 'pubmed23n0739_docs_clean.pickle',\n",
       " 'pubmed23n0350_docs_clean.pickle',\n",
       " 'pubmed23n0896_docs_clean.pickle',\n",
       " 'pubmed23n0124_docs_clean.pickle',\n",
       " 'pubmed23n0692_docs_clean.pickle',\n",
       " 'pubmed23n0081_docs_clean.pickle',\n",
       " 'pubmed23n0326_docs_clean.pickle',\n",
       " 'pubmed23n0274_docs_clean.pickle',\n",
       " 'pubmed23n1119_docs_clean.pickle',\n",
       " 'pubmed23n0835_docs_clean.pickle',\n",
       " 'pubmed23n1051_docs_clean.pickle',\n",
       " 'pubmed23n0187_docs_clean.pickle',\n",
       " 'pubmed23n0246_docs_clean.pickle',\n",
       " 'pubmed23n0933_docs_clean.pickle',\n",
       " 'pubmed23n0947_docs_clean.pickle',\n",
       " 'pubmed23n1143_docs_clean.pickle',\n",
       " 'pubmed23n0543_docs_clean.pickle',\n",
       " 'pubmed23n0765_docs_clean.pickle',\n",
       " 'pubmed23n0417_docs_clean.pickle',\n",
       " 'pubmed23n0499_docs_clean.pickle',\n",
       " 'pubmed23n0968_docs_clean.pickle',\n",
       " 'pubmed23n0975_docs_clean.pickle',\n",
       " 'pubmed23n0194_docs_clean.pickle',\n",
       " 'pubmed23n0514_docs_clean.pickle',\n",
       " 'pubmed23n0678_docs_clean.pickle',\n",
       " 'pubmed23n0722_docs_clean.pickle',\n",
       " 'pubmed23n0872_docs_clean.pickle',\n",
       " 'pubmed23n1030_docs_clean.pickle',\n",
       " 'pubmed23n0197_docs_clean.pickle',\n",
       " 'pubmed23n0218_docs_clean.pickle',\n",
       " 'pubmed23n0556_docs_clean.pickle',\n",
       " 'pubmed23n0920_docs_clean.pickle',\n",
       " 'pubmed23n0587_docs_clean.pickle',\n",
       " 'pubmed23n0962_docs_clean.pickle',\n",
       " 'pubmed23n0455_docs_clean.pickle',\n",
       " 'pubmed23n0637_docs_clean.pickle',\n",
       " 'pubmed23n0584_docs_clean.pickle',\n",
       " 'pubmed23n0441_docs_clean.pickle',\n",
       " 'pubmed23n0939_docs_clean.pickle',\n",
       " 'pubmed23n0188_docs_clean.pickle',\n",
       " 'pubmed23n0804_docs_clean.pickle',\n",
       " 'pubmed23n0616_docs_clean.pickle',\n",
       " 'pubmed23n0812_docs_clean.pickle',\n",
       " 'pubmed23n0911_docs_clean.pickle',\n",
       " 'pubmed23n0017_docs_clean.pickle',\n",
       " 'pubmed23n0208_docs_clean.pickle',\n",
       " 'pubmed23n0237_docs_clean.pickle',\n",
       " 'pubmed23n0754_docs_clean.pickle',\n",
       " 'pubmed23n0747_docs_clean.pickle',\n",
       " 'pubmed23n0280_docs_clean.pickle',\n",
       " 'pubmed23n0808_docs_clean.pickle',\n",
       " 'pubmed23n0409_docs_clean.pickle',\n",
       " 'pubmed23n0542_docs_clean.pickle',\n",
       " 'pubmed23n0137_docs_clean.pickle',\n",
       " 'pubmed23n0369_docs_clean.pickle',\n",
       " 'pubmed23n0537_docs_clean.pickle',\n",
       " 'pubmed23n0324_docs_clean.pickle',\n",
       " 'pubmed23n0244_docs_clean.pickle',\n",
       " 'pubmed23n0985_docs_clean.pickle',\n",
       " 'pubmed23n1100_docs_clean.pickle',\n",
       " 'pubmed23n0071_docs_clean.pickle',\n",
       " 'pubmed23n1132_docs_clean.pickle',\n",
       " 'pubmed23n0210_docs_clean.pickle',\n",
       " 'pubmed23n1016_docs_clean.pickle',\n",
       " 'pubmed23n0996_docs_clean.pickle',\n",
       " 'pubmed23n0937_docs_clean.pickle',\n",
       " 'pubmed23n0283_docs_clean.pickle',\n",
       " 'pubmed23n0729_docs_clean.pickle',\n",
       " 'pubmed23n1141_docs_clean.pickle',\n",
       " 'pubmed23n0086_docs_clean.pickle',\n",
       " 'pubmed23n0903_docs_clean.pickle',\n",
       " 'pubmed23n0349_docs_clean.pickle',\n",
       " 'pubmed23n0840_docs_clean.pickle',\n",
       " 'pubmed23n0912_docs_clean.pickle',\n",
       " 'pubmed23n0922_docs_clean.pickle',\n",
       " 'pubmed23n0681_docs_clean.pickle',\n",
       " 'pubmed23n0302_docs_clean.pickle',\n",
       " 'pubmed23n0855_docs_clean.pickle',\n",
       " 'pubmed23n0255_docs_clean.pickle',\n",
       " 'pubmed23n1157_docs_clean.pickle',\n",
       " 'pubmed23n0300_docs_clean.pickle',\n",
       " 'pubmed23n0768_docs_clean.pickle',\n",
       " 'pubmed23n0249_docs_clean.pickle',\n",
       " 'pubmed23n0603_docs_clean.pickle',\n",
       " 'pubmed23n0818_docs_clean.pickle',\n",
       " 'pubmed23n0728_docs_clean.pickle',\n",
       " 'pubmed23n0330_docs_clean.pickle',\n",
       " 'pubmed23n0373_docs_clean.pickle',\n",
       " 'pubmed23n0748_docs_clean.pickle',\n",
       " 'pubmed23n0293_docs_clean.pickle',\n",
       " 'pubmed23n1054_docs_clean.pickle',\n",
       " 'pubmed23n0234_docs_clean.pickle',\n",
       " 'pubmed23n0106_docs_clean.pickle',\n",
       " 'pubmed23n0516_docs_clean.pickle',\n",
       " 'pubmed23n0110_docs_clean.pickle',\n",
       " 'pubmed23n0620_docs_clean.pickle',\n",
       " 'pubmed23n1041_docs_clean.pickle',\n",
       " 'pubmed23n0394_docs_clean.pickle',\n",
       " 'pubmed23n0165_docs_clean.pickle',\n",
       " 'pubmed23n0073_docs_clean.pickle',\n",
       " 'pubmed23n0926_docs_clean.pickle',\n",
       " 'pubmed23n1057_docs_clean.pickle',\n",
       " 'pubmed23n0304_docs_clean.pickle',\n",
       " 'pubmed23n0295_docs_clean.pickle',\n",
       " 'pubmed23n0451_docs_clean.pickle',\n",
       " 'pubmed23n1037_docs_clean.pickle',\n",
       " 'pubmed23n1025_docs_clean.pickle',\n",
       " 'pubmed23n0196_docs_clean.pickle',\n",
       " 'pubmed23n0025_docs_clean.pickle',\n",
       " 'pubmed23n0390_docs_clean.pickle',\n",
       " 'pubmed23n0286_docs_clean.pickle',\n",
       " 'pubmed23n0502_docs_clean.pickle',\n",
       " 'pubmed23n0870_docs_clean.pickle',\n",
       " 'pubmed23n1033_docs_clean.pickle',\n",
       " 'pubmed23n1161_docs_clean.pickle',\n",
       " 'pubmed23n0577_docs_clean.pickle',\n",
       " 'pubmed23n0393_docs_clean.pickle',\n",
       " 'pubmed23n0839_docs_clean.pickle',\n",
       " 'pubmed23n1123_docs_clean.pickle',\n",
       " 'pubmed23n0480_docs_clean.pickle',\n",
       " 'pubmed23n0588_docs_clean.pickle',\n",
       " 'pubmed23n0723_docs_clean.pickle',\n",
       " 'pubmed23n0815_docs_clean.pickle',\n",
       " 'pubmed23n0216_docs_clean.pickle',\n",
       " 'pubmed23n0228_docs_clean.pickle',\n",
       " 'pubmed23n0557_docs_clean.pickle',\n",
       " 'pubmed23n0994_docs_clean.pickle',\n",
       " 'pubmed23n0874_docs_clean.pickle',\n",
       " 'pubmed23n0085_docs_clean.pickle',\n",
       " 'pubmed23n0150_docs_clean.pickle',\n",
       " 'pubmed23n0879_docs_clean.pickle',\n",
       " 'pubmed23n0488_docs_clean.pickle',\n",
       " 'pubmed23n1164_docs_clean.pickle',\n",
       " 'pubmed23n0019_docs_clean.pickle',\n",
       " 'pubmed23n0299_docs_clean.pickle',\n",
       " 'pubmed23n1138_docs_clean.pickle',\n",
       " 'pubmed23n0230_docs_clean.pickle',\n",
       " 'pubmed23n0377_docs_clean.pickle',\n",
       " 'pubmed23n0551_docs_clean.pickle',\n",
       " 'pubmed23n0792_docs_clean.pickle',\n",
       " 'pubmed23n0093_docs_clean.pickle',\n",
       " 'pubmed23n0426_docs_clean.pickle',\n",
       " 'pubmed23n1128_docs_clean.pickle',\n",
       " 'pubmed23n1166_docs_clean.pickle',\n",
       " 'pubmed23n0328_docs_clean.pickle',\n",
       " 'pubmed23n0504_docs_clean.pickle',\n",
       " 'pubmed23n0026_docs_clean.pickle',\n",
       " 'pubmed23n0361_docs_clean.pickle',\n",
       " 'pubmed23n0533_docs_clean.pickle',\n",
       " 'pubmed23n0580_docs_clean.pickle',\n",
       " 'pubmed23n0783_docs_clean.pickle',\n",
       " 'pubmed23n0844_docs_clean.pickle',\n",
       " 'pubmed23n0856_docs_clean.pickle',\n",
       " 'pubmed23n0817_docs_clean.pickle',\n",
       " 'pubmed23n1007_docs_clean.pickle',\n",
       " 'pubmed23n0252_docs_clean.pickle',\n",
       " 'pubmed23n0745_docs_clean.pickle',\n",
       " 'pubmed23n0883_docs_clean.pickle',\n",
       " 'pubmed23n0109_docs_clean.pickle',\n",
       " 'pubmed23n0494_docs_clean.pickle',\n",
       " 'pubmed23n0007_docs_clean.pickle',\n",
       " 'pubmed23n0917_docs_clean.pickle',\n",
       " 'pubmed23n0688_docs_clean.pickle',\n",
       " 'pubmed23n0597_docs_clean.pickle',\n",
       " 'pubmed23n0044_docs_clean.pickle',\n",
       " 'pubmed23n0220_docs_clean.pickle',\n",
       " 'pubmed23n0358_docs_clean.pickle',\n",
       " 'pubmed23n0886_docs_clean.pickle',\n",
       " 'pubmed23n0365_docs_clean.pickle',\n",
       " 'pubmed23n0203_docs_clean.pickle',\n",
       " 'pubmed23n0481_docs_clean.pickle',\n",
       " 'pubmed23n0059_docs_clean.pickle',\n",
       " 'pubmed23n0259_docs_clean.pickle',\n",
       " 'pubmed23n0596_docs_clean.pickle',\n",
       " 'pubmed23n0906_docs_clean.pickle',\n",
       " 'pubmed23n1040_docs_clean.pickle',\n",
       " 'pubmed23n0352_docs_clean.pickle',\n",
       " 'pubmed23n1093_docs_clean.pickle',\n",
       " 'pubmed23n0360_docs_clean.pickle',\n",
       " 'pubmed23n0877_docs_clean.pickle',\n",
       " 'pubmed23n0113_docs_clean.pickle',\n",
       " 'pubmed23n0600_docs_clean.pickle',\n",
       " 'pubmed23n0680_docs_clean.pickle',\n",
       " 'pubmed23n0617_docs_clean.pickle',\n",
       " 'pubmed23n0491_docs_clean.pickle',\n",
       " 'pubmed23n0819_docs_clean.pickle',\n",
       " 'pubmed23n0977_docs_clean.pickle',\n",
       " 'pubmed23n0530_docs_clean.pickle',\n",
       " 'pubmed23n0716_docs_clean.pickle',\n",
       " 'pubmed23n1113_docs_clean.pickle',\n",
       " 'pubmed23n0800_docs_clean.pickle',\n",
       " 'pubmed23n0079_docs_clean.pickle',\n",
       " 'pubmed23n0615_docs_clean.pickle',\n",
       " 'pubmed23n0035_docs_clean.pickle',\n",
       " 'pubmed23n0160_docs_clean.pickle',\n",
       " 'pubmed23n0709_docs_clean.pickle',\n",
       " 'pubmed23n0402_docs_clean.pickle',\n",
       " 'pubmed23n0751_docs_clean.pickle',\n",
       " 'pubmed23n0699_docs_clean.pickle',\n",
       " 'pubmed23n0161_docs_clean.pickle',\n",
       " 'pubmed23n0944_docs_clean.pickle',\n",
       " 'pubmed23n0140_docs_clean.pickle',\n",
       " 'pubmed23n0506_docs_clean.pickle',\n",
       " 'pubmed23n0772_docs_clean.pickle',\n",
       " 'pubmed23n0980_docs_clean.pickle',\n",
       " 'pubmed23n0342_docs_clean.pickle',\n",
       " 'pubmed23n0564_docs_clean.pickle',\n",
       " 'pubmed23n0425_docs_clean.pickle',\n",
       " 'pubmed23n0275_docs_clean.pickle',\n",
       " 'pubmed23n0009_docs_clean.pickle',\n",
       " 'pubmed23n0098_docs_clean.pickle',\n",
       " 'pubmed23n0949_docs_clean.pickle',\n",
       " 'pubmed23n0672_docs_clean.pickle',\n",
       " 'pubmed23n0846_docs_clean.pickle',\n",
       " 'pubmed23n0535_docs_clean.pickle',\n",
       " 'pubmed23n0021_docs_clean.pickle',\n",
       " 'pubmed23n0356_docs_clean.pickle',\n",
       " 'pubmed23n0495_docs_clean.pickle',\n",
       " 'pubmed23n0740_docs_clean.pickle',\n",
       " 'pubmed23n0771_docs_clean.pickle',\n",
       " 'pubmed23n0842_docs_clean.pickle',\n",
       " 'pubmed23n1076_docs_clean.pickle',\n",
       " 'pubmed23n0131_docs_clean.pickle',\n",
       " 'pubmed23n0419_docs_clean.pickle',\n",
       " 'pubmed23n0265_docs_clean.pickle',\n",
       " 'pubmed23n0992_docs_clean.pickle',\n",
       " 'pubmed23n0508_docs_clean.pickle',\n",
       " 'pubmed23n0334_docs_clean.pickle',\n",
       " 'pubmed23n0072_docs_clean.pickle',\n",
       " 'pubmed23n0549_docs_clean.pickle',\n",
       " 'pubmed23n1048_docs_clean.pickle',\n",
       " 'pubmed23n0915_docs_clean.pickle',\n",
       " 'pubmed23n0472_docs_clean.pickle',\n",
       " 'pubmed23n0108_docs_clean.pickle',\n",
       " 'pubmed23n0832_docs_clean.pickle',\n",
       " 'pubmed23n0635_docs_clean.pickle',\n",
       " 'pubmed23n0122_docs_clean.pickle',\n",
       " 'pubmed23n0139_docs_clean.pickle',\n",
       " 'pubmed23n0646_docs_clean.pickle',\n",
       " 'pubmed23n0696_docs_clean.pickle',\n",
       " 'pubmed23n0777_docs_clean.pickle',\n",
       " 'pubmed23n0329_docs_clean.pickle',\n",
       " 'pubmed23n0136_docs_clean.pickle',\n",
       " 'pubmed23n0667_docs_clean.pickle',\n",
       " 'pubmed23n0398_docs_clean.pickle',\n",
       " 'pubmed23n0868_docs_clean.pickle',\n",
       " 'pubmed23n0051_docs_clean.pickle',\n",
       " 'pubmed23n0416_docs_clean.pickle',\n",
       " 'pubmed23n0261_docs_clean.pickle',\n",
       " 'pubmed23n0916_docs_clean.pickle',\n",
       " 'pubmed23n0454_docs_clean.pickle',\n",
       " 'pubmed23n0047_docs_clean.pickle',\n",
       " 'pubmed23n0457_docs_clean.pickle',\n",
       " 'pubmed23n0048_docs_clean.pickle',\n",
       " 'pubmed23n0866_docs_clean.pickle',\n",
       " 'pubmed23n0227_docs_clean.pickle',\n",
       " 'pubmed23n0341_docs_clean.pickle',\n",
       " 'pubmed23n0039_docs_clean.pickle',\n",
       " 'pubmed23n0348_docs_clean.pickle',\n",
       " 'pubmed23n0125_docs_clean.pickle',\n",
       " 'pubmed23n0861_docs_clean.pickle',\n",
       " 'pubmed23n0718_docs_clean.pickle',\n",
       " 'pubmed23n0496_docs_clean.pickle',\n",
       " 'pubmed23n1082_docs_clean.pickle',\n",
       " 'pubmed23n1130_docs_clean.pickle',\n",
       " 'pubmed23n0450_docs_clean.pickle',\n",
       " 'pubmed23n0707_docs_clean.pickle',\n",
       " 'pubmed23n0114_docs_clean.pickle',\n",
       " 'pubmed23n1064_docs_clean.pickle',\n",
       " 'pubmed23n0563_docs_clean.pickle',\n",
       " 'pubmed23n0649_docs_clean.pickle',\n",
       " 'pubmed23n0974_docs_clean.pickle',\n",
       " 'pubmed23n0054_docs_clean.pickle',\n",
       " 'pubmed23n0241_docs_clean.pickle',\n",
       " 'pubmed23n1028_docs_clean.pickle',\n",
       " 'pubmed23n0604_docs_clean.pickle',\n",
       " 'pubmed23n0087_docs_clean.pickle',\n",
       " 'pubmed23n0489_docs_clean.pickle',\n",
       " 'pubmed23n0430_docs_clean.pickle',\n",
       " 'pubmed23n0468_docs_clean.pickle',\n",
       " 'pubmed23n0565_docs_clean.pickle',\n",
       " 'pubmed23n0821_docs_clean.pickle',\n",
       " 'pubmed23n0492_docs_clean.pickle',\n",
       " 'pubmed23n0972_docs_clean.pickle',\n",
       " 'pubmed23n0623_docs_clean.pickle',\n",
       " 'pubmed23n0969_docs_clean.pickle',\n",
       " 'pubmed23n0875_docs_clean.pickle',\n",
       " 'pubmed23n0895_docs_clean.pickle',\n",
       " 'pubmed23n0505_docs_clean.pickle',\n",
       " 'pubmed23n0182_docs_clean.pickle',\n",
       " 'pubmed23n0314_docs_clean.pickle',\n",
       " 'pubmed23n0807_docs_clean.pickle',\n",
       " 'pubmed23n0284_docs_clean.pickle',\n",
       " 'pubmed23n1068_docs_clean.pickle',\n",
       " 'pubmed23n0205_docs_clean.pickle',\n",
       " 'pubmed23n0407_docs_clean.pickle',\n",
       " 'pubmed23n0827_docs_clean.pickle',\n",
       " 'pubmed23n1148_docs_clean.pickle',\n",
       " 'pubmed23n0262_docs_clean.pickle',\n",
       " 'pubmed23n0101_docs_clean.pickle',\n",
       " 'pubmed23n0157_docs_clean.pickle',\n",
       " 'pubmed23n0624_docs_clean.pickle',\n",
       " 'pubmed23n0789_docs_clean.pickle',\n",
       " 'pubmed23n0566_docs_clean.pickle',\n",
       " 'pubmed23n0278_docs_clean.pickle',\n",
       " 'pubmed23n1052_docs_clean.pickle',\n",
       " 'pubmed23n0797_docs_clean.pickle',\n",
       " 'pubmed23n0206_docs_clean.pickle',\n",
       " 'pubmed23n0395_docs_clean.pickle',\n",
       " 'pubmed23n1067_docs_clean.pickle',\n",
       " 'pubmed23n0123_docs_clean.pickle',\n",
       " 'pubmed23n0569_docs_clean.pickle',\n",
       " 'pubmed23n1070_docs_clean.pickle',\n",
       " 'pubmed23n0174_docs_clean.pickle',\n",
       " 'pubmed23n0724_docs_clean.pickle',\n",
       " 'pubmed23n0321_docs_clean.pickle',\n",
       " 'pubmed23n0485_docs_clean.pickle',\n",
       " 'pubmed23n0446_docs_clean.pickle',\n",
       " 'pubmed23n0990_docs_clean.pickle',\n",
       " 'pubmed23n0189_docs_clean.pickle',\n",
       " 'pubmed23n0965_docs_clean.pickle',\n",
       " 'pubmed23n0824_docs_clean.pickle',\n",
       " 'pubmed23n0195_docs_clean.pickle',\n",
       " 'pubmed23n0726_docs_clean.pickle',\n",
       " 'pubmed23n0312_docs_clean.pickle',\n",
       " 'pubmed23n0344_docs_clean.pickle',\n",
       " 'pubmed23n0458_docs_clean.pickle',\n",
       " 'pubmed23n0497_docs_clean.pickle',\n",
       " 'pubmed23n1075_docs_clean.pickle',\n",
       " 'pubmed23n0070_docs_clean.pickle',\n",
       " 'pubmed23n1086_docs_clean.pickle',\n",
       " 'pubmed23n0332_docs_clean.pickle',\n",
       " 'pubmed23n0372_docs_clean.pickle',\n",
       " 'pubmed23n0153_docs_clean.pickle',\n",
       " 'pubmed23n0706_docs_clean.pickle',\n",
       " 'pubmed23n0664_docs_clean.pickle',\n",
       " 'pubmed23n0190_docs_clean.pickle',\n",
       " 'pubmed23n0770_docs_clean.pickle',\n",
       " 'pubmed23n0952_docs_clean.pickle',\n",
       " 'pubmed23n0238_docs_clean.pickle',\n",
       " 'pubmed23n1046_docs_clean.pickle',\n",
       " 'pubmed23n0266_docs_clean.pickle',\n",
       " 'pubmed23n0152_docs_clean.pickle',\n",
       " 'pubmed23n0186_docs_clean.pickle',\n",
       " 'pubmed23n0351_docs_clean.pickle',\n",
       " 'pubmed23n0301_docs_clean.pickle',\n",
       " 'pubmed23n0524_docs_clean.pickle',\n",
       " 'pubmed23n0408_docs_clean.pickle',\n",
       " 'pubmed23n0067_docs_clean.pickle',\n",
       " 'pubmed23n0733_docs_clean.pickle',\n",
       " 'pubmed23n0545_docs_clean.pickle',\n",
       " 'pubmed23n0183_docs_clean.pickle',\n",
       " 'pubmed23n0523_docs_clean.pickle',\n",
       " 'pubmed23n0983_docs_clean.pickle',\n",
       " 'pubmed23n0270_docs_clean.pickle',\n",
       " 'pubmed23n1055_docs_clean.pickle',\n",
       " 'pubmed23n0018_docs_clean.pickle',\n",
       " 'pubmed23n0128_docs_clean.pickle',\n",
       " 'pubmed23n0658_docs_clean.pickle',\n",
       " 'pubmed23n0834_docs_clean.pickle',\n",
       " 'pubmed23n0145_docs_clean.pickle',\n",
       " 'pubmed23n0671_docs_clean.pickle',\n",
       " 'pubmed23n1019_docs_clean.pickle',\n",
       " 'pubmed23n0910_docs_clean.pickle',\n",
       " 'pubmed23n0178_docs_clean.pickle',\n",
       " 'pubmed23n0405_docs_clean.pickle',\n",
       " 'pubmed23n1029_docs_clean.pickle',\n",
       " 'pubmed23n0456_docs_clean.pickle',\n",
       " 'pubmed23n0231_docs_clean.pickle',\n",
       " 'pubmed23n0590_docs_clean.pickle',\n",
       " 'pubmed23n0242_docs_clean.pickle',\n",
       " 'pubmed23n0288_docs_clean.pickle',\n",
       " 'pubmed23n0452_docs_clean.pickle',\n",
       " 'pubmed23n0436_docs_clean.pickle',\n",
       " 'pubmed23n0164_docs_clean.pickle',\n",
       " 'pubmed23n0465_docs_clean.pickle',\n",
       " 'pubmed23n0591_docs_clean.pickle',\n",
       " 'pubmed23n0478_docs_clean.pickle',\n",
       " 'pubmed23n0717_docs_clean.pickle',\n",
       " 'pubmed23n0683_docs_clean.pickle',\n",
       " 'pubmed23n0355_docs_clean.pickle',\n",
       " 'pubmed23n0385_docs_clean.pickle',\n",
       " 'pubmed23n0168_docs_clean.pickle',\n",
       " 'pubmed23n0102_docs_clean.pickle',\n",
       " 'pubmed23n0291_docs_clean.pickle',\n",
       " 'pubmed23n0061_docs_clean.pickle',\n",
       " 'pubmed23n0127_docs_clean.pickle',\n",
       " 'pubmed23n0020_docs_clean.pickle',\n",
       " 'pubmed23n0177_docs_clean.pickle',\n",
       " 'pubmed23n0289_docs_clean.pickle',\n",
       " 'pubmed23n0180_docs_clean.pickle',\n",
       " 'pubmed23n0277_docs_clean.pickle',\n",
       " 'pubmed23n0521_docs_clean.pickle',\n",
       " 'pubmed23n0541_docs_clean.pickle',\n",
       " 'pubmed23n0966_docs_clean.pickle',\n",
       " 'pubmed23n0823_docs_clean.pickle',\n",
       " 'pubmed23n0934_docs_clean.pickle',\n",
       " 'pubmed23n0858_docs_clean.pickle',\n",
       " 'pubmed23n0732_docs_clean.pickle',\n",
       " 'pubmed23n0383_docs_clean.pickle',\n",
       " 'pubmed23n0403_docs_clean.pickle',\n",
       " 'pubmed23n0954_docs_clean.pickle',\n",
       " 'pubmed23n0473_docs_clean.pickle',\n",
       " 'pubmed23n0534_docs_clean.pickle',\n",
       " 'pubmed23n0547_docs_clean.pickle',\n",
       " 'pubmed23n0690_docs_clean.pickle',\n",
       " 'pubmed23n0904_docs_clean.pickle',\n",
       " 'pubmed23n0374_docs_clean.pickle',\n",
       " 'pubmed23n0327_docs_clean.pickle',\n",
       " 'pubmed23n0460_docs_clean.pickle',\n",
       " 'pubmed23n0936_docs_clean.pickle',\n",
       " 'pubmed23n1065_docs_clean.pickle',\n",
       " 'pubmed23n0484_docs_clean.pickle',\n",
       " 'pubmed23n0651_docs_clean.pickle',\n",
       " 'pubmed23n0347_docs_clean.pickle',\n",
       " 'pubmed23n0082_docs_clean.pickle',\n",
       " 'pubmed23n0622_docs_clean.pickle',\n",
       " 'pubmed23n1009_docs_clean.pickle',\n",
       " 'pubmed23n0938_docs_clean.pickle',\n",
       " 'pubmed23n0737_docs_clean.pickle',\n",
       " 'pubmed23n0826_docs_clean.pickle',\n",
       " 'pubmed23n1060_docs_clean.pickle',\n",
       " 'pubmed23n0673_docs_clean.pickle',\n",
       " 'pubmed23n0847_docs_clean.pickle',\n",
       " 'pubmed23n0948_docs_clean.pickle',\n",
       " 'pubmed23n0788_docs_clean.pickle',\n",
       " 'pubmed23n0315_docs_clean.pickle',\n",
       " 'pubmed23n0076_docs_clean.pickle',\n",
       " 'pubmed23n0864_docs_clean.pickle',\n",
       " 'pubmed23n0778_docs_clean.pickle',\n",
       " 'pubmed23n0215_docs_clean.pickle',\n",
       " 'pubmed23n0763_docs_clean.pickle',\n",
       " 'pubmed23n0767_docs_clean.pickle',\n",
       " 'pubmed23n0735_docs_clean.pickle',\n",
       " 'pubmed23n0753_docs_clean.pickle',\n",
       " 'pubmed23n1137_docs_clean.pickle',\n",
       " 'pubmed23n0224_docs_clean.pickle',\n",
       " 'pubmed23n0118_docs_clean.pickle',\n",
       " 'pubmed23n0518_docs_clean.pickle',\n",
       " 'pubmed23n0602_docs_clean.pickle',\n",
       " 'pubmed23n0959_docs_clean.pickle',\n",
       " 'pubmed23n1135_docs_clean.pickle',\n",
       " 'pubmed23n0104_docs_clean.pickle',\n",
       " 'pubmed23n0223_docs_clean.pickle',\n",
       " 'pubmed23n0097_docs_clean.pickle',\n",
       " 'pubmed23n0052_docs_clean.pickle',\n",
       " 'pubmed23n0212_docs_clean.pickle',\n",
       " 'pubmed23n0031_docs_clean.pickle',\n",
       " 'pubmed23n0762_docs_clean.pickle',\n",
       " 'pubmed23n0469_docs_clean.pickle',\n",
       " 'pubmed23n1036_docs_clean.pickle',\n",
       " 'pubmed23n0891_docs_clean.pickle',\n",
       " 'pubmed23n0907_docs_clean.pickle',\n",
       " 'pubmed23n0193_docs_clean.pickle',\n",
       " 'pubmed23n1010_docs_clean.pickle',\n",
       " 'pubmed23n1131_docs_clean.pickle',\n",
       " 'pubmed23n1011_docs_clean.pickle',\n",
       " 'pubmed23n0734_docs_clean.pickle',\n",
       " 'pubmed23n0479_docs_clean.pickle',\n",
       " 'pubmed23n0652_docs_clean.pickle',\n",
       " 'pubmed23n0088_docs_clean.pickle',\n",
       " 'pubmed23n0247_docs_clean.pickle',\n",
       " 'pubmed23n0775_docs_clean.pickle',\n",
       " 'pubmed23n0859_docs_clean.pickle',\n",
       " 'pubmed23n0905_docs_clean.pickle',\n",
       " 'pubmed23n0033_docs_clean.pickle',\n",
       " 'pubmed23n0594_docs_clean.pickle',\n",
       " 'pubmed23n0908_docs_clean.pickle',\n",
       " 'pubmed23n0942_docs_clean.pickle',\n",
       " 'pubmed23n0049_docs_clean.pickle',\n",
       " 'pubmed23n0742_docs_clean.pickle',\n",
       " 'pubmed23n0755_docs_clean.pickle',\n",
       " 'pubmed23n0641_docs_clean.pickle',\n",
       " 'pubmed23n0953_docs_clean.pickle',\n",
       " 'pubmed23n0814_docs_clean.pickle',\n",
       " 'pubmed23n0475_docs_clean.pickle',\n",
       " 'pubmed23n0802_docs_clean.pickle',\n",
       " 'pubmed23n0943_docs_clean.pickle',\n",
       " 'pubmed23n0264_docs_clean.pickle',\n",
       " 'pubmed23n0670_docs_clean.pickle',\n",
       " 'pubmed23n0660_docs_clean.pickle',\n",
       " 'pubmed23n0250_docs_clean.pickle',\n",
       " 'pubmed23n1084_docs_clean.pickle',\n",
       " 'pubmed23n0684_docs_clean.pickle',\n",
       " 'pubmed23n0790_docs_clean.pickle',\n",
       " 'pubmed23n0606_docs_clean.pickle',\n",
       " 'pubmed23n1127_docs_clean.pickle',\n",
       " 'pubmed23n0849_docs_clean.pickle',\n",
       " 'pubmed23n0676_docs_clean.pickle',\n",
       " 'pubmed23n0752_docs_clean.pickle',\n",
       " 'pubmed23n0583_docs_clean.pickle',\n",
       " 'pubmed23n0988_docs_clean.pickle',\n",
       " 'pubmed23n0605_docs_clean.pickle',\n",
       " 'pubmed23n0411_docs_clean.pickle',\n",
       " 'pubmed23n0077_docs_clean.pickle',\n",
       " 'pubmed23n1032_docs_clean.pickle',\n",
       " 'pubmed23n0294_docs_clean.pickle',\n",
       " 'pubmed23n0736_docs_clean.pickle',\n",
       " 'pubmed23n0609_docs_clean.pickle',\n",
       " 'pubmed23n0207_docs_clean.pickle',\n",
       " 'pubmed23n1031_docs_clean.pickle',\n",
       " 'pubmed23n0507_docs_clean.pickle',\n",
       " 'pubmed23n0522_docs_clean.pickle',\n",
       " 'pubmed23n0661_docs_clean.pickle',\n",
       " 'pubmed23n0657_docs_clean.pickle',\n",
       " 'pubmed23n0794_docs_clean.pickle',\n",
       " 'pubmed23n0925_docs_clean.pickle',\n",
       " 'pubmed23n0075_docs_clean.pickle',\n",
       " 'pubmed23n0900_docs_clean.pickle',\n",
       " 'pubmed23n0027_docs_clean.pickle',\n",
       " 'pubmed23n0482_docs_clean.pickle',\n",
       " 'pubmed23n0410_docs_clean.pickle',\n",
       " 'pubmed23n0173_docs_clean.pickle',\n",
       " 'pubmed23n0553_docs_clean.pickle',\n",
       " 'pubmed23n0999_docs_clean.pickle',\n",
       " 'pubmed23n0595_docs_clean.pickle',\n",
       " 'pubmed23n0662_docs_clean.pickle',\n",
       " 'pubmed23n0470_docs_clean.pickle',\n",
       " 'pubmed23n1149_docs_clean.pickle',\n",
       " 'pubmed23n0803_docs_clean.pickle',\n",
       " 'pubmed23n0285_docs_clean.pickle',\n",
       " 'pubmed23n1089_docs_clean.pickle',\n",
       " 'pubmed23n0648_docs_clean.pickle',\n",
       " 'pubmed23n0526_docs_clean.pickle',\n",
       " 'pubmed23n0562_docs_clean.pickle',\n",
       " 'pubmed23n0078_docs_clean.pickle',\n",
       " 'pubmed23n0816_docs_clean.pickle',\n",
       " 'pubmed23n1039_docs_clean.pickle',\n",
       " 'pubmed23n0263_docs_clean.pickle',\n",
       " 'pubmed23n0656_docs_clean.pickle',\n",
       " 'pubmed23n0095_docs_clean.pickle',\n",
       " 'pubmed23n0464_docs_clean.pickle',\n",
       " 'pubmed23n0774_docs_clean.pickle',\n",
       " 'pubmed23n0217_docs_clean.pickle',\n",
       " 'pubmed23n0863_docs_clean.pickle',\n",
       " 'pubmed23n1026_docs_clean.pickle',\n",
       " 'pubmed23n0011_docs_clean.pickle',\n",
       " 'pubmed23n0251_docs_clean.pickle',\n",
       " 'pubmed23n1081_docs_clean.pickle',\n",
       " 'pubmed23n1088_docs_clean.pickle',\n",
       " 'pubmed23n0126_docs_clean.pickle',\n",
       " 'pubmed23n0253_docs_clean.pickle',\n",
       " 'pubmed23n0647_docs_clean.pickle',\n",
       " 'pubmed23n0155_docs_clean.pickle',\n",
       " 'pubmed23n0636_docs_clean.pickle',\n",
       " 'pubmed23n0156_docs_clean.pickle',\n",
       " 'pubmed23n0175_docs_clean.pickle',\n",
       " 'pubmed23n0392_docs_clean.pickle',\n",
       " 'pubmed23n0830_docs_clean.pickle',\n",
       " 'pubmed23n1118_docs_clean.pickle',\n",
       " 'pubmed23n0822_docs_clean.pickle',\n",
       " 'pubmed23n0876_docs_clean.pickle',\n",
       " 'pubmed23n0184_docs_clean.pickle',\n",
       " 'pubmed23n0420_docs_clean.pickle',\n",
       " 'pubmed23n1015_docs_clean.pickle',\n",
       " 'pubmed23n0447_docs_clean.pickle',\n",
       " 'pubmed23n0784_docs_clean.pickle',\n",
       " 'pubmed23n1069_docs_clean.pickle',\n",
       " 'pubmed23n0243_docs_clean.pickle',\n",
       " 'pubmed23n0799_docs_clean.pickle',\n",
       " 'pubmed23n0032_docs_clean.pickle',\n",
       " 'pubmed23n0894_docs_clean.pickle',\n",
       " 'pubmed23n0929_docs_clean.pickle',\n",
       " 'pubmed23n0978_docs_clean.pickle',\n",
       " 'pubmed23n0171_docs_clean.pickle',\n",
       " 'pubmed23n1074_docs_clean.pickle',\n",
       " 'pubmed23n1160_docs_clean.pickle',\n",
       " 'pubmed23n0730_docs_clean.pickle',\n",
       " 'pubmed23n0675_docs_clean.pickle',\n",
       " 'pubmed23n0887_docs_clean.pickle',\n",
       " 'pubmed23n0727_docs_clean.pickle',\n",
       " 'pubmed23n0144_docs_clean.pickle',\n",
       " 'pubmed23n0298_docs_clean.pickle',\n",
       " 'pubmed23n0057_docs_clean.pickle',\n",
       " 'pubmed23n0798_docs_clean.pickle',\n",
       " 'pubmed23n0693_docs_clean.pickle',\n",
       " 'pubmed23n0805_docs_clean.pickle',\n",
       " 'pubmed23n0532_docs_clean.pickle',\n",
       " 'pubmed23n0631_docs_clean.pickle',\n",
       " 'pubmed23n0946_docs_clean.pickle',\n",
       " 'pubmed23n0254_docs_clean.pickle',\n",
       " 'pubmed23n0281_docs_clean.pickle',\n",
       " 'pubmed23n1153_docs_clean.pickle',\n",
       " 'pubmed23n0038_docs_clean.pickle',\n",
       " 'pubmed23n0112_docs_clean.pickle',\n",
       " 'pubmed23n0432_docs_clean.pickle',\n",
       " 'pubmed23n0668_docs_clean.pickle',\n",
       " 'pubmed23n1003_docs_clean.pickle',\n",
       " 'pubmed23n0029_docs_clean.pickle',\n",
       " 'pubmed23n0142_docs_clean.pickle',\n",
       " 'pubmed23n0444_docs_clean.pickle',\n",
       " 'pubmed23n0813_docs_clean.pickle',\n",
       " 'pubmed23n0711_docs_clean.pickle',\n",
       " 'pubmed23n1114_docs_clean.pickle',\n",
       " 'pubmed23n0362_docs_clean.pickle',\n",
       " 'pubmed23n0400_docs_clean.pickle',\n",
       " 'pubmed23n0192_docs_clean.pickle',\n",
       " 'pubmed23n0801_docs_clean.pickle',\n",
       " 'pubmed23n0869_docs_clean.pickle',\n",
       " 'pubmed23n0848_docs_clean.pickle',\n",
       " 'pubmed23n0995_docs_clean.pickle',\n",
       " 'pubmed23n0162_docs_clean.pickle',\n",
       " 'pubmed23n1146_docs_clean.pickle',\n",
       " 'pubmed23n0749_docs_clean.pickle',\n",
       " 'pubmed23n0256_docs_clean.pickle',\n",
       " 'pubmed23n0323_docs_clean.pickle',\n",
       " 'pubmed23n0043_docs_clean.pickle',\n",
       " 'pubmed23n0100_docs_clean.pickle',\n",
       " 'pubmed23n0619_docs_clean.pickle',\n",
       " 'pubmed23n0892_docs_clean.pickle',\n",
       " 'pubmed23n0973_docs_clean.pickle',\n",
       " 'pubmed23n0024_docs_clean.pickle',\n",
       " 'pubmed23n0359_docs_clean.pickle',\n",
       " 'pubmed23n1085_docs_clean.pickle',\n",
       " 'pubmed23n1066_docs_clean.pickle',\n",
       " 'pubmed23n1125_docs_clean.pickle',\n",
       " 'pubmed23n0413_docs_clean.pickle',\n",
       " 'pubmed23n0340_docs_clean.pickle',\n",
       " 'pubmed23n1158_docs_clean.pickle',\n",
       " 'pubmed23n0423_docs_clean.pickle',\n",
       " 'pubmed23n1044_docs_clean.pickle',\n",
       " 'pubmed23n0643_docs_clean.pickle',\n",
       " 'pubmed23n0950_docs_clean.pickle',\n",
       " 'pubmed23n1049_docs_clean.pickle',\n",
       " 'pubmed23n0370_docs_clean.pickle',\n",
       " 'pubmed23n0041_docs_clean.pickle',\n",
       " 'pubmed23n0062_docs_clean.pickle',\n",
       " 'pubmed23n0576_docs_clean.pickle',\n",
       " 'pubmed23n0084_docs_clean.pickle',\n",
       " 'pubmed23n0860_docs_clean.pickle',\n",
       " 'pubmed23n0538_docs_clean.pickle',\n",
       " 'pubmed23n0333_docs_clean.pickle',\n",
       " 'pubmed23n0014_docs_clean.pickle',\n",
       " 'pubmed23n0971_docs_clean.pickle',\n",
       " 'pubmed23n0135_docs_clean.pickle',\n",
       " 'pubmed23n1012_docs_clean.pickle',\n",
       " 'pubmed23n0316_docs_clean.pickle',\n",
       " 'pubmed23n0677_docs_clean.pickle',\n",
       " 'pubmed23n0368_docs_clean.pickle',\n",
       " 'pubmed23n0536_docs_clean.pickle',\n",
       " 'pubmed23n1101_docs_clean.pickle',\n",
       " 'pubmed23n0448_docs_clean.pickle',\n",
       " 'pubmed23n1106_docs_clean.pickle',\n",
       " 'pubmed23n1061_docs_clean.pickle',\n",
       " 'pubmed23n0290_docs_clean.pickle',\n",
       " 'pubmed23n1008_docs_clean.pickle',\n",
       " 'pubmed23n0389_docs_clean.pickle',\n",
       " 'pubmed23n0554_docs_clean.pickle',\n",
       " 'pubmed23n0440_docs_clean.pickle',\n",
       " 'pubmed23n0209_docs_clean.pickle',\n",
       " 'pubmed23n0520_docs_clean.pickle',\n",
       " 'pubmed23n0573_docs_clean.pickle',\n",
       " 'pubmed23n0809_docs_clean.pickle',\n",
       " 'pubmed23n0685_docs_clean.pickle',\n",
       " 'pubmed23n0833_docs_clean.pickle',\n",
       " 'pubmed23n0744_docs_clean.pickle',\n",
       " 'pubmed23n0956_docs_clean.pickle',\n",
       " 'pubmed23n0221_docs_clean.pickle',\n",
       " 'pubmed23n0391_docs_clean.pickle',\n",
       " 'pubmed23n0750_docs_clean.pickle',\n",
       " 'pubmed23n1094_docs_clean.pickle',\n",
       " 'pubmed23n1139_docs_clean.pickle',\n",
       " 'pubmed23n0961_docs_clean.pickle',\n",
       " 'pubmed23n0005_docs_clean.pickle',\n",
       " 'pubmed23n0487_docs_clean.pickle',\n",
       " 'pubmed23n0055_docs_clean.pickle',\n",
       " 'pubmed23n0503_docs_clean.pickle',\n",
       " 'pubmed23n0527_docs_clean.pickle',\n",
       " 'pubmed23n0320_docs_clean.pickle',\n",
       " 'pubmed23n0786_docs_clean.pickle',\n",
       " 'pubmed23n0435_docs_clean.pickle',\n",
       " 'pubmed23n0958_docs_clean.pickle',\n",
       " 'pubmed23n0970_docs_clean.pickle',\n",
       " 'pubmed23n0831_docs_clean.pickle',\n",
       " 'pubmed23n0639_docs_clean.pickle',\n",
       " 'pubmed23n0820_docs_clean.pickle',\n",
       " 'pubmed23n0384_docs_clean.pickle',\n",
       " 'pubmed23n0045_docs_clean.pickle',\n",
       " 'pubmed23n0621_docs_clean.pickle',\n",
       " 'pubmed23n0233_docs_clean.pickle',\n",
       " 'pubmed23n0665_docs_clean.pickle',\n",
       " 'pubmed23n0163_docs_clean.pickle',\n",
       " 'pubmed23n0787_docs_clean.pickle',\n",
       " 'pubmed23n0437_docs_clean.pickle',\n",
       " 'pubmed23n0539_docs_clean.pickle',\n",
       " 'pubmed23n0015_docs_clean.pickle',\n",
       " 'pubmed23n0654_docs_clean.pickle',\n",
       " 'pubmed23n0338_docs_clean.pickle',\n",
       " 'pubmed23n0396_docs_clean.pickle',\n",
       " 'pubmed23n0406_docs_clean.pickle',\n",
       " 'pubmed23n0764_docs_clean.pickle',\n",
       " 'pubmed23n1115_docs_clean.pickle',\n",
       " 'pubmed23n0235_docs_clean.pickle',\n",
       " 'pubmed23n0271_docs_clean.pickle',\n",
       " 'pubmed23n0700_docs_clean.pickle',\n",
       " 'pubmed23n0781_docs_clean.pickle',\n",
       " 'pubmed23n0829_docs_clean.pickle',\n",
       " 'pubmed23n1095_docs_clean.pickle',\n",
       " 'pubmed23n0096_docs_clean.pickle',\n",
       " 'pubmed23n0397_docs_clean.pickle',\n",
       " 'pubmed23n1062_docs_clean.pickle',\n",
       " 'pubmed23n0795_docs_clean.pickle',\n",
       " 'pubmed23n0674_docs_clean.pickle',\n",
       " 'pubmed23n0003_docs_clean.pickle',\n",
       " 'pubmed23n0741_docs_clean.pickle',\n",
       " 'pubmed23n0880_docs_clean.pickle',\n",
       " 'pubmed23n0998_docs_clean.pickle',\n",
       " 'pubmed23n0386_docs_clean.pickle',\n",
       " 'pubmed23n0296_docs_clean.pickle',\n",
       " 'pubmed23n0725_docs_clean.pickle',\n",
       " 'pubmed23n0574_docs_clean.pickle',\n",
       " 'pubmed23n0120_docs_clean.pickle',\n",
       " 'pubmed23n0836_docs_clean.pickle',\n",
       " 'pubmed23n0519_docs_clean.pickle',\n",
       " 'pubmed23n0138_docs_clean.pickle',\n",
       " 'pubmed23n0240_docs_clean.pickle',\n",
       " 'pubmed23n0811_docs_clean.pickle',\n",
       " 'pubmed23n0838_docs_clean.pickle',\n",
       " 'pubmed23n0548_docs_clean.pickle',\n",
       " 'pubmed23n0364_docs_clean.pickle',\n",
       " 'pubmed23n0202_docs_clean.pickle',\n",
       " 'pubmed23n0638_docs_clean.pickle',\n",
       " 'pubmed23n0796_docs_clean.pickle',\n",
       " 'pubmed23n0257_docs_clean.pickle',\n",
       " 'pubmed23n1155_docs_clean.pickle',\n",
       " 'pubmed23n0581_docs_clean.pickle',\n",
       " 'pubmed23n0632_docs_clean.pickle',\n",
       " 'pubmed23n0757_docs_clean.pickle',\n",
       " 'pubmed23n0689_docs_clean.pickle',\n",
       " 'pubmed23n0172_docs_clean.pickle',\n",
       " 'pubmed23n0558_docs_clean.pickle',\n",
       " 'pubmed23n0066_docs_clean.pickle',\n",
       " 'pubmed23n0367_docs_clean.pickle',\n",
       " 'pubmed23n0746_docs_clean.pickle',\n",
       " 'pubmed23n0130_docs_clean.pickle',\n",
       " 'pubmed23n1014_docs_clean.pickle',\n",
       " 'pubmed23n0272_docs_clean.pickle',\n",
       " 'pubmed23n0884_docs_clean.pickle',\n",
       " 'pubmed23n0428_docs_clean.pickle',\n",
       " 'pubmed23n0867_docs_clean.pickle',\n",
       " 'pubmed23n0313_docs_clean.pickle',\n",
       " 'pubmed23n0570_docs_clean.pickle',\n",
       " 'pubmed23n0873_docs_clean.pickle',\n",
       " 'pubmed23n1021_docs_clean.pickle',\n",
       " 'pubmed23n0682_docs_clean.pickle',\n",
       " 'pubmed23n0388_docs_clean.pickle',\n",
       " 'pubmed23n1108_docs_clean.pickle',\n",
       " 'pubmed23n0756_docs_clean.pickle',\n",
       " 'pubmed23n1156_docs_clean.pickle',\n",
       " 'pubmed23n0955_docs_clean.pickle',\n",
       " 'pubmed23n0931_docs_clean.pickle',\n",
       " 'pubmed23n1013_docs_clean.pickle',\n",
       " 'pubmed23n0111_docs_clean.pickle',\n",
       " 'pubmed23n0993_docs_clean.pickle',\n",
       " 'pubmed23n1154_docs_clean.pickle',\n",
       " 'pubmed23n0893_docs_clean.pickle',\n",
       " 'pubmed23n1136_docs_clean.pickle',\n",
       " 'pubmed23n0627_docs_clean.pickle',\n",
       " 'pubmed23n1042_docs_clean.pickle',\n",
       " 'pubmed23n0618_docs_clean.pickle',\n",
       " 'pubmed23n0769_docs_clean.pickle',\n",
       " 'pubmed23n0982_docs_clean.pickle',\n",
       " 'pubmed23n0881_docs_clean.pickle',\n",
       " 'pubmed23n0593_docs_clean.pickle',\n",
       " 'pubmed23n1001_docs_clean.pickle',\n",
       " 'pubmed23n0034_docs_clean.pickle',\n",
       " 'pubmed23n0697_docs_clean.pickle',\n",
       " 'pubmed23n1047_docs_clean.pickle',\n",
       " 'pubmed23n0269_docs_clean.pickle',\n",
       " 'pubmed23n0226_docs_clean.pickle',\n",
       " 'pubmed23n1002_docs_clean.pickle',\n",
       " 'pubmed23n0439_docs_clean.pickle',\n",
       " 'pubmed23n0663_docs_clean.pickle',\n",
       " 'pubmed23n1091_docs_clean.pickle',\n",
       " 'pubmed23n1071_docs_clean.pickle',\n",
       " 'pubmed23n0092_docs_clean.pickle',\n",
       " 'pubmed23n0008_docs_clean.pickle',\n",
       " 'pubmed23n0268_docs_clean.pickle',\n",
       " 'pubmed23n0463_docs_clean.pickle',\n",
       " 'pubmed23n0633_docs_clean.pickle',\n",
       " 'pubmed23n0042_docs_clean.pickle',\n",
       " 'pubmed23n0064_docs_clean.pickle',\n",
       " 'pubmed23n0339_docs_clean.pickle',\n",
       " 'pubmed23n0512_docs_clean.pickle',\n",
       " 'pubmed23n1103_docs_clean.pickle',\n",
       " 'pubmed23n0099_docs_clean.pickle',\n",
       " 'pubmed23n0628_docs_clean.pickle',\n",
       " 'pubmed23n0050_docs_clean.pickle',\n",
       " 'pubmed23n0335_docs_clean.pickle',\n",
       " 'pubmed23n0758_docs_clean.pickle',\n",
       " 'pubmed23n0626_docs_clean.pickle',\n",
       " 'pubmed23n0090_docs_clean.pickle',\n",
       " 'pubmed23n0854_docs_clean.pickle',\n",
       " 'pubmed23n0923_docs_clean.pickle',\n",
       " 'pubmed23n0466_docs_clean.pickle',\n",
       " 'pubmed23n1058_docs_clean.pickle',\n",
       " 'pubmed23n0012_docs_clean.pickle',\n",
       " 'pubmed23n0325_docs_clean.pickle',\n",
       " 'pubmed23n1159_docs_clean.pickle',\n",
       " 'pubmed23n0303_docs_clean.pickle',\n",
       " 'pubmed23n1150_docs_clean.pickle',\n",
       " 'pubmed23n0016_docs_clean.pickle',\n",
       " 'pubmed23n0346_docs_clean.pickle',\n",
       " 'pubmed23n0345_docs_clean.pickle',\n",
       " 'pubmed23n0401_docs_clean.pickle',\n",
       " 'pubmed23n1005_docs_clean.pickle',\n",
       " 'pubmed23n0282_docs_clean.pickle',\n",
       " 'pubmed23n1102_docs_clean.pickle',\n",
       " 'pubmed23n0022_docs_clean.pickle',\n",
       " 'pubmed23n1116_docs_clean.pickle',\n",
       " 'pubmed23n0878_docs_clean.pickle',\n",
       " 'pubmed23n1099_docs_clean.pickle',\n",
       " 'pubmed23n0056_docs_clean.pickle',\n",
       " 'pubmed23n0148_docs_clean.pickle',\n",
       " 'pubmed23n0509_docs_clean.pickle',\n",
       " 'pubmed23n0424_docs_clean.pickle',\n",
       " 'pubmed23n0759_docs_clean.pickle',\n",
       " 'pubmed23n0585_docs_clean.pickle',\n",
       " 'pubmed23n0366_docs_clean.pickle',\n",
       " 'pubmed23n0552_docs_clean.pickle',\n",
       " 'pubmed23n0143_docs_clean.pickle',\n",
       " 'pubmed23n0989_docs_clean.pickle',\n",
       " 'pubmed23n0902_docs_clean.pickle',\n",
       " 'pubmed23n0865_docs_clean.pickle',\n",
       " 'pubmed23n0169_docs_clean.pickle',\n",
       " 'pubmed23n1098_docs_clean.pickle',\n",
       " 'pubmed23n1162_docs_clean.pickle',\n",
       " 'pubmed23n1043_docs_clean.pickle',\n",
       " 'pubmed23n0179_docs_clean.pickle',\n",
       " 'pubmed23n0083_docs_clean.pickle',\n",
       " 'pubmed23n0170_docs_clean.pickle',\n",
       " 'pubmed23n0307_docs_clean.pickle',\n",
       " 'pubmed23n0572_docs_clean.pickle',\n",
       " 'pubmed23n0319_docs_clean.pickle',\n",
       " 'pubmed23n1097_docs_clean.pickle',\n",
       " 'pubmed23n0069_docs_clean.pickle',\n",
       " 'pubmed23n0987_docs_clean.pickle',\n",
       " 'pubmed23n0467_docs_clean.pickle',\n",
       " 'pubmed23n0850_docs_clean.pickle',\n",
       " 'pubmed23n0322_docs_clean.pickle',\n",
       " 'pubmed23n0490_docs_clean.pickle',\n",
       " 'pubmed23n1077_docs_clean.pickle',\n",
       " 'pubmed23n1096_docs_clean.pickle',\n",
       " 'pubmed23n1090_docs_clean.pickle',\n",
       " 'pubmed23n0501_docs_clean.pickle',\n",
       " 'pubmed23n0852_docs_clean.pickle',\n",
       " 'pubmed23n0117_docs_clean.pickle',\n",
       " 'pubmed23n0853_docs_clean.pickle',\n",
       " 'pubmed23n1107_docs_clean.pickle',\n",
       " 'pubmed23n0766_docs_clean.pickle',\n",
       " 'pubmed23n1027_docs_clean.pickle',\n",
       " 'pubmed23n0343_docs_clean.pickle',\n",
       " 'pubmed23n1080_docs_clean.pickle',\n",
       " 'pubmed23n0927_docs_clean.pickle',\n",
       " 'pubmed23n0567_docs_clean.pickle',\n",
       " 'pubmed23n0371_docs_clean.pickle',\n",
       " 'pubmed23n0528_docs_clean.pickle',\n",
       " 'pubmed23n0810_docs_clean.pickle',\n",
       " 'pubmed23n1163_docs_clean.pickle',\n",
       " 'pubmed23n0986_docs_clean.pickle',\n",
       " 'pubmed23n0909_docs_clean.pickle',\n",
       " 'pubmed23n0046_docs_clean.pickle',\n",
       " ...}"
      ]
     },
     "execution_count": 38,
     "metadata": {},
     "output_type": "execute_result"
    }
   ],
   "source": [
    "missing_in_clean"
   ]
  },
  {
   "cell_type": "markdown",
   "metadata": {},
   "source": [
    "## Testing problematic embeddings"
   ]
  },
  {
   "cell_type": "code",
   "execution_count": 50,
   "metadata": {},
   "outputs": [],
   "source": [
    "embpath654 = Path('/home/ande2472/data/generate_embeddings_output/generated_embeddings/pubmed23n0654_embeddings_scibert.pickle')\n",
    "cleanpath654 = Path('/home/ande2472/data/generate_embeddings_output/clean_files/pubmed23n0654_docs_clean.pickle')\n",
    "ogpath654 = Path('/home/ande2472/data/parsed_tsv_files/pubmed23n0654.tsv')\n",
    "\n",
    "with open(cleanpath654, \"rb\") as f:\n",
    "        clean654 = pickle.load(f)\n",
    "with open(embpath654, \"rb\") as f:\n",
    "    emb654 = pickle.load(f)\n",
    "og654 = pd.read_csv(ogpath654, sep='\\t')"
   ]
  },
  {
   "cell_type": "code",
   "execution_count": 53,
   "metadata": {},
   "outputs": [
    {
     "data": {
      "text/html": [
       "<div>\n",
       "<style scoped>\n",
       "    .dataframe tbody tr th:only-of-type {\n",
       "        vertical-align: middle;\n",
       "    }\n",
       "\n",
       "    .dataframe tbody tr th {\n",
       "        vertical-align: top;\n",
       "    }\n",
       "\n",
       "    .dataframe thead th {\n",
       "        text-align: right;\n",
       "    }\n",
       "</style>\n",
       "<table border=\"1\" class=\"dataframe\">\n",
       "  <thead>\n",
       "    <tr style=\"text-align: right;\">\n",
       "      <th></th>\n",
       "      <th>PMID</th>\n",
       "      <th>Date</th>\n",
       "      <th>Journal</th>\n",
       "      <th>Title</th>\n",
       "      <th>Abstract</th>\n",
       "    </tr>\n",
       "  </thead>\n",
       "  <tbody>\n",
       "    <tr>\n",
       "      <th>0</th>\n",
       "      <td>20254687</td>\n",
       "      <td>1947-07-01</td>\n",
       "      <td>The American imago; a psychoanalytic journal f...</td>\n",
       "      <td>To further Freudian psychoanalysis.</td>\n",
       "      <td>NaN</td>\n",
       "    </tr>\n",
       "    <tr>\n",
       "      <th>1</th>\n",
       "      <td>20254688</td>\n",
       "      <td>1947-07-01</td>\n",
       "      <td>The American imago; a psychoanalytic journal f...</td>\n",
       "      <td>Question of Jewish monotheism.</td>\n",
       "      <td>NaN</td>\n",
       "    </tr>\n",
       "    <tr>\n",
       "      <th>2</th>\n",
       "      <td>20254689</td>\n",
       "      <td>1947-07-01</td>\n",
       "      <td>The American imago; a psychoanalytic journal f...</td>\n",
       "      <td>The Jew as symbol; antisemitism; the road towa...</td>\n",
       "      <td>NaN</td>\n",
       "    </tr>\n",
       "    <tr>\n",
       "      <th>3</th>\n",
       "      <td>20254690</td>\n",
       "      <td>1947-07-01</td>\n",
       "      <td>The American imago; a psychoanalytic journal f...</td>\n",
       "      <td>Varieties of castration.</td>\n",
       "      <td>NaN</td>\n",
       "    </tr>\n",
       "    <tr>\n",
       "      <th>4</th>\n",
       "      <td>20254691</td>\n",
       "      <td>1947-07-01</td>\n",
       "      <td>The American imago; a psychoanalytic journal f...</td>\n",
       "      <td>Saint Christopher, patron saint of the motor-c...</td>\n",
       "      <td>NaN</td>\n",
       "    </tr>\n",
       "    <tr>\n",
       "      <th>...</th>\n",
       "      <td>...</td>\n",
       "      <td>...</td>\n",
       "      <td>...</td>\n",
       "      <td>...</td>\n",
       "      <td>...</td>\n",
       "    </tr>\n",
       "    <tr>\n",
       "      <th>29995</th>\n",
       "      <td>20285178</td>\n",
       "      <td>1947-01-01</td>\n",
       "      <td>Industrial medicine &amp;amp; surgery</td>\n",
       "      <td>Refrigeration in trauma of the extremities.</td>\n",
       "      <td>NaN</td>\n",
       "    </tr>\n",
       "    <tr>\n",
       "      <th>29996</th>\n",
       "      <td>20285179</td>\n",
       "      <td>1947-01-01</td>\n",
       "      <td>Industrial medicine &amp;amp; surgery</td>\n",
       "      <td>Dental relations in industrial health services.</td>\n",
       "      <td>NaN</td>\n",
       "    </tr>\n",
       "    <tr>\n",
       "      <th>29997</th>\n",
       "      <td>20285180</td>\n",
       "      <td>1947-01-01</td>\n",
       "      <td>Industrial medicine &amp;amp; surgery</td>\n",
       "      <td>Evaluation of borderline cardiovascular abnorm...</td>\n",
       "      <td>NaN</td>\n",
       "    </tr>\n",
       "    <tr>\n",
       "      <th>29998</th>\n",
       "      <td>20285181</td>\n",
       "      <td>1947-01-01</td>\n",
       "      <td>Industrial medicine &amp;amp; surgery</td>\n",
       "      <td>Minor illness, short medical absenteeism, late...</td>\n",
       "      <td>NaN</td>\n",
       "    </tr>\n",
       "    <tr>\n",
       "      <th>29999</th>\n",
       "      <td>20285182</td>\n",
       "      <td>1947-01-01</td>\n",
       "      <td>Industrial medicine &amp;amp; surgery</td>\n",
       "      <td>Hydrofluoric acid burn; case report.</td>\n",
       "      <td>NaN</td>\n",
       "    </tr>\n",
       "  </tbody>\n",
       "</table>\n",
       "<p>30000 rows × 5 columns</p>\n",
       "</div>"
      ],
      "text/plain": [
       "           PMID        Date  \\\n",
       "0      20254687  1947-07-01   \n",
       "1      20254688  1947-07-01   \n",
       "2      20254689  1947-07-01   \n",
       "3      20254690  1947-07-01   \n",
       "4      20254691  1947-07-01   \n",
       "...         ...         ...   \n",
       "29995  20285178  1947-01-01   \n",
       "29996  20285179  1947-01-01   \n",
       "29997  20285180  1947-01-01   \n",
       "29998  20285181  1947-01-01   \n",
       "29999  20285182  1947-01-01   \n",
       "\n",
       "                                                 Journal  \\\n",
       "0      The American imago; a psychoanalytic journal f...   \n",
       "1      The American imago; a psychoanalytic journal f...   \n",
       "2      The American imago; a psychoanalytic journal f...   \n",
       "3      The American imago; a psychoanalytic journal f...   \n",
       "4      The American imago; a psychoanalytic journal f...   \n",
       "...                                                  ...   \n",
       "29995                  Industrial medicine &amp; surgery   \n",
       "29996                  Industrial medicine &amp; surgery   \n",
       "29997                  Industrial medicine &amp; surgery   \n",
       "29998                  Industrial medicine &amp; surgery   \n",
       "29999                  Industrial medicine &amp; surgery   \n",
       "\n",
       "                                                   Title  Abstract  \n",
       "0                    To further Freudian psychoanalysis.       NaN  \n",
       "1                         Question of Jewish monotheism.       NaN  \n",
       "2      The Jew as symbol; antisemitism; the road towa...       NaN  \n",
       "3                               Varieties of castration.       NaN  \n",
       "4      Saint Christopher, patron saint of the motor-c...       NaN  \n",
       "...                                                  ...       ...  \n",
       "29995        Refrigeration in trauma of the extremities.       NaN  \n",
       "29996    Dental relations in industrial health services.       NaN  \n",
       "29997  Evaluation of borderline cardiovascular abnorm...       NaN  \n",
       "29998  Minor illness, short medical absenteeism, late...       NaN  \n",
       "29999               Hydrofluoric acid burn; case report.       NaN  \n",
       "\n",
       "[30000 rows x 5 columns]"
      ]
     },
     "execution_count": 53,
     "metadata": {},
     "output_type": "execute_result"
    }
   ],
   "source": [
    "og654"
   ]
  },
  {
   "cell_type": "markdown",
   "metadata": {},
   "source": [
    "### testing partial_fit vs fit_transform"
   ]
  },
  {
   "cell_type": "code",
   "execution_count": null,
   "metadata": {},
   "outputs": [],
   "source": [
    "clean16part1, emb16part1 = combineemb(embdir,cleandir,4)\n",
    "print('---------PART 2:---------')\n",
    "clean16part2, emb16part2 = combineemb(embdir, cleandir, 4, startcount=len(embfiles)-5)\n",
    "print('---------PART 3:---------')\n",
    "clean16part3, emb16part3 = combineemb(embdir, cleandir, 4, startcount=len(embfiles)-9)\n",
    "print('---------PART 4:---------')\n",
    "clean16part4, emb16part4 = combineemb(embdir, cleandir, 4, startcount=len(embfiles)-13)"
   ]
  },
  {
   "cell_type": "code",
   "execution_count": 36,
   "metadata": {},
   "outputs": [
    {
     "name": "stderr",
     "output_type": "stream",
     "text": [
      "2024-01-16 11:46:22,036 - BERTopic - Reduced dimensionality\n",
      "2024-01-16 11:46:22,126 - BERTopic - Clustered reduced embeddings\n",
      "2024-01-16 11:48:19,128 - BERTopic - Reduced dimensionality\n",
      "2024-01-16 11:48:19,148 - BERTopic - Clustered reduced embeddings\n",
      "2024-01-16 11:50:07,182 - BERTopic - Reduced dimensionality\n",
      "2024-01-16 11:50:07,202 - BERTopic - Clustered reduced embeddings\n",
      "2024-01-16 11:51:48,648 - BERTopic - Reduced dimensionality\n",
      "2024-01-16 11:51:48,667 - BERTopic - Clustered reduced embeddings\n"
     ]
    },
    {
     "data": {
      "text/plain": [
       "<bertopic._bertopic.BERTopic at 0x7f1a9f866610>"
      ]
     },
     "execution_count": 36,
     "metadata": {},
     "output_type": "execute_result"
    }
   ],
   "source": [
    "from sklearn.cluster import MiniBatchKMeans\n",
    "from bertopic.vectorizers import OnlineCountVectorizer\n",
    "# HDBSCAN clustering setting\n",
    "min_cluster_size         = 100 # This is 500 for the full dataset run\n",
    "metric                   = 'euclidean' \n",
    "cluster_selection_method ='eom' \n",
    "prediction_data          = True \n",
    "min_samples              = 5\n",
    "\n",
    "# BERTopic setting\n",
    "calculate_probabilities = True\n",
    "n_neighbors             = 10  \n",
    "nr_topics               = 500\n",
    "n_gram_range            = (1,2)\n",
    "\n",
    "#MiniBatchKMeans settings\n",
    "cluster_model = MiniBatchKMeans(n_clusters=500, random_state=0)\n",
    "vectorizer_model = OnlineCountVectorizer(stop_words=\"english\", decay=.01)\n",
    "\n",
    "hdbscan_model = HDBSCAN(min_cluster_size=min_cluster_size, \n",
    "                        metric=metric, \n",
    "                        cluster_selection_method=cluster_selection_method, \n",
    "                        prediction_data=prediction_data, \n",
    "                        min_samples=min_samples)\n",
    "  \n",
    "#init/train topic model\n",
    "topic_model = BERTopic(hdbscan_model=cluster_model,\n",
    "                    calculate_probabilities=calculate_probabilities,\n",
    "                    n_gram_range=n_gram_range,\n",
    "                    nr_topics=nr_topics,\n",
    "                    vectorizer_model=vectorizer_model,\n",
    "                    verbose=True)\n",
    "\n",
    "\n",
    "topic_model.partial_fit(clean16part1, emb16part1)\n",
    "topic_model.partial_fit(clean16part2, emb16part2)\n",
    "topic_model.partial_fit(clean16part3, emb16part3)\n",
    "topic_model.partial_fit(clean16part4, emb16part4)\n"
   ]
  },
  {
   "cell_type": "code",
   "execution_count": 37,
   "metadata": {},
   "outputs": [
    {
     "name": "stderr",
     "output_type": "stream",
     "text": [
      "2024-01-16 11:59:16,951 - BERTopic - Reduced dimensionality\n",
      "2024-01-16 11:59:16,970 - BERTopic - Predicted clusters\n"
     ]
    }
   ],
   "source": [
    "topicspartial, probspartial = topic_model.transform(clean16,emb16)"
   ]
  },
  {
   "cell_type": "code",
   "execution_count": 45,
   "metadata": {},
   "outputs": [],
   "source": [
    "full_model = BERTopic.load('/home/ande2472/data/generate_topics_output/generated_models/ordered_16_emb_combined_generated_model')"
   ]
  },
  {
   "cell_type": "code",
   "execution_count": 46,
   "metadata": {},
   "outputs": [],
   "source": [
    "fulltopicsfile = Path('/home/ande2472/data/generate_topics_output/generated_topics/ordered_16_emb_combined_generated_topics.pickle')\n",
    "fullprobsfile = Path('/home/ande2472/data/generate_topics_output/generated_probabilities/ordered_16_emb_combined_generated_probabilities.pickle')\n",
    "with open(fullprobsfile, \"rb\") as f:\n",
    "  full_probs = pickle.load(f)\n",
    "with open(fulltopicsfile, \"rb\") as f:\n",
    "  full_topics = pickle.load(f)"
   ]
  },
  {
   "cell_type": "code",
   "execution_count": 42,
   "metadata": {},
   "outputs": [
    {
     "data": {
      "text/html": [
       "<div>\n",
       "<style scoped>\n",
       "    .dataframe tbody tr th:only-of-type {\n",
       "        vertical-align: middle;\n",
       "    }\n",
       "\n",
       "    .dataframe tbody tr th {\n",
       "        vertical-align: top;\n",
       "    }\n",
       "\n",
       "    .dataframe thead th {\n",
       "        text-align: right;\n",
       "    }\n",
       "</style>\n",
       "<table border=\"1\" class=\"dataframe\">\n",
       "  <thead>\n",
       "    <tr style=\"text-align: right;\">\n",
       "      <th></th>\n",
       "      <th>Topic</th>\n",
       "      <th>Count</th>\n",
       "      <th>Name</th>\n",
       "      <th>Representation</th>\n",
       "      <th>Representative_Docs</th>\n",
       "    </tr>\n",
       "  </thead>\n",
       "  <tbody>\n",
       "    <tr>\n",
       "      <th>0</th>\n",
       "      <td>0</td>\n",
       "      <td>1185</td>\n",
       "      <td>0_polymorphism_polymorphisms_genotype_allele</td>\n",
       "      <td>[polymorphism, polymorphisms, genotype, allele...</td>\n",
       "      <td>NaN</td>\n",
       "    </tr>\n",
       "    <tr>\n",
       "      <th>1</th>\n",
       "      <td>1</td>\n",
       "      <td>208</td>\n",
       "      <td>1_habitat_climate_conservation_ecosystem</td>\n",
       "      <td>[habitat, climate, conservation, ecosystem, ch...</td>\n",
       "      <td>NaN</td>\n",
       "    </tr>\n",
       "    <tr>\n",
       "      <th>2</th>\n",
       "      <td>2</td>\n",
       "      <td>124</td>\n",
       "      <td>2_sleep_outofbody_cognitive_adhd</td>\n",
       "      <td>[sleep, outofbody, cognitive, adhd, paralysis,...</td>\n",
       "      <td>NaN</td>\n",
       "    </tr>\n",
       "    <tr>\n",
       "      <th>3</th>\n",
       "      <td>3</td>\n",
       "      <td>921</td>\n",
       "      <td>3_detection_sensor_fluorescence_biosensor</td>\n",
       "      <td>[detection, sensor, fluorescence, biosensor, a...</td>\n",
       "      <td>NaN</td>\n",
       "    </tr>\n",
       "    <tr>\n",
       "      <th>4</th>\n",
       "      <td>4</td>\n",
       "      <td>670</td>\n",
       "      <td>4_macrophages_mice_cells_expression</td>\n",
       "      <td>[macrophages, mice, cells, expression, fibrosi...</td>\n",
       "      <td>NaN</td>\n",
       "    </tr>\n",
       "    <tr>\n",
       "      <th>...</th>\n",
       "      <td>...</td>\n",
       "      <td>...</td>\n",
       "      <td>...</td>\n",
       "      <td>...</td>\n",
       "      <td>...</td>\n",
       "    </tr>\n",
       "    <tr>\n",
       "      <th>495</th>\n",
       "      <td>495</td>\n",
       "      <td>1084</td>\n",
       "      <td>495_article_ethics_argue_cultural</td>\n",
       "      <td>[article, ethics, argue, cultural, queer, ethi...</td>\n",
       "      <td>NaN</td>\n",
       "    </tr>\n",
       "    <tr>\n",
       "      <th>496</th>\n",
       "      <td>496</td>\n",
       "      <td>2082</td>\n",
       "      <td>496_algorithm_method_proposed_paper</td>\n",
       "      <td>[algorithm, method, proposed, paper, network, ...</td>\n",
       "      <td>NaN</td>\n",
       "    </tr>\n",
       "    <tr>\n",
       "      <th>497</th>\n",
       "      <td>497</td>\n",
       "      <td>277</td>\n",
       "      <td>497_sperm_semen_diu_bpa</td>\n",
       "      <td>[sperm, semen, diu, bpa, scn, mercury, denudat...</td>\n",
       "      <td>NaN</td>\n",
       "    </tr>\n",
       "    <tr>\n",
       "      <th>498</th>\n",
       "      <td>498</td>\n",
       "      <td>797</td>\n",
       "      <td>498_mri_image_images_ct</td>\n",
       "      <td>[mri, image, images, ct, imaging, t1, icc, coe...</td>\n",
       "      <td>NaN</td>\n",
       "    </tr>\n",
       "    <tr>\n",
       "      <th>499</th>\n",
       "      <td>499</td>\n",
       "      <td>686</td>\n",
       "      <td>499_preterm_infants_gestational_pregnancies</td>\n",
       "      <td>[preterm, infants, gestational, pregnancies, n...</td>\n",
       "      <td>NaN</td>\n",
       "    </tr>\n",
       "  </tbody>\n",
       "</table>\n",
       "<p>500 rows × 5 columns</p>\n",
       "</div>"
      ],
      "text/plain": [
       "     Topic  Count                                          Name  \\\n",
       "0        0   1185  0_polymorphism_polymorphisms_genotype_allele   \n",
       "1        1    208      1_habitat_climate_conservation_ecosystem   \n",
       "2        2    124              2_sleep_outofbody_cognitive_adhd   \n",
       "3        3    921     3_detection_sensor_fluorescence_biosensor   \n",
       "4        4    670           4_macrophages_mice_cells_expression   \n",
       "..     ...    ...                                           ...   \n",
       "495    495   1084             495_article_ethics_argue_cultural   \n",
       "496    496   2082           496_algorithm_method_proposed_paper   \n",
       "497    497    277                       497_sperm_semen_diu_bpa   \n",
       "498    498    797                       498_mri_image_images_ct   \n",
       "499    499    686   499_preterm_infants_gestational_pregnancies   \n",
       "\n",
       "                                        Representation  Representative_Docs  \n",
       "0    [polymorphism, polymorphisms, genotype, allele...                  NaN  \n",
       "1    [habitat, climate, conservation, ecosystem, ch...                  NaN  \n",
       "2    [sleep, outofbody, cognitive, adhd, paralysis,...                  NaN  \n",
       "3    [detection, sensor, fluorescence, biosensor, a...                  NaN  \n",
       "4    [macrophages, mice, cells, expression, fibrosi...                  NaN  \n",
       "..                                                 ...                  ...  \n",
       "495  [article, ethics, argue, cultural, queer, ethi...                  NaN  \n",
       "496  [algorithm, method, proposed, paper, network, ...                  NaN  \n",
       "497  [sperm, semen, diu, bpa, scn, mercury, denudat...                  NaN  \n",
       "498  [mri, image, images, ct, imaging, t1, icc, coe...                  NaN  \n",
       "499  [preterm, infants, gestational, pregnancies, n...                  NaN  \n",
       "\n",
       "[500 rows x 5 columns]"
      ]
     },
     "execution_count": 42,
     "metadata": {},
     "output_type": "execute_result"
    }
   ],
   "source": [
    "topic_info = topic_model.get_topic_info()\n",
    "topic_info"
   ]
  },
  {
   "cell_type": "code",
   "execution_count": 47,
   "metadata": {},
   "outputs": [
    {
     "data": {
      "text/html": [
       "<div>\n",
       "<style scoped>\n",
       "    .dataframe tbody tr th:only-of-type {\n",
       "        vertical-align: middle;\n",
       "    }\n",
       "\n",
       "    .dataframe tbody tr th {\n",
       "        vertical-align: top;\n",
       "    }\n",
       "\n",
       "    .dataframe thead th {\n",
       "        text-align: right;\n",
       "    }\n",
       "</style>\n",
       "<table border=\"1\" class=\"dataframe\">\n",
       "  <thead>\n",
       "    <tr style=\"text-align: right;\">\n",
       "      <th></th>\n",
       "      <th>Topic</th>\n",
       "      <th>Count</th>\n",
       "      <th>Name</th>\n",
       "      <th>Representation</th>\n",
       "      <th>Representative_Docs</th>\n",
       "    </tr>\n",
       "  </thead>\n",
       "  <tbody>\n",
       "    <tr>\n",
       "      <th>0</th>\n",
       "      <td>-1</td>\n",
       "      <td>240103</td>\n",
       "      <td>-1_patients_study_2022_health</td>\n",
       "      <td>[patients, study, 2022, health, using, treatme...</td>\n",
       "      <td>[cluster randomized controlled trial evaluate ...</td>\n",
       "    </tr>\n",
       "    <tr>\n",
       "      <th>1</th>\n",
       "      <td>0</td>\n",
       "      <td>109</td>\n",
       "      <td>0_allele_amp sons_wiley amp_john wiley</td>\n",
       "      <td>[allele, amp sons, wiley amp, john wiley, sons...</td>\n",
       "      <td>[novel hla-c * 01:239 allele , identified sang...</td>\n",
       "    </tr>\n",
       "    <tr>\n",
       "      <th>2</th>\n",
       "      <td>1</td>\n",
       "      <td>1288</td>\n",
       "      <td>1_gt_lt gt_lt_gt lt</td>\n",
       "      <td>[gt, lt gt, lt, gt lt, lt sub, sub, sub gt, lt...</td>\n",
       "      <td>[roles plasma accessible cytosolic carbonic an...</td>\n",
       "    </tr>\n",
       "    <tr>\n",
       "      <th>3</th>\n",
       "      <td>2</td>\n",
       "      <td>202</td>\n",
       "      <td>2_et al_et_al_plants</td>\n",
       "      <td>[et al, et, al, plants, leaves, inoculated, fi...</td>\n",
       "      <td>[first report phyllosticta capitalensis causin...</td>\n",
       "    </tr>\n",
       "    <tr>\n",
       "      <th>4</th>\n",
       "      <td>3</td>\n",
       "      <td>185</td>\n",
       "      <td>3_strain_nov_sp nov_sp</td>\n",
       "      <td>[strain, nov, sp nov, sp, genus, strains, nove...</td>\n",
       "      <td>[paracrocinitomix mangrovi gen. nov. , sp . no...</td>\n",
       "    </tr>\n",
       "    <tr>\n",
       "      <th>...</th>\n",
       "      <td>...</td>\n",
       "      <td>...</td>\n",
       "      <td>...</td>\n",
       "      <td>...</td>\n",
       "      <td>...</td>\n",
       "    </tr>\n",
       "    <tr>\n",
       "      <th>326</th>\n",
       "      <td>325</td>\n",
       "      <td>142</td>\n",
       "      <td>325_group_model group_rats_lt 001</td>\n",
       "      <td>[group, model group, rats, lt 001, lt, lt 005,...</td>\n",
       "      <td>[[ electroacupuncture preconditioning improves...</td>\n",
       "    </tr>\n",
       "    <tr>\n",
       "      <th>327</th>\n",
       "      <td>326</td>\n",
       "      <td>511</td>\n",
       "      <td>326_case_abdominal_rare_obstruction</td>\n",
       "      <td>[case, abdominal, rare, obstruction, hernia, r...</td>\n",
       "      <td>[appendiceal mucinous tumor presenting recurre...</td>\n",
       "    </tr>\n",
       "    <tr>\n",
       "      <th>328</th>\n",
       "      <td>327</td>\n",
       "      <td>1340</td>\n",
       "      <td>327_case_rare_tumor_report</td>\n",
       "      <td>[case, rare, tumor, report, case report, carci...</td>\n",
       "      <td>[extremely rare case anterior mediastinal leio...</td>\n",
       "    </tr>\n",
       "    <tr>\n",
       "      <th>329</th>\n",
       "      <td>328</td>\n",
       "      <td>694</td>\n",
       "      <td>328_injury_pathway_mice_apoptosis</td>\n",
       "      <td>[injury, pathway, mice, apoptosis, expression,...</td>\n",
       "      <td>[coptisine protects hyperuricemic nephropathy ...</td>\n",
       "    </tr>\n",
       "    <tr>\n",
       "      <th>330</th>\n",
       "      <td>329</td>\n",
       "      <td>111</td>\n",
       "      <td>329_cerebral_injury_ischemic_brain</td>\n",
       "      <td>[cerebral, injury, ischemic, brain, ir, neuron...</td>\n",
       "      <td>[albiflorin relieves cerebral ischemia-reperfu...</td>\n",
       "    </tr>\n",
       "  </tbody>\n",
       "</table>\n",
       "<p>331 rows × 5 columns</p>\n",
       "</div>"
      ],
      "text/plain": [
       "     Topic   Count                                    Name  \\\n",
       "0       -1  240103           -1_patients_study_2022_health   \n",
       "1        0     109  0_allele_amp sons_wiley amp_john wiley   \n",
       "2        1    1288                     1_gt_lt gt_lt_gt lt   \n",
       "3        2     202                    2_et al_et_al_plants   \n",
       "4        3     185                  3_strain_nov_sp nov_sp   \n",
       "..     ...     ...                                     ...   \n",
       "326    325     142       325_group_model group_rats_lt 001   \n",
       "327    326     511     326_case_abdominal_rare_obstruction   \n",
       "328    327    1340              327_case_rare_tumor_report   \n",
       "329    328     694       328_injury_pathway_mice_apoptosis   \n",
       "330    329     111      329_cerebral_injury_ischemic_brain   \n",
       "\n",
       "                                        Representation  \\\n",
       "0    [patients, study, 2022, health, using, treatme...   \n",
       "1    [allele, amp sons, wiley amp, john wiley, sons...   \n",
       "2    [gt, lt gt, lt, gt lt, lt sub, sub, sub gt, lt...   \n",
       "3    [et al, et, al, plants, leaves, inoculated, fi...   \n",
       "4    [strain, nov, sp nov, sp, genus, strains, nove...   \n",
       "..                                                 ...   \n",
       "326  [group, model group, rats, lt 001, lt, lt 005,...   \n",
       "327  [case, abdominal, rare, obstruction, hernia, r...   \n",
       "328  [case, rare, tumor, report, case report, carci...   \n",
       "329  [injury, pathway, mice, apoptosis, expression,...   \n",
       "330  [cerebral, injury, ischemic, brain, ir, neuron...   \n",
       "\n",
       "                                   Representative_Docs  \n",
       "0    [cluster randomized controlled trial evaluate ...  \n",
       "1    [novel hla-c * 01:239 allele , identified sang...  \n",
       "2    [roles plasma accessible cytosolic carbonic an...  \n",
       "3    [first report phyllosticta capitalensis causin...  \n",
       "4    [paracrocinitomix mangrovi gen. nov. , sp . no...  \n",
       "..                                                 ...  \n",
       "326  [[ electroacupuncture preconditioning improves...  \n",
       "327  [appendiceal mucinous tumor presenting recurre...  \n",
       "328  [extremely rare case anterior mediastinal leio...  \n",
       "329  [coptisine protects hyperuricemic nephropathy ...  \n",
       "330  [albiflorin relieves cerebral ischemia-reperfu...  \n",
       "\n",
       "[331 rows x 5 columns]"
      ]
     },
     "execution_count": 47,
     "metadata": {},
     "output_type": "execute_result"
    }
   ],
   "source": [
    "full_info = full_model.get_topic_info()"
   ]
  },
  {
   "cell_type": "code",
   "execution_count": 48,
   "metadata": {},
   "outputs": [
    {
     "data": {
      "text/plain": [
       "[-1,\n",
       " -1,\n",
       " 104,\n",
       " -1,\n",
       " 104,\n",
       " 145,\n",
       " 66,\n",
       " -1,\n",
       " -1,\n",
       " 328,\n",
       " -1,\n",
       " 102,\n",
       " -1,\n",
       " 24,\n",
       " 217,\n",
       " -1,\n",
       " -1,\n",
       " -1,\n",
       " 102,\n",
       " -1,\n",
       " -1,\n",
       " 189,\n",
       " -1,\n",
       " -1,\n",
       " -1,\n",
       " 174,\n",
       " 291,\n",
       " -1,\n",
       " -1,\n",
       " 206,\n",
       " -1,\n",
       " 287,\n",
       " -1,\n",
       " 300,\n",
       " 135,\n",
       " -1,\n",
       " 205,\n",
       " -1,\n",
       " -1,\n",
       " 283,\n",
       " -1,\n",
       " 250,\n",
       " -1,\n",
       " 82,\n",
       " 77,\n",
       " -1,\n",
       " 16,\n",
       " -1,\n",
       " -1,\n",
       " -1,\n",
       " 262,\n",
       " -1,\n",
       " 326,\n",
       " -1,\n",
       " 241,\n",
       " 294,\n",
       " -1,\n",
       " 192,\n",
       " 60,\n",
       " 61,\n",
       " 60,\n",
       " -1,\n",
       " -1,\n",
       " -1,\n",
       " -1,\n",
       " 211,\n",
       " -1,\n",
       " -1,\n",
       " -1,\n",
       " -1,\n",
       " 186,\n",
       " -1,\n",
       " 148,\n",
       " -1,\n",
       " -1,\n",
       " -1,\n",
       " 132,\n",
       " 206,\n",
       " -1,\n",
       " 189,\n",
       " 98,\n",
       " -1,\n",
       " 145,\n",
       " -1,\n",
       " -1,\n",
       " -1,\n",
       " -1,\n",
       " -1,\n",
       " -1,\n",
       " 79,\n",
       " -1,\n",
       " 12,\n",
       " -1,\n",
       " 84,\n",
       " 237,\n",
       " 90,\n",
       " -1,\n",
       " 265,\n",
       " 316,\n",
       " 14,\n",
       " -1,\n",
       " -1,\n",
       " -1,\n",
       " -1,\n",
       " -1,\n",
       " -1,\n",
       " 217,\n",
       " 286,\n",
       " -1,\n",
       " -1,\n",
       " -1,\n",
       " 189,\n",
       " -1,\n",
       " -1,\n",
       " -1,\n",
       " -1,\n",
       " 186,\n",
       " 104,\n",
       " -1,\n",
       " 209,\n",
       " 150,\n",
       " 104,\n",
       " -1,\n",
       " -1,\n",
       " -1,\n",
       " -1,\n",
       " -1,\n",
       " -1,\n",
       " -1,\n",
       " 232,\n",
       " -1,\n",
       " 156,\n",
       " -1,\n",
       " -1,\n",
       " -1,\n",
       " 89,\n",
       " -1,\n",
       " -1,\n",
       " 263,\n",
       " 129,\n",
       " 42,\n",
       " -1,\n",
       " -1,\n",
       " -1,\n",
       " -1,\n",
       " -1,\n",
       " -1,\n",
       " 24,\n",
       " -1,\n",
       " 98,\n",
       " 151,\n",
       " 291,\n",
       " -1,\n",
       " -1,\n",
       " -1,\n",
       " 223,\n",
       " 44,\n",
       " -1,\n",
       " 44,\n",
       " -1,\n",
       " -1,\n",
       " 105,\n",
       " -1,\n",
       " -1,\n",
       " -1,\n",
       " -1,\n",
       " 186,\n",
       " -1,\n",
       " -1,\n",
       " -1,\n",
       " -1,\n",
       " -1,\n",
       " -1,\n",
       " 300,\n",
       " 59,\n",
       " 327,\n",
       " -1,\n",
       " -1,\n",
       " -1,\n",
       " -1,\n",
       " -1,\n",
       " -1,\n",
       " -1,\n",
       " -1,\n",
       " -1,\n",
       " -1,\n",
       " -1,\n",
       " 148,\n",
       " -1,\n",
       " 291,\n",
       " 213,\n",
       " -1,\n",
       " 59,\n",
       " -1,\n",
       " 182,\n",
       " -1,\n",
       " -1,\n",
       " -1,\n",
       " -1,\n",
       " -1,\n",
       " -1,\n",
       " 50,\n",
       " -1,\n",
       " -1,\n",
       " -1,\n",
       " 201,\n",
       " 229,\n",
       " -1,\n",
       " -1,\n",
       " 254,\n",
       " -1,\n",
       " -1,\n",
       " -1,\n",
       " -1,\n",
       " -1,\n",
       " 171,\n",
       " -1,\n",
       " -1,\n",
       " -1,\n",
       " 110,\n",
       " -1,\n",
       " -1,\n",
       " -1,\n",
       " -1,\n",
       " -1,\n",
       " -1,\n",
       " 286,\n",
       " -1,\n",
       " -1,\n",
       " -1,\n",
       " 46,\n",
       " -1,\n",
       " -1,\n",
       " 202,\n",
       " -1,\n",
       " -1,\n",
       " -1,\n",
       " -1,\n",
       " -1,\n",
       " -1,\n",
       " -1,\n",
       " 77,\n",
       " -1,\n",
       " -1,\n",
       " -1,\n",
       " -1,\n",
       " 291,\n",
       " -1,\n",
       " -1,\n",
       " -1,\n",
       " -1,\n",
       " -1,\n",
       " -1,\n",
       " -1,\n",
       " -1,\n",
       " -1,\n",
       " -1,\n",
       " -1,\n",
       " 152,\n",
       " -1,\n",
       " -1,\n",
       " 307,\n",
       " -1,\n",
       " -1,\n",
       " -1,\n",
       " 253,\n",
       " -1,\n",
       " -1,\n",
       " 206,\n",
       " -1,\n",
       " -1,\n",
       " -1,\n",
       " -1,\n",
       " -1,\n",
       " -1,\n",
       " 218,\n",
       " -1,\n",
       " 174,\n",
       " 315,\n",
       " -1,\n",
       " 327,\n",
       " 313,\n",
       " 317,\n",
       " -1,\n",
       " -1,\n",
       " -1,\n",
       " -1,\n",
       " -1,\n",
       " -1,\n",
       " -1,\n",
       " -1,\n",
       " -1,\n",
       " -1,\n",
       " 200,\n",
       " -1,\n",
       " 282,\n",
       " -1,\n",
       " -1,\n",
       " 294,\n",
       " -1,\n",
       " -1,\n",
       " 231,\n",
       " -1,\n",
       " -1,\n",
       " -1,\n",
       " -1,\n",
       " -1,\n",
       " -1,\n",
       " -1,\n",
       " 230,\n",
       " -1,\n",
       " 14,\n",
       " -1,\n",
       " -1,\n",
       " 218,\n",
       " -1,\n",
       " 146,\n",
       " -1,\n",
       " -1,\n",
       " -1,\n",
       " 32,\n",
       " 59,\n",
       " 166,\n",
       " -1,\n",
       " 326,\n",
       " -1,\n",
       " -1,\n",
       " -1,\n",
       " -1,\n",
       " -1,\n",
       " -1,\n",
       " -1,\n",
       " 326,\n",
       " -1,\n",
       " -1,\n",
       " -1,\n",
       " 189,\n",
       " -1,\n",
       " -1,\n",
       " -1,\n",
       " -1,\n",
       " 315,\n",
       " 209,\n",
       " -1,\n",
       " 91,\n",
       " 316,\n",
       " -1,\n",
       " 104,\n",
       " 97,\n",
       " 268,\n",
       " -1,\n",
       " -1,\n",
       " -1,\n",
       " -1,\n",
       " -1,\n",
       " -1,\n",
       " -1,\n",
       " -1,\n",
       " -1,\n",
       " -1,\n",
       " -1,\n",
       " -1,\n",
       " -1,\n",
       " -1,\n",
       " -1,\n",
       " -1,\n",
       " -1,\n",
       " -1,\n",
       " -1,\n",
       " -1,\n",
       " -1,\n",
       " 214,\n",
       " -1,\n",
       " -1,\n",
       " -1,\n",
       " -1,\n",
       " -1,\n",
       " -1,\n",
       " 265,\n",
       " 102,\n",
       " -1,\n",
       " 49,\n",
       " 326,\n",
       " 326,\n",
       " 286,\n",
       " 44,\n",
       " 262,\n",
       " -1,\n",
       " 286,\n",
       " 12,\n",
       " 6,\n",
       " 262,\n",
       " 138,\n",
       " -1,\n",
       " 161,\n",
       " -1,\n",
       " -1,\n",
       " 98,\n",
       " -1,\n",
       " 310,\n",
       " -1,\n",
       " 159,\n",
       " -1,\n",
       " 186,\n",
       " 250,\n",
       " 208,\n",
       " 186,\n",
       " -1,\n",
       " -1,\n",
       " 208,\n",
       " -1,\n",
       " -1,\n",
       " -1,\n",
       " -1,\n",
       " 205,\n",
       " -1,\n",
       " -1,\n",
       " -1,\n",
       " 208,\n",
       " -1,\n",
       " 186,\n",
       " 186,\n",
       " 186,\n",
       " 208,\n",
       " -1,\n",
       " -1,\n",
       " -1,\n",
       " -1,\n",
       " 186,\n",
       " 79,\n",
       " -1,\n",
       " -1,\n",
       " -1,\n",
       " -1,\n",
       " 52,\n",
       " -1,\n",
       " 248,\n",
       " -1,\n",
       " 105,\n",
       " 316,\n",
       " -1,\n",
       " -1,\n",
       " -1,\n",
       " -1,\n",
       " -1,\n",
       " -1,\n",
       " -1,\n",
       " -1,\n",
       " -1,\n",
       " -1,\n",
       " -1,\n",
       " 145,\n",
       " -1,\n",
       " 7,\n",
       " 145,\n",
       " -1,\n",
       " -1,\n",
       " -1,\n",
       " -1,\n",
       " -1,\n",
       " -1,\n",
       " 286,\n",
       " 287,\n",
       " -1,\n",
       " 262,\n",
       " -1,\n",
       " -1,\n",
       " 138,\n",
       " -1,\n",
       " -1,\n",
       " -1,\n",
       " 262,\n",
       " 286,\n",
       " -1,\n",
       " -1,\n",
       " 263,\n",
       " -1,\n",
       " -1,\n",
       " 262,\n",
       " -1,\n",
       " 150,\n",
       " -1,\n",
       " -1,\n",
       " -1,\n",
       " 262,\n",
       " -1,\n",
       " -1,\n",
       " 138,\n",
       " -1,\n",
       " -1,\n",
       " 269,\n",
       " -1,\n",
       " 263,\n",
       " -1,\n",
       " 14,\n",
       " 294,\n",
       " -1,\n",
       " 104,\n",
       " 293,\n",
       " -1,\n",
       " -1,\n",
       " -1,\n",
       " 327,\n",
       " 262,\n",
       " 293,\n",
       " 296,\n",
       " 286,\n",
       " 104,\n",
       " 294,\n",
       " 132,\n",
       " -1,\n",
       " 143,\n",
       " 262,\n",
       " -1,\n",
       " 14,\n",
       " -1,\n",
       " -1,\n",
       " -1,\n",
       " 327,\n",
       " 327,\n",
       " 262,\n",
       " 132,\n",
       " 143,\n",
       " -1,\n",
       " -1,\n",
       " 66,\n",
       " -1,\n",
       " 49,\n",
       " -1,\n",
       " 136,\n",
       " 136,\n",
       " -1,\n",
       " 136,\n",
       " 136,\n",
       " 136,\n",
       " -1,\n",
       " -1,\n",
       " 136,\n",
       " 136,\n",
       " -1,\n",
       " 133,\n",
       " -1,\n",
       " -1,\n",
       " -1,\n",
       " 252,\n",
       " 241,\n",
       " 11,\n",
       " -1,\n",
       " -1,\n",
       " -1,\n",
       " -1,\n",
       " 221,\n",
       " 205,\n",
       " 306,\n",
       " 313,\n",
       " -1,\n",
       " -1,\n",
       " -1,\n",
       " 205,\n",
       " 244,\n",
       " 90,\n",
       " -1,\n",
       " 220,\n",
       " -1,\n",
       " -1,\n",
       " -1,\n",
       " -1,\n",
       " 300,\n",
       " 251,\n",
       " 261,\n",
       " -1,\n",
       " 56,\n",
       " -1,\n",
       " 213,\n",
       " -1,\n",
       " 241,\n",
       " 300,\n",
       " -1,\n",
       " 251,\n",
       " 241,\n",
       " -1,\n",
       " -1,\n",
       " 308,\n",
       " 251,\n",
       " -1,\n",
       " -1,\n",
       " -1,\n",
       " 241,\n",
       " -1,\n",
       " -1,\n",
       " -1,\n",
       " 38,\n",
       " -1,\n",
       " 208,\n",
       " -1,\n",
       " 180,\n",
       " -1,\n",
       " -1,\n",
       " -1,\n",
       " -1,\n",
       " 136,\n",
       " 231,\n",
       " -1,\n",
       " -1,\n",
       " 84,\n",
       " -1,\n",
       " 113,\n",
       " 307,\n",
       " -1,\n",
       " -1,\n",
       " -1,\n",
       " 116,\n",
       " 116,\n",
       " 154,\n",
       " -1,\n",
       " -1,\n",
       " 154,\n",
       " 90,\n",
       " 154,\n",
       " 154,\n",
       " 154,\n",
       " 154,\n",
       " -1,\n",
       " -1,\n",
       " -1,\n",
       " -1,\n",
       " 154,\n",
       " 154,\n",
       " 154,\n",
       " 55,\n",
       " 154,\n",
       " -1,\n",
       " -1,\n",
       " -1,\n",
       " -1,\n",
       " 236,\n",
       " 265,\n",
       " -1,\n",
       " -1,\n",
       " -1,\n",
       " 49,\n",
       " -1,\n",
       " -1,\n",
       " -1,\n",
       " -1,\n",
       " 31,\n",
       " 291,\n",
       " 42,\n",
       " -1,\n",
       " 291,\n",
       " 290,\n",
       " -1,\n",
       " -1,\n",
       " -1,\n",
       " 291,\n",
       " 108,\n",
       " 270,\n",
       " -1,\n",
       " 102,\n",
       " 95,\n",
       " -1,\n",
       " -1,\n",
       " 43,\n",
       " -1,\n",
       " -1,\n",
       " -1,\n",
       " -1,\n",
       " -1,\n",
       " -1,\n",
       " -1,\n",
       " -1,\n",
       " 154,\n",
       " -1,\n",
       " -1,\n",
       " -1,\n",
       " -1,\n",
       " -1,\n",
       " -1,\n",
       " -1,\n",
       " -1,\n",
       " 309,\n",
       " 316,\n",
       " 310,\n",
       " -1,\n",
       " 120,\n",
       " 316,\n",
       " 120,\n",
       " -1,\n",
       " -1,\n",
       " 292,\n",
       " 120,\n",
       " 120,\n",
       " 90,\n",
       " -1,\n",
       " -1,\n",
       " 218,\n",
       " -1,\n",
       " 136,\n",
       " -1,\n",
       " -1,\n",
       " -1,\n",
       " -1,\n",
       " -1,\n",
       " -1,\n",
       " -1,\n",
       " -1,\n",
       " -1,\n",
       " -1,\n",
       " -1,\n",
       " -1,\n",
       " 205,\n",
       " -1,\n",
       " -1,\n",
       " -1,\n",
       " 282,\n",
       " -1,\n",
       " -1,\n",
       " -1,\n",
       " 221,\n",
       " -1,\n",
       " 100,\n",
       " -1,\n",
       " -1,\n",
       " -1,\n",
       " -1,\n",
       " -1,\n",
       " -1,\n",
       " 262,\n",
       " -1,\n",
       " -1,\n",
       " 146,\n",
       " 100,\n",
       " -1,\n",
       " 92,\n",
       " -1,\n",
       " -1,\n",
       " -1,\n",
       " 146,\n",
       " -1,\n",
       " 213,\n",
       " -1,\n",
       " -1,\n",
       " -1,\n",
       " -1,\n",
       " 214,\n",
       " -1,\n",
       " -1,\n",
       " -1,\n",
       " -1,\n",
       " -1,\n",
       " 318,\n",
       " 28,\n",
       " 309,\n",
       " -1,\n",
       " -1,\n",
       " -1,\n",
       " -1,\n",
       " 269,\n",
       " -1,\n",
       " -1,\n",
       " -1,\n",
       " -1,\n",
       " -1,\n",
       " -1,\n",
       " -1,\n",
       " -1,\n",
       " -1,\n",
       " -1,\n",
       " -1,\n",
       " -1,\n",
       " -1,\n",
       " -1,\n",
       " -1,\n",
       " -1,\n",
       " -1,\n",
       " 186,\n",
       " -1,\n",
       " 186,\n",
       " 49,\n",
       " -1,\n",
       " -1,\n",
       " -1,\n",
       " -1,\n",
       " 278,\n",
       " 278,\n",
       " -1,\n",
       " 278,\n",
       " 186,\n",
       " -1,\n",
       " -1,\n",
       " 186,\n",
       " 254,\n",
       " -1,\n",
       " -1,\n",
       " 59,\n",
       " -1,\n",
       " 307,\n",
       " -1,\n",
       " 307,\n",
       " 98,\n",
       " 165,\n",
       " -1,\n",
       " -1,\n",
       " -1,\n",
       " -1,\n",
       " 286,\n",
       " 212,\n",
       " -1,\n",
       " -1,\n",
       " -1,\n",
       " -1,\n",
       " 145,\n",
       " -1,\n",
       " 248,\n",
       " -1,\n",
       " 254,\n",
       " -1,\n",
       " -1,\n",
       " -1,\n",
       " 29,\n",
       " -1,\n",
       " -1,\n",
       " 307,\n",
       " 309,\n",
       " -1,\n",
       " 52,\n",
       " -1,\n",
       " -1,\n",
       " 314,\n",
       " -1,\n",
       " -1,\n",
       " -1,\n",
       " -1,\n",
       " -1,\n",
       " -1,\n",
       " -1,\n",
       " 316,\n",
       " -1,\n",
       " -1,\n",
       " -1,\n",
       " -1,\n",
       " -1,\n",
       " -1,\n",
       " 205,\n",
       " -1,\n",
       " 310,\n",
       " -1,\n",
       " -1,\n",
       " -1,\n",
       " 130,\n",
       " 90,\n",
       " 91,\n",
       " 327,\n",
       " -1,\n",
       " -1,\n",
       " -1,\n",
       " -1,\n",
       " -1,\n",
       " -1,\n",
       " 307,\n",
       " 104,\n",
       " -1,\n",
       " -1,\n",
       " 61,\n",
       " -1,\n",
       " -1,\n",
       " -1,\n",
       " 292,\n",
       " 38,\n",
       " -1,\n",
       " 189,\n",
       " -1,\n",
       " -1,\n",
       " -1,\n",
       " -1,\n",
       " -1,\n",
       " 294,\n",
       " 327,\n",
       " 79,\n",
       " -1,\n",
       " -1,\n",
       " -1,\n",
       " -1,\n",
       " 326,\n",
       " 327,\n",
       " -1,\n",
       " -1,\n",
       " 309,\n",
       " -1,\n",
       " -1,\n",
       " 59,\n",
       " -1,\n",
       " 189,\n",
       " 132,\n",
       " -1,\n",
       " -1,\n",
       " -1,\n",
       " -1,\n",
       " -1,\n",
       " -1,\n",
       " 208,\n",
       " 199,\n",
       " -1,\n",
       " -1,\n",
       " 63,\n",
       " 205,\n",
       " 77,\n",
       " 77,\n",
       " -1,\n",
       " -1,\n",
       " 11,\n",
       " 77,\n",
       " 315,\n",
       " 256,\n",
       " 98,\n",
       " -1,\n",
       " 189,\n",
       " 241,\n",
       " -1,\n",
       " -1,\n",
       " 251,\n",
       " -1,\n",
       " -1,\n",
       " -1,\n",
       " -1,\n",
       " 138,\n",
       " -1,\n",
       " -1,\n",
       " -1,\n",
       " 227,\n",
       " -1,\n",
       " -1,\n",
       " -1,\n",
       " -1,\n",
       " -1,\n",
       " -1,\n",
       " -1,\n",
       " -1,\n",
       " 161,\n",
       " 168,\n",
       " -1,\n",
       " 161,\n",
       " 63,\n",
       " 218,\n",
       " 161,\n",
       " 161,\n",
       " -1,\n",
       " -1,\n",
       " -1,\n",
       " 218,\n",
       " 34,\n",
       " -1,\n",
       " 84,\n",
       " 199,\n",
       " 168,\n",
       " -1,\n",
       " -1,\n",
       " -1,\n",
       " 199,\n",
       " 8,\n",
       " 232,\n",
       " -1,\n",
       " 8,\n",
       " -1,\n",
       " -1,\n",
       " 232,\n",
       " -1,\n",
       " -1,\n",
       " 291,\n",
       " -1,\n",
       " -1,\n",
       " -1,\n",
       " -1,\n",
       " -1,\n",
       " 274,\n",
       " -1,\n",
       " -1,\n",
       " -1,\n",
       " -1,\n",
       " 171,\n",
       " 201,\n",
       " -1,\n",
       " -1,\n",
       " -1,\n",
       " -1,\n",
       " -1,\n",
       " -1,\n",
       " -1,\n",
       " 96,\n",
       " -1,\n",
       " 134,\n",
       " -1,\n",
       " -1,\n",
       " -1,\n",
       " -1,\n",
       " 262,\n",
       " 209,\n",
       " -1,\n",
       " 122,\n",
       " 205,\n",
       " ...]"
      ]
     },
     "execution_count": 48,
     "metadata": {},
     "output_type": "execute_result"
    }
   ],
   "source": [
    "full_topics"
   ]
  },
  {
   "cell_type": "code",
   "execution_count": 31,
   "metadata": {},
   "outputs": [],
   "source": [
    "\n",
    "from river import stream\n",
    "from river import cluster\n",
    "\n",
    "class River:\n",
    "    def __init__(self, model):\n",
    "        self.model = model\n",
    "\n",
    "    def partial_fit(self, umap_embeddings):\n",
    "        for umap_embedding, _ in stream.iter_array(umap_embeddings):\n",
    "            self.model = self.model.learn_one(umap_embedding)\n",
    "\n",
    "        labels = []\n",
    "        for umap_embedding, _ in stream.iter_array(umap_embeddings):\n",
    "            label = self.model.predict_one(umap_embedding)\n",
    "            labels.append(label)\n",
    "\n",
    "        self.labels_ = labels\n",
    "        return self"
   ]
  },
  {
   "cell_type": "markdown",
   "metadata": {},
   "source": [
    "### Fixing dates"
   ]
  },
  {
   "cell_type": "code",
   "execution_count": 18,
   "metadata": {},
   "outputs": [
    {
     "data": {
      "text/plain": [
       "262"
      ]
     },
     "execution_count": 18,
     "metadata": {},
     "output_type": "execute_result"
    }
   ],
   "source": [
    "500-238\n",
    "#/mnt/home/ande2472/data/newtsv\n",
    "#/mnt/home/ande2472/data/\n",
    "#262"
   ]
  },
  {
   "cell_type": "code",
   "execution_count": 19,
   "metadata": {},
   "outputs": [
    {
     "data": {
      "text/html": [
       "<div>\n",
       "<style scoped>\n",
       "    .dataframe tbody tr th:only-of-type {\n",
       "        vertical-align: middle;\n",
       "    }\n",
       "\n",
       "    .dataframe tbody tr th {\n",
       "        vertical-align: top;\n",
       "    }\n",
       "\n",
       "    .dataframe thead th {\n",
       "        text-align: right;\n",
       "    }\n",
       "</style>\n",
       "<table border=\"1\" class=\"dataframe\">\n",
       "  <thead>\n",
       "    <tr style=\"text-align: right;\">\n",
       "      <th></th>\n",
       "      <th>PMID</th>\n",
       "      <th>Date</th>\n",
       "      <th>Journal</th>\n",
       "      <th>Title</th>\n",
       "      <th>Abstract</th>\n",
       "      <th>DateTime</th>\n",
       "    </tr>\n",
       "  </thead>\n",
       "  <tbody>\n",
       "    <tr>\n",
       "      <th>0</th>\n",
       "      <td>36434480</td>\n",
       "      <td>2022-11-27</td>\n",
       "      <td>Journal of autism and developmental disorders</td>\n",
       "      <td>Neural Noise in Auditory Responses in Young Au...</td>\n",
       "      <td>Elevated \"neural noise\" has been advanced as a...</td>\n",
       "      <td>2022-11-27</td>\n",
       "    </tr>\n",
       "    <tr>\n",
       "      <th>1</th>\n",
       "      <td>36434482</td>\n",
       "      <td>2022-11-27</td>\n",
       "      <td>Annals of surgical oncology</td>\n",
       "      <td>Multiple Pretransplant Treatments for Patients...</td>\n",
       "      <td>Liver transplant (LT) candidates with hepatoce...</td>\n",
       "      <td>2022-11-27</td>\n",
       "    </tr>\n",
       "    <tr>\n",
       "      <th>2</th>\n",
       "      <td>36434498</td>\n",
       "      <td>2022-11-27</td>\n",
       "      <td>BMC genomics</td>\n",
       "      <td>Detection of potential functional variants bas...</td>\n",
       "      <td>Potential functional variants (PFVs) can be de...</td>\n",
       "      <td>2022-11-27</td>\n",
       "    </tr>\n",
       "    <tr>\n",
       "      <th>3</th>\n",
       "      <td>36434483</td>\n",
       "      <td>2022-11-27</td>\n",
       "      <td>Annals of surgical oncology</td>\n",
       "      <td>ASO Visual Abstract: Cytoreduction and HIPEC f...</td>\n",
       "      <td>NaN</td>\n",
       "      <td>2022-11-27</td>\n",
       "    </tr>\n",
       "    <tr>\n",
       "      <th>4</th>\n",
       "      <td>36434485</td>\n",
       "      <td>2022-11-27</td>\n",
       "      <td>Molecular biotechnology</td>\n",
       "      <td>Long Non-coding RNA H19 Recruits NFYB to Activ...</td>\n",
       "      <td>Doxorubicin (DOX) is a first-line chemo drug f...</td>\n",
       "      <td>2022-11-27</td>\n",
       "    </tr>\n",
       "    <tr>\n",
       "      <th>...</th>\n",
       "      <td>...</td>\n",
       "      <td>...</td>\n",
       "      <td>...</td>\n",
       "      <td>...</td>\n",
       "      <td>...</td>\n",
       "      <td>...</td>\n",
       "    </tr>\n",
       "    <tr>\n",
       "      <th>11255763</th>\n",
       "      <td>24387543</td>\n",
       "      <td>2014-01-07</td>\n",
       "      <td>Chaos (Woodbury, N.Y.)</td>\n",
       "      <td>Application of joint permutations for predicti...</td>\n",
       "      <td>In this work, we introduce a model for predict...</td>\n",
       "      <td>2014-01-07</td>\n",
       "    </tr>\n",
       "    <tr>\n",
       "      <th>11255764</th>\n",
       "      <td>24387512</td>\n",
       "      <td>2014-01-07</td>\n",
       "      <td>Medical physics</td>\n",
       "      <td>Effect of burst and recombination models for M...</td>\n",
       "      <td>The authors describe the modification to a pre...</td>\n",
       "      <td>2014-01-07</td>\n",
       "    </tr>\n",
       "    <tr>\n",
       "      <th>11255765</th>\n",
       "      <td>24387513</td>\n",
       "      <td>2014-01-07</td>\n",
       "      <td>Medical physics</td>\n",
       "      <td>Integral dose investigation of non-coplanar tr...</td>\n",
       "      <td>Automated planning and delivery of non-coplana...</td>\n",
       "      <td>2014-01-07</td>\n",
       "    </tr>\n",
       "    <tr>\n",
       "      <th>11255766</th>\n",
       "      <td>24387514</td>\n",
       "      <td>2014-01-07</td>\n",
       "      <td>Medical physics</td>\n",
       "      <td>Model-based PSF and MTF estimation and validat...</td>\n",
       "      <td>A method was developed to correct for systemat...</td>\n",
       "      <td>2014-01-07</td>\n",
       "    </tr>\n",
       "    <tr>\n",
       "      <th>11255767</th>\n",
       "      <td>24387515</td>\n",
       "      <td>2014-01-07</td>\n",
       "      <td>Medical physics</td>\n",
       "      <td>Stationary table CT dosimetry and anomalous sc...</td>\n",
       "      <td>Anomalous, scanner-reported values of CTDIvol ...</td>\n",
       "      <td>2014-01-07</td>\n",
       "    </tr>\n",
       "  </tbody>\n",
       "</table>\n",
       "<p>11255768 rows × 6 columns</p>\n",
       "</div>"
      ],
      "text/plain": [
       "              PMID        Date                                        Journal  \\\n",
       "0         36434480  2022-11-27  Journal of autism and developmental disorders   \n",
       "1         36434482  2022-11-27                    Annals of surgical oncology   \n",
       "2         36434498  2022-11-27                                   BMC genomics   \n",
       "3         36434483  2022-11-27                    Annals of surgical oncology   \n",
       "4         36434485  2022-11-27                        Molecular biotechnology   \n",
       "...            ...         ...                                            ...   \n",
       "11255763  24387543  2014-01-07                         Chaos (Woodbury, N.Y.)   \n",
       "11255764  24387512  2014-01-07                                Medical physics   \n",
       "11255765  24387513  2014-01-07                                Medical physics   \n",
       "11255766  24387514  2014-01-07                                Medical physics   \n",
       "11255767  24387515  2014-01-07                                Medical physics   \n",
       "\n",
       "                                                      Title  \\\n",
       "0         Neural Noise in Auditory Responses in Young Au...   \n",
       "1         Multiple Pretransplant Treatments for Patients...   \n",
       "2         Detection of potential functional variants bas...   \n",
       "3         ASO Visual Abstract: Cytoreduction and HIPEC f...   \n",
       "4         Long Non-coding RNA H19 Recruits NFYB to Activ...   \n",
       "...                                                     ...   \n",
       "11255763  Application of joint permutations for predicti...   \n",
       "11255764  Effect of burst and recombination models for M...   \n",
       "11255765  Integral dose investigation of non-coplanar tr...   \n",
       "11255766  Model-based PSF and MTF estimation and validat...   \n",
       "11255767  Stationary table CT dosimetry and anomalous sc...   \n",
       "\n",
       "                                                   Abstract    DateTime  \n",
       "0         Elevated \"neural noise\" has been advanced as a...  2022-11-27  \n",
       "1         Liver transplant (LT) candidates with hepatoce...  2022-11-27  \n",
       "2         Potential functional variants (PFVs) can be de...  2022-11-27  \n",
       "3                                                       NaN  2022-11-27  \n",
       "4         Doxorubicin (DOX) is a first-line chemo drug f...  2022-11-27  \n",
       "...                                                     ...         ...  \n",
       "11255763  In this work, we introduce a model for predict...  2014-01-07  \n",
       "11255764  The authors describe the modification to a pre...  2014-01-07  \n",
       "11255765  Automated planning and delivery of non-coplana...  2014-01-07  \n",
       "11255766  A method was developed to correct for systemat...  2014-01-07  \n",
       "11255767  Anomalous, scanner-reported values of CTDIvol ...  2014-01-07  \n",
       "\n",
       "[11255768 rows x 6 columns]"
      ]
     },
     "execution_count": 19,
     "metadata": {},
     "output_type": "execute_result"
    }
   ],
   "source": [
    "data = pd.read_csv('/mnt/home/ande2472/data/262_latest.csv', sep = '\\t')\n",
    "data"
   ]
  },
  {
   "cell_type": "code",
   "execution_count": 6,
   "metadata": {},
   "outputs": [
    {
     "data": {
      "text/html": [
       "<div>\n",
       "<style scoped>\n",
       "    .dataframe tbody tr th:only-of-type {\n",
       "        vertical-align: middle;\n",
       "    }\n",
       "\n",
       "    .dataframe tbody tr th {\n",
       "        vertical-align: top;\n",
       "    }\n",
       "\n",
       "    .dataframe thead th {\n",
       "        text-align: right;\n",
       "    }\n",
       "</style>\n",
       "<table border=\"1\" class=\"dataframe\">\n",
       "  <thead>\n",
       "    <tr style=\"text-align: right;\">\n",
       "      <th></th>\n",
       "      <th>index</th>\n",
       "      <th>PMID</th>\n",
       "      <th>Date</th>\n",
       "      <th>Journal</th>\n",
       "      <th>Title</th>\n",
       "      <th>Abstract</th>\n",
       "      <th>DateTime</th>\n",
       "      <th>txt</th>\n",
       "    </tr>\n",
       "  </thead>\n",
       "  <tbody>\n",
       "    <tr>\n",
       "      <th>0</th>\n",
       "      <td>1</td>\n",
       "      <td>10615391</td>\n",
       "      <td>2000-01-01</td>\n",
       "      <td>Cardiovascular research</td>\n",
       "      <td>Effects of the calcium channel antagonist mibe...</td>\n",
       "      <td>Abnormal intracellular Ca(2+)-handling has bee...</td>\n",
       "      <td>2000-01-01</td>\n",
       "      <td>Effects of the calcium channel antagonist mibe...</td>\n",
       "    </tr>\n",
       "    <tr>\n",
       "      <th>1</th>\n",
       "      <td>2</td>\n",
       "      <td>10615392</td>\n",
       "      <td>2000-01-01</td>\n",
       "      <td>Cardiovascular research</td>\n",
       "      <td>Transmyocardial laser revascularization limits...</td>\n",
       "      <td>Transmyocardial laser revascularization (TMR) ...</td>\n",
       "      <td>2000-01-01</td>\n",
       "      <td>Transmyocardial laser revascularization limits...</td>\n",
       "    </tr>\n",
       "    <tr>\n",
       "      <th>2</th>\n",
       "      <td>6</td>\n",
       "      <td>10615393</td>\n",
       "      <td>2000-01-01</td>\n",
       "      <td>Cardiovascular research</td>\n",
       "      <td>Disturbance of myocardial energy metabolism in...</td>\n",
       "      <td>The adenine nucleotide translocator (ANT) of t...</td>\n",
       "      <td>2000-01-01</td>\n",
       "      <td>Disturbance of myocardial energy metabolism in...</td>\n",
       "    </tr>\n",
       "    <tr>\n",
       "      <th>3</th>\n",
       "      <td>7</td>\n",
       "      <td>10615394</td>\n",
       "      <td>2000-01-01</td>\n",
       "      <td>Cardiovascular research</td>\n",
       "      <td>Intracellular Ca2+ and delay of ischemia-induc...</td>\n",
       "      <td>Short periods of ischemia and reperfusion alte...</td>\n",
       "      <td>2000-01-01</td>\n",
       "      <td>Intracellular Ca2+ and delay of ischemia-induc...</td>\n",
       "    </tr>\n",
       "    <tr>\n",
       "      <th>4</th>\n",
       "      <td>8</td>\n",
       "      <td>10615395</td>\n",
       "      <td>2000-01-01</td>\n",
       "      <td>Cardiovascular research</td>\n",
       "      <td>Transregulation of adenylyl-cyclase-coupled in...</td>\n",
       "      <td>In congestive heart failure (CHF), a desensiti...</td>\n",
       "      <td>2000-01-01</td>\n",
       "      <td>Transregulation of adenylyl-cyclase-coupled in...</td>\n",
       "    </tr>\n",
       "    <tr>\n",
       "      <th>...</th>\n",
       "      <td>...</td>\n",
       "      <td>...</td>\n",
       "      <td>...</td>\n",
       "      <td>...</td>\n",
       "      <td>...</td>\n",
       "      <td>...</td>\n",
       "      <td>...</td>\n",
       "      <td>...</td>\n",
       "    </tr>\n",
       "    <tr>\n",
       "      <th>18214608</th>\n",
       "      <td>43203</td>\n",
       "      <td>36475575</td>\n",
       "      <td>2022-12-09</td>\n",
       "      <td>ACS applied materials &amp;amp; interfaces</td>\n",
       "      <td>High-Throughput Microfluidic Production of Bim...</td>\n",
       "      <td>Nanoparticle-functionalized transition-metal c...</td>\n",
       "      <td>2022-12-09</td>\n",
       "      <td>High-Throughput Microfluidic Production of Bim...</td>\n",
       "    </tr>\n",
       "    <tr>\n",
       "      <th>18214609</th>\n",
       "      <td>43204</td>\n",
       "      <td>36475574</td>\n",
       "      <td>2022-12-09</td>\n",
       "      <td>ACS applied materials &amp;amp; interfaces</td>\n",
       "      <td>Oxygen Content Modulation Toward Highly Effici...</td>\n",
       "      <td>Vapor-transport deposition (VTD) method is the...</td>\n",
       "      <td>2022-12-09</td>\n",
       "      <td>Oxygen Content Modulation Toward Highly Effici...</td>\n",
       "    </tr>\n",
       "    <tr>\n",
       "      <th>18214610</th>\n",
       "      <td>43205</td>\n",
       "      <td>36475573</td>\n",
       "      <td>2022-12-09</td>\n",
       "      <td>Accounts of chemical research</td>\n",
       "      <td>Relaxometry with Nitrogen Vacancy (NV) Centers...</td>\n",
       "      <td>ConspectusRelaxometry is a technique which mak...</td>\n",
       "      <td>2022-12-09</td>\n",
       "      <td>Relaxometry with Nitrogen Vacancy (NV) Centers...</td>\n",
       "    </tr>\n",
       "    <tr>\n",
       "      <th>18214611</th>\n",
       "      <td>43206</td>\n",
       "      <td>36475579</td>\n",
       "      <td>2022-12-09</td>\n",
       "      <td>ACS applied materials &amp;amp; interfaces</td>\n",
       "      <td>A Universal Surface Treatment for p-i-n Perovs...</td>\n",
       "      <td>Perovskite interfaces critically influence the...</td>\n",
       "      <td>2022-12-09</td>\n",
       "      <td>A Universal Surface Treatment for p-i-n Perovs...</td>\n",
       "    </tr>\n",
       "    <tr>\n",
       "      <th>18214612</th>\n",
       "      <td>43207</td>\n",
       "      <td>36475572</td>\n",
       "      <td>2022-12-09</td>\n",
       "      <td>ACS biomaterials science &amp;amp; engineering</td>\n",
       "      <td>Porous Microneedles for Therapy and Diagnosis:...</td>\n",
       "      <td>The use of microneedles (MNs), an innovative t...</td>\n",
       "      <td>2022-12-09</td>\n",
       "      <td>Porous Microneedles for Therapy and Diagnosis:...</td>\n",
       "    </tr>\n",
       "  </tbody>\n",
       "</table>\n",
       "<p>18214613 rows × 8 columns</p>\n",
       "</div>"
      ],
      "text/plain": [
       "          index      PMID        Date  \\\n",
       "0             1  10615391  2000-01-01   \n",
       "1             2  10615392  2000-01-01   \n",
       "2             6  10615393  2000-01-01   \n",
       "3             7  10615394  2000-01-01   \n",
       "4             8  10615395  2000-01-01   \n",
       "...         ...       ...         ...   \n",
       "18214608  43203  36475575  2022-12-09   \n",
       "18214609  43204  36475574  2022-12-09   \n",
       "18214610  43205  36475573  2022-12-09   \n",
       "18214611  43206  36475579  2022-12-09   \n",
       "18214612  43207  36475572  2022-12-09   \n",
       "\n",
       "                                             Journal  \\\n",
       "0                            Cardiovascular research   \n",
       "1                            Cardiovascular research   \n",
       "2                            Cardiovascular research   \n",
       "3                            Cardiovascular research   \n",
       "4                            Cardiovascular research   \n",
       "...                                              ...   \n",
       "18214608      ACS applied materials &amp; interfaces   \n",
       "18214609      ACS applied materials &amp; interfaces   \n",
       "18214610               Accounts of chemical research   \n",
       "18214611      ACS applied materials &amp; interfaces   \n",
       "18214612  ACS biomaterials science &amp; engineering   \n",
       "\n",
       "                                                      Title  \\\n",
       "0         Effects of the calcium channel antagonist mibe...   \n",
       "1         Transmyocardial laser revascularization limits...   \n",
       "2         Disturbance of myocardial energy metabolism in...   \n",
       "3         Intracellular Ca2+ and delay of ischemia-induc...   \n",
       "4         Transregulation of adenylyl-cyclase-coupled in...   \n",
       "...                                                     ...   \n",
       "18214608  High-Throughput Microfluidic Production of Bim...   \n",
       "18214609  Oxygen Content Modulation Toward Highly Effici...   \n",
       "18214610  Relaxometry with Nitrogen Vacancy (NV) Centers...   \n",
       "18214611  A Universal Surface Treatment for p-i-n Perovs...   \n",
       "18214612  Porous Microneedles for Therapy and Diagnosis:...   \n",
       "\n",
       "                                                   Abstract    DateTime  \\\n",
       "0         Abnormal intracellular Ca(2+)-handling has bee...  2000-01-01   \n",
       "1         Transmyocardial laser revascularization (TMR) ...  2000-01-01   \n",
       "2         The adenine nucleotide translocator (ANT) of t...  2000-01-01   \n",
       "3         Short periods of ischemia and reperfusion alte...  2000-01-01   \n",
       "4         In congestive heart failure (CHF), a desensiti...  2000-01-01   \n",
       "...                                                     ...         ...   \n",
       "18214608  Nanoparticle-functionalized transition-metal c...  2022-12-09   \n",
       "18214609  Vapor-transport deposition (VTD) method is the...  2022-12-09   \n",
       "18214610  ConspectusRelaxometry is a technique which mak...  2022-12-09   \n",
       "18214611  Perovskite interfaces critically influence the...  2022-12-09   \n",
       "18214612  The use of microneedles (MNs), an innovative t...  2022-12-09   \n",
       "\n",
       "                                                        txt  \n",
       "0         Effects of the calcium channel antagonist mibe...  \n",
       "1         Transmyocardial laser revascularization limits...  \n",
       "2         Disturbance of myocardial energy metabolism in...  \n",
       "3         Intracellular Ca2+ and delay of ischemia-induc...  \n",
       "4         Transregulation of adenylyl-cyclase-coupled in...  \n",
       "...                                                     ...  \n",
       "18214608  High-Throughput Microfluidic Production of Bim...  \n",
       "18214609  Oxygen Content Modulation Toward Highly Effici...  \n",
       "18214610  Relaxometry with Nitrogen Vacancy (NV) Centers...  \n",
       "18214611  A Universal Surface Treatment for p-i-n Perovs...  \n",
       "18214612  Porous Microneedles for Therapy and Diagnosis:...  \n",
       "\n",
       "[18214613 rows x 8 columns]"
      ]
     },
     "execution_count": 6,
     "metadata": {},
     "output_type": "execute_result"
    }
   ],
   "source": [
    "df = pd.read_csv('/mnt/home/ande2472/data/generate_embeddings_v2/500_latest.csv', sep='\\t')\n",
    "df"
   ]
  },
  {
   "cell_type": "code",
   "execution_count": 3,
   "metadata": {},
   "outputs": [],
   "source": [
    "df75mil = pd.read_csv('/mnt/home/ande2472/data/generate_embeddings_v2/7.5mil_latest.csv', sep='\\t')"
   ]
  },
  {
   "cell_type": "code",
   "execution_count": 2,
   "metadata": {},
   "outputs": [
    {
     "ename": "MemoryError",
     "evalue": "",
     "output_type": "error",
     "traceback": [
      "\u001b[0;31m---------------------------------------------------------------------------\u001b[0m",
      "\u001b[0;31mMemoryError\u001b[0m                               Traceback (most recent call last)",
      "Cell \u001b[0;32mIn[2], line 6\u001b[0m\n\u001b[1;32m      4\u001b[0m emb_path \u001b[38;5;241m=\u001b[39m \u001b[38;5;124m'\u001b[39m\u001b[38;5;124m/mnt/home/ande2472/data/generate_embeddings_v2/ordered_500_emb_combined.pickle\u001b[39m\u001b[38;5;124m'\u001b[39m\n\u001b[1;32m      5\u001b[0m \u001b[38;5;28;01mwith\u001b[39;00m \u001b[38;5;28mopen\u001b[39m(emb_path, \u001b[38;5;124m\"\u001b[39m\u001b[38;5;124mrb\u001b[39m\u001b[38;5;124m\"\u001b[39m) \u001b[38;5;28;01mas\u001b[39;00m f:\n\u001b[0;32m----> 6\u001b[0m     emb_clean \u001b[38;5;241m=\u001b[39m \u001b[43mpickle\u001b[49m\u001b[38;5;241;43m.\u001b[39;49m\u001b[43mload\u001b[49m\u001b[43m(\u001b[49m\u001b[43mf\u001b[49m\u001b[43m)\u001b[49m\n",
      "\u001b[0;31mMemoryError\u001b[0m: "
     ]
    }
   ],
   "source": [
    "# clean_path = '/mnt/home/ande2472/data/generate_embeddings_v2/ordered_500_clean_combined.pickle'\n",
    "# with open(clean_path, \"rb\") as f:\n",
    "#     docs_clean = pickle.load(f)\n",
    "emb_path = '/mnt/home/ande2472/data/generate_embeddings_v2/ordered_500_emb_combined.pickle'\n",
    "with open(emb_path, \"rb\") as f:\n",
    "    emb_clean = pickle.load(f)\n"
   ]
  },
  {
   "cell_type": "code",
   "execution_count": 3,
   "metadata": {},
   "outputs": [
    {
     "ename": "MemoryError",
     "evalue": "",
     "output_type": "error",
     "traceback": [
      "\u001b[0;31m---------------------------------------------------------------------------\u001b[0m",
      "\u001b[0;31mMemoryError\u001b[0m                               Traceback (most recent call last)",
      "Cell \u001b[0;32mIn[3], line 5\u001b[0m\n\u001b[1;32m      2\u001b[0m \u001b[38;5;28;01mwhile\u001b[39;00m \u001b[38;5;28;01mTrue\u001b[39;00m:\n\u001b[1;32m      3\u001b[0m     \u001b[38;5;28;01mtry\u001b[39;00m:\n\u001b[1;32m      4\u001b[0m         \u001b[38;5;66;03m# Load a chunk of data using pickle\u001b[39;00m\n\u001b[0;32m----> 5\u001b[0m         chunk \u001b[38;5;241m=\u001b[39m \u001b[43mpickle\u001b[49m\u001b[38;5;241;43m.\u001b[39;49m\u001b[43mload\u001b[49m\u001b[43m(\u001b[49m\u001b[43mfile\u001b[49m\u001b[43m)\u001b[49m\n\u001b[1;32m      7\u001b[0m         \u001b[38;5;66;03m# Your code to work with the chunk goes here\u001b[39;00m\n\u001b[1;32m      8\u001b[0m         \u001b[38;5;28mprint\u001b[39m(chunk)\n",
      "\u001b[0;31mMemoryError\u001b[0m: "
     ]
    }
   ],
   "source": [
    "with open(emb_path, 'rb') as file:\n",
    "    while True:\n",
    "        try:\n",
    "            # Load a chunk of data using pickle\n",
    "            chunk = pickle.load(file)\n",
    "            \n",
    "            # Your code to work with the chunk goes here\n",
    "            print(chunk)\n",
    "            \n",
    "        except EOFError:\n",
    "            # End of file reached\n",
    "            break"
   ]
  },
  {
   "cell_type": "code",
   "execution_count": 14,
   "metadata": {},
   "outputs": [],
   "source": [
    "string = '/mnt/home/ande2472/data/generate_embeddings_v2/ordered_199_emb_combined.pickle '\n",
    "with open(string, \"rb\") as f:\n",
    "    embeddings = pickle.load(f)"
   ]
  },
  {
   "cell_type": "code",
   "execution_count": 15,
   "metadata": {},
   "outputs": [],
   "source": [
    "string2 = '/mnt/home/ande2472/data/generate_embeddings_v2/7.5mtest1clean.pickle'\n",
    "with open(string2, \"rb\") as f:\n",
    "    docs_clean = pickle.load(f)"
   ]
  },
  {
   "cell_type": "code",
   "execution_count": 14,
   "metadata": {},
   "outputs": [],
   "source": [
    "last_entries = docs_clean[-7500000:]\n",
    "last_embs = emb_clean[-7500000:]"
   ]
  },
  {
   "cell_type": "code",
   "execution_count": 16,
   "metadata": {},
   "outputs": [],
   "source": [
    "embout = '/mnt/home/ande2472/data/generate_embeddings_v2/7.5mtest1emb.pickle'\n",
    "cleanout = '/mnt/home/ande2472/data/generate_embeddings_v2/7.5mtest1clean.pickle'\n",
    "with open(embout, \"wb\") as f:\n",
    "    pickle.dump(last_embs, f)\n",
    "with open(cleanout, \"wb\") as f:\n",
    "    pickle.dump(last_entries, f)"
   ]
  },
  {
   "cell_type": "code",
   "execution_count": 22,
   "metadata": {},
   "outputs": [],
   "source": [
    "def splittsv(data, n_parts, save_dir):\n",
    "    dat_len = len(data)\n",
    "    part_len = math.floor(dat_len/n_parts)\n",
    "    remainder = len(data)%n_parts\n",
    "    n = 0\n",
    "    for i in tqdm(range(n_parts)):\n",
    "        if i != n_parts - 1:\n",
    "            newdat = data.iloc[n:n+part_len]\n",
    "        \n",
    "            savefile = save_dir/f'{i}_ordered.csv'\n",
    "            newdat.to_csv(savefile, sep='\\t', index=False)\n",
    "            n += part_len\n",
    "        if i == n_parts-1:\n",
    "            newdat = data.iloc[n:]\n",
    "            savefile = save_dir/f'{i}_ordered.csv'\n",
    "            newdat.to_csv(savefile, sep='\\t', index=False)\n",
    "            n += part_len+remainder\n",
    "\n",
    "\n",
    "\n",
    "\n",
    "    return part_len, remainder\n"
   ]
  },
  {
   "cell_type": "code",
   "execution_count": 24,
   "metadata": {},
   "outputs": [
    {
     "name": "stderr",
     "output_type": "stream",
     "text": [
      "100%|██████████| 500/500 [05:25<00:00,  1.53it/s]\n"
     ]
    },
    {
     "data": {
      "text/plain": [
       "(22511, 268)"
      ]
     },
     "execution_count": 24,
     "metadata": {},
     "output_type": "execute_result"
    }
   ],
   "source": [
    "savedir = Path('/mnt/home/ande2472/data')\n",
    "splittsv(data,500,savedir)"
   ]
  },
  {
   "cell_type": "code",
   "execution_count": 59,
   "metadata": {},
   "outputs": [
    {
     "data": {
      "text/plain": [
       "16554627"
      ]
     },
     "execution_count": 59,
     "metadata": {},
     "output_type": "execute_result"
    }
   ],
   "source": [
    "\n",
    "16521518+33109"
   ]
  },
  {
   "cell_type": "markdown",
   "metadata": {},
   "source": []
  },
  {
   "cell_type": "code",
   "execution_count": 60,
   "metadata": {},
   "outputs": [
    {
     "data": {
      "text/plain": [
       "16554627"
      ]
     },
     "execution_count": 60,
     "metadata": {},
     "output_type": "execute_result"
    }
   ],
   "source": [
    "len(data)"
   ]
  },
  {
   "cell_type": "code",
   "execution_count": null,
   "metadata": {},
   "outputs": [],
   "source": [
    "cluster_model = River(cluster.DBSTREAM())"
   ]
  },
  {
   "cell_type": "markdown",
   "metadata": {},
   "source": [
    "# generate heatmap"
   ]
  },
  {
   "cell_type": "code",
   "execution_count": 2,
   "metadata": {},
   "outputs": [],
   "source": [
    "OMprobsfile = '/mnt/home/ande2472/data/testdat/model_dat2.1/generated_probabilities/ordered_2_emb_combined_generated_probabilities.pickle'\n",
    "OMtopsfile = '/mnt/home/ande2472/data/testdat/model_dat2.1/generated_topics/ordered_2_emb_combined_generated_topics.pickle'\n",
    "OMmodelfile = '/mnt/home/ande2472/data/testdat/model_dat2.1/generated_models/ordered_2_emb_combined_generated_model'\n",
    "\n",
    "partpredictionsfile = '/mnt/home/ande2472/data/testdat/model_dat2.1/predictions.pickle'\n",
    "partmodelfile = '/mnt/home/ande2472/data/testdat/model_dat2.1/model_topics_extracted'\n",
    "partprobabilitiesfile = '/mnt/home/ande2472/data/testdat/model_dat2.1/probabilities.pickle'\n",
    "partdocsfile = '/mnt/home/ande2472/data/testdat/model_dat2.1/documents.pickle'"
   ]
  },
  {
   "cell_type": "code",
   "execution_count": 3,
   "metadata": {},
   "outputs": [],
   "source": [
    "OM2probsfile = '/mnt/home/ande2472/data/testdat/model_dat2.2/generated_probabilities/ordered_2_emb_combined_generated_probabilities.pickle'\n",
    "OM2topsfile = '/mnt/home/ande2472/data/testdat/model_dat2.2/generated_topics/ordered_2_emb_combined_generated_topics.pickle'\n",
    "OM2modelfile = '/mnt/home/ande2472/data/testdat/model_dat2.2/generated_models/ordered_2_emb_combined_generated_model'"
   ]
  },
  {
   "cell_type": "code",
   "execution_count": 24,
   "metadata": {},
   "outputs": [],
   "source": [
    "part2predictionsfile = '/mnt/home/ande2472/data/testdat/model_dat2.2/2predictions.pickle'\n",
    "part2modelfile = '/mnt/home/ande2472/data/testdat/model_dat2.2/2model_topics_extracted'\n",
    "part2probabilitiesfile = '/mnt/home/ande2472/data/testdat/model_dat2.2/2probabilities.pickle'\n",
    "part2docsfile = '/mnt/home/ande2472/data/testdat/model_dat2.2/2documents.pickle'"
   ]
  },
  {
   "cell_type": "code",
   "execution_count": 28,
   "metadata": {},
   "outputs": [],
   "source": [
    "part3predictionsfile = '/mnt/home/ande2472/data/testdat/model_dat2.2/3predictions.pickle'\n",
    "part3modelfile = '/mnt/home/ande2472/data/testdat/model_dat2.2/3model_topics_extracted'\n",
    "part3probabilitiesfile = '/mnt/home/ande2472/data/testdat/model_dat2.2/3probabilities.pickle'\n",
    "part3docsfile = '/mnt/home/ande2472/data/testdat/model_dat2.2/3documents.pickle'"
   ]
  },
  {
   "cell_type": "code",
   "execution_count": 16,
   "metadata": {},
   "outputs": [
    {
     "data": {
      "text/plain": [
       "'/mnt/home/ande2472/data/testdat/model_dat2/documents.pickle'"
      ]
     },
     "execution_count": 16,
     "metadata": {},
     "output_type": "execute_result"
    }
   ],
   "source": [
    "partdocsfile"
   ]
  },
  {
   "cell_type": "code",
   "execution_count": 7,
   "metadata": {},
   "outputs": [],
   "source": [
    "with open(OM2probsfile, \"rb\") as f:\n",
    "  OM2probs = pickle.load(f)\n",
    "with open(OM2topsfile, \"rb\") as f:\n",
    "  OM2tops = pickle.load(f)\n",
    "OM2model = BERTopic.load(OM2modelfile)"
   ]
  },
  {
   "cell_type": "code",
   "execution_count": 6,
   "metadata": {},
   "outputs": [
    {
     "name": "stdout",
     "output_type": "stream",
     "text": [
      "Mon Feb 12 11:23:40 2024 Building and compiling search function\n"
     ]
    }
   ],
   "source": [
    "with open(OMprobsfile, \"rb\") as f:\n",
    "  OMprobs = pickle.load(f)\n",
    "with open(OMtopsfile, \"rb\") as f:\n",
    "  OMtops = pickle.load(f)\n",
    "OMmodel = BERTopic.load(OMmodelfile)\n",
    "\n",
    "with open(partpredictionsfile, \"rb\") as f:\n",
    "  part_tops = pickle.load(f)\n",
    "with open(partdocsfile, \"rb\") as f:\n",
    "  part_doc = pickle.load(f)\n",
    "part_model = BERTopic.load(partmodelfile)\n",
    "with open(partprobabilitiesfile, \"rb\") as f:\n",
    "  part_probs = pickle.load(f)"
   ]
  },
  {
   "cell_type": "code",
   "execution_count": 29,
   "metadata": {},
   "outputs": [
    {
     "name": "stdout",
     "output_type": "stream",
     "text": [
      "Mon Feb 12 13:16:45 2024 Building and compiling search function\n"
     ]
    }
   ],
   "source": [
    "with open(part3predictionsfile, \"rb\") as f:\n",
    "  part_tops3 = pickle.load(f)\n",
    "with open(part3docsfile, \"rb\") as f:\n",
    "  part_doc3 = pickle.load(f)\n",
    "part_model3 = BERTopic.load(part3modelfile)\n",
    "with open(part3probabilitiesfile, \"rb\") as f:\n",
    "  part_probs3 = pickle.load(f)"
   ]
  },
  {
   "cell_type": "code",
   "execution_count": 30,
   "metadata": {},
   "outputs": [],
   "source": [
    "def converttopicdf(topics_list):\n",
    "    topic_dict = {}\n",
    "    for index, topic in enumerate(topics_list):\n",
    "        if topic not in topic_dict:\n",
    "            topic_dict[topic] = []\n",
    "        topic_dict[topic].append(index)\n",
    "    df = pd.DataFrame(topic_dict.items(), columns=['topic', 'document_indices'])\n",
    "    df['topic_length'] = df['document_indices']\n",
    "    for i in range(len(df)):\n",
    "     df['topic_length'][i] = len(df['document_indices'][i])\n",
    "    return df"
   ]
  },
  {
   "cell_type": "code",
   "execution_count": 31,
   "metadata": {},
   "outputs": [],
   "source": [
    "# Initialize an empty similarity matrix\n",
    "def calculate_similarity_matrix(topic1, topic2):\n",
    "    matrix = np.zeros((len(topic1),len(topic2)))\n",
    "\n",
    "    # Calculate the Jaccard similarity between each pair of topics\n",
    "    for i in range(len(topic1)):\n",
    "        for j in range(len(topic2)):\n",
    "            docs1 = set(topic1[topic1['topic'] == topic1['topic'][i]]['document_indices'].iloc[0])\n",
    "            docs2 = set(topic2[topic2['topic'] == topic2['topic'][j]]['document_indices'].iloc[0])\n",
    "            intersection = len(docs1.intersection(docs2))\n",
    "            union = len(docs1.union(docs2))\n",
    "            matrix[i, j] = intersection / union\n",
    "    \n",
    "    return matrix\n",
    "\n"
   ]
  },
  {
   "cell_type": "code",
   "execution_count": 32,
   "metadata": {},
   "outputs": [],
   "source": [
    "\n",
    "#sort matrix for heatmaps\n",
    "def sort_singularity_mat(matrix):\n",
    "    max_values = np.max(matrix, axis=1)\n",
    "    sorted_indices = np.argsort(max_values)[::-1]\n",
    "    sorted_similarity_matrix = matrix[sorted_indices]\n",
    "    max_values_col = np.max(sorted_similarity_matrix, axis=0)\n",
    "    sorted_indices_col = np.argsort(max_values_col)[::-1]\n",
    "    sorted_similarity_matrix2 = sorted_similarity_matrix[:, sorted_indices_col]\n",
    "    return sorted_similarity_matrix2"
   ]
  },
  {
   "cell_type": "code",
   "execution_count": 33,
   "metadata": {},
   "outputs": [],
   "source": [
    "topicdfog = converttopicdf(OMtops)\n",
    "topicdfnew = converttopicdf(part_tops)\n",
    "topicdfog2 = converttopicdf(OM2tops)\n",
    "topicdfnew2 = converttopicdf(part_tops2)\n",
    "topicdfnew3 = converttopicdf(part_tops3)"
   ]
  },
  {
   "cell_type": "code",
   "execution_count": 34,
   "metadata": {},
   "outputs": [
    {
     "data": {
      "text/html": [
       "<div>\n",
       "<style scoped>\n",
       "    .dataframe tbody tr th:only-of-type {\n",
       "        vertical-align: middle;\n",
       "    }\n",
       "\n",
       "    .dataframe tbody tr th {\n",
       "        vertical-align: top;\n",
       "    }\n",
       "\n",
       "    .dataframe thead th {\n",
       "        text-align: right;\n",
       "    }\n",
       "</style>\n",
       "<table border=\"1\" class=\"dataframe\">\n",
       "  <thead>\n",
       "    <tr style=\"text-align: right;\">\n",
       "      <th></th>\n",
       "      <th>topic</th>\n",
       "      <th>document_indices</th>\n",
       "      <th>topic_length</th>\n",
       "    </tr>\n",
       "  </thead>\n",
       "  <tbody>\n",
       "    <tr>\n",
       "      <th>0</th>\n",
       "      <td>36</td>\n",
       "      <td>[0, 17, 19, 23, 31, 33, 34, 130, 132, 236, 414...</td>\n",
       "      <td>646</td>\n",
       "    </tr>\n",
       "    <tr>\n",
       "      <th>1</th>\n",
       "      <td>-1</td>\n",
       "      <td>[1, 4, 5, 8, 9, 11, 12, 13, 15, 16, 20, 21, 22...</td>\n",
       "      <td>32018</td>\n",
       "    </tr>\n",
       "    <tr>\n",
       "      <th>2</th>\n",
       "      <td>37</td>\n",
       "      <td>[2, 101, 108, 231, 446, 447, 452, 685, 722, 92...</td>\n",
       "      <td>1312</td>\n",
       "    </tr>\n",
       "    <tr>\n",
       "      <th>3</th>\n",
       "      <td>53</td>\n",
       "      <td>[3, 14, 25, 107, 448, 787, 1667, 1770, 2477, 2...</td>\n",
       "      <td>627</td>\n",
       "    </tr>\n",
       "    <tr>\n",
       "      <th>4</th>\n",
       "      <td>35</td>\n",
       "      <td>[6, 1009, 1640, 2473, 2789, 2798, 2968, 2970, ...</td>\n",
       "      <td>381</td>\n",
       "    </tr>\n",
       "    <tr>\n",
       "      <th>...</th>\n",
       "      <td>...</td>\n",
       "      <td>...</td>\n",
       "      <td>...</td>\n",
       "    </tr>\n",
       "    <tr>\n",
       "      <th>84</th>\n",
       "      <td>18</td>\n",
       "      <td>[2557, 3791, 3944, 4965, 6837, 6838, 7438, 744...</td>\n",
       "      <td>157</td>\n",
       "    </tr>\n",
       "    <tr>\n",
       "      <th>85</th>\n",
       "      <td>28</td>\n",
       "      <td>[3158, 7146, 7162, 7647, 7658, 7660, 7661, 766...</td>\n",
       "      <td>100</td>\n",
       "    </tr>\n",
       "    <tr>\n",
       "      <th>86</th>\n",
       "      <td>66</td>\n",
       "      <td>[3408, 3568, 3571, 3572, 3574, 7982, 7987, 911...</td>\n",
       "      <td>170</td>\n",
       "    </tr>\n",
       "    <tr>\n",
       "      <th>87</th>\n",
       "      <td>1</td>\n",
       "      <td>[8125, 8145, 8146, 10758, 10759, 10760, 10761,...</td>\n",
       "      <td>103</td>\n",
       "    </tr>\n",
       "    <tr>\n",
       "      <th>88</th>\n",
       "      <td>67</td>\n",
       "      <td>[8889, 9248, 11606, 12797, 13130, 13533, 13534...</td>\n",
       "      <td>131</td>\n",
       "    </tr>\n",
       "  </tbody>\n",
       "</table>\n",
       "<p>89 rows × 3 columns</p>\n",
       "</div>"
      ],
      "text/plain": [
       "    topic                                   document_indices topic_length\n",
       "0      36  [0, 17, 19, 23, 31, 33, 34, 130, 132, 236, 414...          646\n",
       "1      -1  [1, 4, 5, 8, 9, 11, 12, 13, 15, 16, 20, 21, 22...        32018\n",
       "2      37  [2, 101, 108, 231, 446, 447, 452, 685, 722, 92...         1312\n",
       "3      53  [3, 14, 25, 107, 448, 787, 1667, 1770, 2477, 2...          627\n",
       "4      35  [6, 1009, 1640, 2473, 2789, 2798, 2968, 2970, ...          381\n",
       "..    ...                                                ...          ...\n",
       "84     18  [2557, 3791, 3944, 4965, 6837, 6838, 7438, 744...          157\n",
       "85     28  [3158, 7146, 7162, 7647, 7658, 7660, 7661, 766...          100\n",
       "86     66  [3408, 3568, 3571, 3572, 3574, 7982, 7987, 911...          170\n",
       "87      1  [8125, 8145, 8146, 10758, 10759, 10760, 10761,...          103\n",
       "88     67  [8889, 9248, 11606, 12797, 13130, 13533, 13534...          131\n",
       "\n",
       "[89 rows x 3 columns]"
      ]
     },
     "execution_count": 34,
     "metadata": {},
     "output_type": "execute_result"
    }
   ],
   "source": [
    "topicdfnew3"
   ]
  },
  {
   "cell_type": "code",
   "execution_count": 17,
   "metadata": {},
   "outputs": [
    {
     "data": {
      "text/html": [
       "<div>\n",
       "<style scoped>\n",
       "    .dataframe tbody tr th:only-of-type {\n",
       "        vertical-align: middle;\n",
       "    }\n",
       "\n",
       "    .dataframe tbody tr th {\n",
       "        vertical-align: top;\n",
       "    }\n",
       "\n",
       "    .dataframe thead th {\n",
       "        text-align: right;\n",
       "    }\n",
       "</style>\n",
       "<table border=\"1\" class=\"dataframe\">\n",
       "  <thead>\n",
       "    <tr style=\"text-align: right;\">\n",
       "      <th></th>\n",
       "      <th>topic</th>\n",
       "      <th>document_indices</th>\n",
       "      <th>topic_length</th>\n",
       "    </tr>\n",
       "  </thead>\n",
       "  <tbody>\n",
       "    <tr>\n",
       "      <th>0</th>\n",
       "      <td>55</td>\n",
       "      <td>[0, 1, 17, 19, 23, 31, 33, 34, 130, 132, 236, ...</td>\n",
       "      <td>736</td>\n",
       "    </tr>\n",
       "    <tr>\n",
       "      <th>1</th>\n",
       "      <td>-1</td>\n",
       "      <td>[2, 4, 5, 8, 9, 11, 12, 13, 15, 16, 20, 21, 22...</td>\n",
       "      <td>33115</td>\n",
       "    </tr>\n",
       "    <tr>\n",
       "      <th>2</th>\n",
       "      <td>68</td>\n",
       "      <td>[3, 14, 25, 107, 448, 787, 1655, 1667, 1678, 1...</td>\n",
       "      <td>706</td>\n",
       "    </tr>\n",
       "    <tr>\n",
       "      <th>3</th>\n",
       "      <td>57</td>\n",
       "      <td>[6, 1640, 2473, 2789, 2797, 2798, 2968, 2970, ...</td>\n",
       "      <td>319</td>\n",
       "    </tr>\n",
       "    <tr>\n",
       "      <th>4</th>\n",
       "      <td>53</td>\n",
       "      <td>[7, 671, 1407, 1413, 1450, 1453, 1454, 2103, 2...</td>\n",
       "      <td>178</td>\n",
       "    </tr>\n",
       "    <tr>\n",
       "      <th>...</th>\n",
       "      <td>...</td>\n",
       "      <td>...</td>\n",
       "      <td>...</td>\n",
       "    </tr>\n",
       "    <tr>\n",
       "      <th>93</th>\n",
       "      <td>93</td>\n",
       "      <td>[2751, 2753, 4714, 5115, 6338, 6744, 6778, 681...</td>\n",
       "      <td>160</td>\n",
       "    </tr>\n",
       "    <tr>\n",
       "      <th>94</th>\n",
       "      <td>71</td>\n",
       "      <td>[3015, 3108, 3187, 3188, 3190, 3194, 3396, 339...</td>\n",
       "      <td>205</td>\n",
       "    </tr>\n",
       "    <tr>\n",
       "      <th>95</th>\n",
       "      <td>23</td>\n",
       "      <td>[3408, 3568, 3571, 3572, 3574, 7987, 9119, 116...</td>\n",
       "      <td>169</td>\n",
       "    </tr>\n",
       "    <tr>\n",
       "      <th>96</th>\n",
       "      <td>1</td>\n",
       "      <td>[8125, 8145, 8146, 10758, 10759, 10760, 10761,...</td>\n",
       "      <td>103</td>\n",
       "    </tr>\n",
       "    <tr>\n",
       "      <th>97</th>\n",
       "      <td>24</td>\n",
       "      <td>[8889, 9248, 10406, 11606, 12797, 13130, 13533...</td>\n",
       "      <td>120</td>\n",
       "    </tr>\n",
       "  </tbody>\n",
       "</table>\n",
       "<p>98 rows × 3 columns</p>\n",
       "</div>"
      ],
      "text/plain": [
       "    topic                                   document_indices topic_length\n",
       "0      55  [0, 1, 17, 19, 23, 31, 33, 34, 130, 132, 236, ...          736\n",
       "1      -1  [2, 4, 5, 8, 9, 11, 12, 13, 15, 16, 20, 21, 22...        33115\n",
       "2      68  [3, 14, 25, 107, 448, 787, 1655, 1667, 1678, 1...          706\n",
       "3      57  [6, 1640, 2473, 2789, 2797, 2798, 2968, 2970, ...          319\n",
       "4      53  [7, 671, 1407, 1413, 1450, 1453, 1454, 2103, 2...          178\n",
       "..    ...                                                ...          ...\n",
       "93     93  [2751, 2753, 4714, 5115, 6338, 6744, 6778, 681...          160\n",
       "94     71  [3015, 3108, 3187, 3188, 3190, 3194, 3396, 339...          205\n",
       "95     23  [3408, 3568, 3571, 3572, 3574, 7987, 9119, 116...          169\n",
       "96      1  [8125, 8145, 8146, 10758, 10759, 10760, 10761,...          103\n",
       "97     24  [8889, 9248, 10406, 11606, 12797, 13130, 13533...          120\n",
       "\n",
       "[98 rows x 3 columns]"
      ]
     },
     "execution_count": 17,
     "metadata": {},
     "output_type": "execute_result"
    }
   ],
   "source": [
    "topicdfog2"
   ]
  },
  {
   "cell_type": "code",
   "execution_count": 14,
   "metadata": {},
   "outputs": [
    {
     "data": {
      "text/html": [
       "<div>\n",
       "<style scoped>\n",
       "    .dataframe tbody tr th:only-of-type {\n",
       "        vertical-align: middle;\n",
       "    }\n",
       "\n",
       "    .dataframe tbody tr th {\n",
       "        vertical-align: top;\n",
       "    }\n",
       "\n",
       "    .dataframe thead th {\n",
       "        text-align: right;\n",
       "    }\n",
       "</style>\n",
       "<table border=\"1\" class=\"dataframe\">\n",
       "  <thead>\n",
       "    <tr style=\"text-align: right;\">\n",
       "      <th></th>\n",
       "      <th>topic</th>\n",
       "      <th>document_indices</th>\n",
       "      <th>topic_length</th>\n",
       "    </tr>\n",
       "  </thead>\n",
       "  <tbody>\n",
       "    <tr>\n",
       "      <th>1</th>\n",
       "      <td>-1</td>\n",
       "      <td>[2, 4, 5, 8, 9, 11, 12, 13, 15, 16, 20, 21, 22...</td>\n",
       "      <td>33115</td>\n",
       "    </tr>\n",
       "    <tr>\n",
       "      <th>16</th>\n",
       "      <td>67</td>\n",
       "      <td>[80, 187, 242, 264, 267, 268, 269, 270, 278, 2...</td>\n",
       "      <td>2226</td>\n",
       "    </tr>\n",
       "    <tr>\n",
       "      <th>9</th>\n",
       "      <td>18</td>\n",
       "      <td>[36, 56, 61, 64, 65, 67, 68, 69, 70, 71, 72, 7...</td>\n",
       "      <td>1318</td>\n",
       "    </tr>\n",
       "    <tr>\n",
       "      <th>30</th>\n",
       "      <td>84</td>\n",
       "      <td>[183, 262, 450, 464, 612, 698, 732, 733, 747, ...</td>\n",
       "      <td>1142</td>\n",
       "    </tr>\n",
       "    <tr>\n",
       "      <th>22</th>\n",
       "      <td>64</td>\n",
       "      <td>[126, 254, 279, 280, 284, 286, 363, 365, 366, ...</td>\n",
       "      <td>955</td>\n",
       "    </tr>\n",
       "    <tr>\n",
       "      <th>...</th>\n",
       "      <td>...</td>\n",
       "      <td>...</td>\n",
       "      <td>...</td>\n",
       "    </tr>\n",
       "    <tr>\n",
       "      <th>76</th>\n",
       "      <td>26</td>\n",
       "      <td>[1291, 3902, 3903, 3904, 3905, 3906, 3907, 390...</td>\n",
       "      <td>111</td>\n",
       "    </tr>\n",
       "    <tr>\n",
       "      <th>32</th>\n",
       "      <td>16</td>\n",
       "      <td>[212, 213, 240, 249, 275, 283, 1078, 1083, 109...</td>\n",
       "      <td>108</td>\n",
       "    </tr>\n",
       "    <tr>\n",
       "      <th>52</th>\n",
       "      <td>87</td>\n",
       "      <td>[607, 2586, 2592, 2624, 2625, 2626, 3236, 3350...</td>\n",
       "      <td>105</td>\n",
       "    </tr>\n",
       "    <tr>\n",
       "      <th>26</th>\n",
       "      <td>25</td>\n",
       "      <td>[159, 538, 568, 682, 684, 813, 814, 815, 816, ...</td>\n",
       "      <td>104</td>\n",
       "    </tr>\n",
       "    <tr>\n",
       "      <th>96</th>\n",
       "      <td>1</td>\n",
       "      <td>[8125, 8145, 8146, 10758, 10759, 10760, 10761,...</td>\n",
       "      <td>103</td>\n",
       "    </tr>\n",
       "  </tbody>\n",
       "</table>\n",
       "<p>98 rows × 3 columns</p>\n",
       "</div>"
      ],
      "text/plain": [
       "    topic                                   document_indices topic_length\n",
       "1      -1  [2, 4, 5, 8, 9, 11, 12, 13, 15, 16, 20, 21, 22...        33115\n",
       "16     67  [80, 187, 242, 264, 267, 268, 269, 270, 278, 2...         2226\n",
       "9      18  [36, 56, 61, 64, 65, 67, 68, 69, 70, 71, 72, 7...         1318\n",
       "30     84  [183, 262, 450, 464, 612, 698, 732, 733, 747, ...         1142\n",
       "22     64  [126, 254, 279, 280, 284, 286, 363, 365, 366, ...          955\n",
       "..    ...                                                ...          ...\n",
       "76     26  [1291, 3902, 3903, 3904, 3905, 3906, 3907, 390...          111\n",
       "32     16  [212, 213, 240, 249, 275, 283, 1078, 1083, 109...          108\n",
       "52     87  [607, 2586, 2592, 2624, 2625, 2626, 3236, 3350...          105\n",
       "26     25  [159, 538, 568, 682, 684, 813, 814, 815, 816, ...          104\n",
       "96      1  [8125, 8145, 8146, 10758, 10759, 10760, 10761,...          103\n",
       "\n",
       "[98 rows x 3 columns]"
      ]
     },
     "execution_count": 14,
     "metadata": {},
     "output_type": "execute_result"
    }
   ],
   "source": [
    "topicdfog2.sort_values('topic_length', ascending=False)"
   ]
  },
  {
   "cell_type": "code",
   "execution_count": 16,
   "metadata": {},
   "outputs": [
    {
     "data": {
      "text/html": [
       "<div>\n",
       "<style scoped>\n",
       "    .dataframe tbody tr th:only-of-type {\n",
       "        vertical-align: middle;\n",
       "    }\n",
       "\n",
       "    .dataframe tbody tr th {\n",
       "        vertical-align: top;\n",
       "    }\n",
       "\n",
       "    .dataframe thead th {\n",
       "        text-align: right;\n",
       "    }\n",
       "</style>\n",
       "<table border=\"1\" class=\"dataframe\">\n",
       "  <thead>\n",
       "    <tr style=\"text-align: right;\">\n",
       "      <th></th>\n",
       "      <th>topic</th>\n",
       "      <th>document_indices</th>\n",
       "      <th>topic_length</th>\n",
       "    </tr>\n",
       "  </thead>\n",
       "  <tbody>\n",
       "    <tr>\n",
       "      <th>1</th>\n",
       "      <td>-1</td>\n",
       "      <td>[2, 4, 8, 9, 11, 12, 13, 15, 16, 20, 21, 28, 2...</td>\n",
       "      <td>31381</td>\n",
       "    </tr>\n",
       "    <tr>\n",
       "      <th>13</th>\n",
       "      <td>41</td>\n",
       "      <td>[42, 43, 58, 59, 60, 161, 223, 224, 226, 227, ...</td>\n",
       "      <td>3523</td>\n",
       "    </tr>\n",
       "    <tr>\n",
       "      <th>18</th>\n",
       "      <td>70</td>\n",
       "      <td>[80, 181, 187, 242, 264, 267, 268, 269, 270, 2...</td>\n",
       "      <td>2536</td>\n",
       "    </tr>\n",
       "    <tr>\n",
       "      <th>26</th>\n",
       "      <td>75</td>\n",
       "      <td>[183, 262, 450, 464, 619, 698, 732, 733, 747, ...</td>\n",
       "      <td>1221</td>\n",
       "    </tr>\n",
       "    <tr>\n",
       "      <th>11</th>\n",
       "      <td>72</td>\n",
       "      <td>[36, 56, 64, 65, 67, 68, 69, 70, 71, 72, 73, 7...</td>\n",
       "      <td>1186</td>\n",
       "    </tr>\n",
       "    <tr>\n",
       "      <th>...</th>\n",
       "      <td>...</td>\n",
       "      <td>...</td>\n",
       "      <td>...</td>\n",
       "    </tr>\n",
       "    <tr>\n",
       "      <th>79</th>\n",
       "      <td>37</td>\n",
       "      <td>[1640, 3102, 7908, 10982, 12006, 12011, 12067,...</td>\n",
       "      <td>102</td>\n",
       "    </tr>\n",
       "    <tr>\n",
       "      <th>78</th>\n",
       "      <td>68</td>\n",
       "      <td>[1636, 3158, 5392, 7146, 7162, 7629, 7647, 765...</td>\n",
       "      <td>101</td>\n",
       "    </tr>\n",
       "    <tr>\n",
       "      <th>92</th>\n",
       "      <td>58</td>\n",
       "      <td>[2912, 2913, 3196, 3198, 3200, 4012, 4027, 544...</td>\n",
       "      <td>101</td>\n",
       "    </tr>\n",
       "    <tr>\n",
       "      <th>95</th>\n",
       "      <td>84</td>\n",
       "      <td>[3902, 3903, 3904, 3905, 3906, 3907, 3908, 390...</td>\n",
       "      <td>100</td>\n",
       "    </tr>\n",
       "    <tr>\n",
       "      <th>24</th>\n",
       "      <td>81</td>\n",
       "      <td>[159, 538, 568, 682, 684, 813, 814, 815, 816, ...</td>\n",
       "      <td>100</td>\n",
       "    </tr>\n",
       "  </tbody>\n",
       "</table>\n",
       "<p>98 rows × 3 columns</p>\n",
       "</div>"
      ],
      "text/plain": [
       "    topic                                   document_indices topic_length\n",
       "1      -1  [2, 4, 8, 9, 11, 12, 13, 15, 16, 20, 21, 28, 2...        31381\n",
       "13     41  [42, 43, 58, 59, 60, 161, 223, 224, 226, 227, ...         3523\n",
       "18     70  [80, 181, 187, 242, 264, 267, 268, 269, 270, 2...         2536\n",
       "26     75  [183, 262, 450, 464, 619, 698, 732, 733, 747, ...         1221\n",
       "11     72  [36, 56, 64, 65, 67, 68, 69, 70, 71, 72, 73, 7...         1186\n",
       "..    ...                                                ...          ...\n",
       "79     37  [1640, 3102, 7908, 10982, 12006, 12011, 12067,...          102\n",
       "78     68  [1636, 3158, 5392, 7146, 7162, 7629, 7647, 765...          101\n",
       "92     58  [2912, 2913, 3196, 3198, 3200, 4012, 4027, 544...          101\n",
       "95     84  [3902, 3903, 3904, 3905, 3906, 3907, 3908, 390...          100\n",
       "24     81  [159, 538, 568, 682, 684, 813, 814, 815, 816, ...          100\n",
       "\n",
       "[98 rows x 3 columns]"
      ]
     },
     "execution_count": 16,
     "metadata": {},
     "output_type": "execute_result"
    }
   ],
   "source": [
    "topicdfog.sort_values('topic_length', ascending=False)"
   ]
  },
  {
   "cell_type": "code",
   "execution_count": 51,
   "metadata": {},
   "outputs": [
    {
     "data": {
      "text/html": [
       "<div>\n",
       "<style scoped>\n",
       "    .dataframe tbody tr th:only-of-type {\n",
       "        vertical-align: middle;\n",
       "    }\n",
       "\n",
       "    .dataframe tbody tr th {\n",
       "        vertical-align: top;\n",
       "    }\n",
       "\n",
       "    .dataframe thead th {\n",
       "        text-align: right;\n",
       "    }\n",
       "</style>\n",
       "<table border=\"1\" class=\"dataframe\">\n",
       "  <thead>\n",
       "    <tr style=\"text-align: right;\">\n",
       "      <th></th>\n",
       "      <th>topic</th>\n",
       "      <th>document_indices</th>\n",
       "      <th>topic_length</th>\n",
       "    </tr>\n",
       "  </thead>\n",
       "  <tbody>\n",
       "    <tr>\n",
       "      <th>1</th>\n",
       "      <td>-1</td>\n",
       "      <td>[2, 4, 5, 8, 9, 11, 13, 15, 16, 20, 21, 28, 32...</td>\n",
       "      <td>35585</td>\n",
       "    </tr>\n",
       "    <tr>\n",
       "      <th>2</th>\n",
       "      <td>256</td>\n",
       "      <td>[3, 14, 25, 30, 37, 107, 448, 787, 1526, 1583,...</td>\n",
       "      <td>2102</td>\n",
       "    </tr>\n",
       "    <tr>\n",
       "      <th>13</th>\n",
       "      <td>297</td>\n",
       "      <td>[43, 58, 59, 227, 311, 321, 422, 425, 571, 909...</td>\n",
       "      <td>882</td>\n",
       "    </tr>\n",
       "    <tr>\n",
       "      <th>85</th>\n",
       "      <td>441</td>\n",
       "      <td>[480, 491, 517, 1644, 1685, 1929, 1930, 1934, ...</td>\n",
       "      <td>867</td>\n",
       "    </tr>\n",
       "    <tr>\n",
       "      <th>48</th>\n",
       "      <td>382</td>\n",
       "      <td>[254, 279, 280, 363, 365, 366, 368, 969, 1019,...</td>\n",
       "      <td>778</td>\n",
       "    </tr>\n",
       "    <tr>\n",
       "      <th>...</th>\n",
       "      <td>...</td>\n",
       "      <td>...</td>\n",
       "      <td>...</td>\n",
       "    </tr>\n",
       "    <tr>\n",
       "      <th>323</th>\n",
       "      <td>187</td>\n",
       "      <td>[4180, 4183, 4187, 11592, 14071, 14076, 22066,...</td>\n",
       "      <td>10</td>\n",
       "    </tr>\n",
       "    <tr>\n",
       "      <th>65</th>\n",
       "      <td>411</td>\n",
       "      <td>[373, 6542, 7571, 9193, 15981, 36946, 43544, 4...</td>\n",
       "      <td>10</td>\n",
       "    </tr>\n",
       "    <tr>\n",
       "      <th>105</th>\n",
       "      <td>81</td>\n",
       "      <td>[674, 12080, 13329, 15056, 19441, 19601, 41504...</td>\n",
       "      <td>10</td>\n",
       "    </tr>\n",
       "    <tr>\n",
       "      <th>398</th>\n",
       "      <td>177</td>\n",
       "      <td>[9791, 23918, 45818, 45819, 45822, 53133, 5314...</td>\n",
       "      <td>10</td>\n",
       "    </tr>\n",
       "    <tr>\n",
       "      <th>75</th>\n",
       "      <td>10</td>\n",
       "      <td>[436, 459, 461, 4833, 4838, 12946, 23675, 4073...</td>\n",
       "      <td>10</td>\n",
       "    </tr>\n",
       "  </tbody>\n",
       "</table>\n",
       "<p>443 rows × 3 columns</p>\n",
       "</div>"
      ],
      "text/plain": [
       "     topic                                   document_indices topic_length\n",
       "1       -1  [2, 4, 5, 8, 9, 11, 13, 15, 16, 20, 21, 28, 32...        35585\n",
       "2      256  [3, 14, 25, 30, 37, 107, 448, 787, 1526, 1583,...         2102\n",
       "13     297  [43, 58, 59, 227, 311, 321, 422, 425, 571, 909...          882\n",
       "85     441  [480, 491, 517, 1644, 1685, 1929, 1930, 1934, ...          867\n",
       "48     382  [254, 279, 280, 363, 365, 366, 368, 969, 1019,...          778\n",
       "..     ...                                                ...          ...\n",
       "323    187  [4180, 4183, 4187, 11592, 14071, 14076, 22066,...           10\n",
       "65     411  [373, 6542, 7571, 9193, 15981, 36946, 43544, 4...           10\n",
       "105     81  [674, 12080, 13329, 15056, 19441, 19601, 41504...           10\n",
       "398    177  [9791, 23918, 45818, 45819, 45822, 53133, 5314...           10\n",
       "75      10  [436, 459, 461, 4833, 4838, 12946, 23675, 4073...           10\n",
       "\n",
       "[443 rows x 3 columns]"
      ]
     },
     "execution_count": 51,
     "metadata": {},
     "output_type": "execute_result"
    }
   ],
   "source": [
    "topicdfnew.sort_values('topic_length', ascending=False)"
   ]
  },
  {
   "cell_type": "code",
   "execution_count": 41,
   "metadata": {},
   "outputs": [],
   "source": [
    "similarity_matrix2 = calculate_similarity_matrix(topicdfog, topicdfog2)\n",
    "sorted_similarity_matrix2 = sort_singularity_mat(similarity_matrix2)"
   ]
  },
  {
   "cell_type": "code",
   "execution_count": 35,
   "metadata": {},
   "outputs": [],
   "source": [
    "similarity_matrixog = calculate_similarity_matrix(topicdfog, topicdfnew3)\n",
    "sorted_similarity = sort_singularity_mat(similarity_matrixog)"
   ]
  },
  {
   "cell_type": "code",
   "execution_count": 11,
   "metadata": {},
   "outputs": [],
   "source": []
  },
  {
   "cell_type": "code",
   "execution_count": 50,
   "metadata": {},
   "outputs": [
    {
     "data": {
      "image/png": "[encoded data removed]",
      "text/plain": [
       "<Figure size 800x600 with 2 Axes>"
      ]
     },
     "metadata": {},
     "output_type": "display_data"
    }
   ],
   "source": [
    "\n",
    "# Create a heatmap\n",
    "plt.figure(figsize=(8, 6))\n",
    "plt.axes().set_facecolor(\"blue\")\n",
    "sns.heatmap(sorted_similarity, cmap='spring', mask=sorted_similarity <= 0.2)\n",
    "\n",
    "plt.xlabel('Topic in topicdfnew')\n",
    "plt.ylabel('Topic in topicdfog')\n",
    "plt.title('Similarity between Topics')\n",
    "plt.show()"
   ]
  },
  {
   "cell_type": "code",
   "execution_count": 51,
   "metadata": {},
   "outputs": [
    {
     "data": {
      "image/png": "[encoded data removed]",
      "text/plain": [
       "<Figure size 800x600 with 2 Axes>"
      ]
     },
     "metadata": {},
     "output_type": "display_data"
    }
   ],
   "source": [
    "\n",
    "# Create a heatmap\n",
    "plt.figure(figsize=(8, 6))\n",
    "plt.axes().set_facecolor(\"blue\")\n",
    "sns.heatmap(sorted_similarity_matrix2, cmap='spring', mask=sorted_similarity_matrix2 <= 0.2)\n",
    "\n",
    "plt.xlabel('Topic in topicdfnew')\n",
    "plt.ylabel('Topic in topicdfog')\n",
    "plt.title('Similarity between Topics')\n",
    "plt.show()\n",
    "\n",
    "#white to yellow"
   ]
  },
  {
   "cell_type": "code",
   "execution_count": 6,
   "metadata": {},
   "outputs": [
    {
     "name": "stdout",
     "output_type": "stream",
     "text": [
      "Adjusted Rand Index (ARI): 0.4146398596474819\n",
      "Normalized Mutual Information (NMI): 0.6182837750706225\n",
      "Adjusted Mutual Information (AMI): 0.5925887613232695\n",
      "Fowlkes-Mallows Index (FMI): 0.5719314686228019\n"
     ]
    }
   ],
   "source": [
    "from sklearn.metrics import adjusted_rand_score, normalized_mutual_info_score, fowlkes_mallows_score, adjusted_mutual_info_score\n",
    "\n",
    "ari = adjusted_rand_score(topics_list1, topics_list2)\n",
    "print(\"Adjusted Rand Index (ARI):\", ari)\n",
    "\n",
    "nmi = normalized_mutual_info_score(topics_list1, topics_list2)\n",
    "print(\"Normalized Mutual Information (NMI):\", nmi)\n",
    "\n",
    "ami = adjusted_mutual_info_score(topics_list1, topics_list2)\n",
    "print(\"Adjusted Mutual Information (AMI):\", ami)\n",
    "\n",
    "fmi = fowlkes_mallows_score(topics_list1, topics_list2)\n",
    "print(\"Fowlkes-Mallows Index (FMI):\", fmi)\n",
    "\n",
    "\n"
   ]
  },
  {
   "cell_type": "code",
   "execution_count": 5,
   "metadata": {},
   "outputs": [
    {
     "ename": "",
     "evalue": "",
     "output_type": "error",
     "traceback": [
      "\u001b[1;31mCanceled future for execute_request message before replies were done"
     ]
    },
    {
     "ename": "",
     "evalue": "",
     "output_type": "error",
     "traceback": [
      "\u001b[1;31mThe Kernel crashed while executing code in the the current cell or a previous cell. Please review the code in the cell(s) to identify a possible cause of the failure. Click <a href='https://aka.ms/vscodeJupyterKernelCrash'>here</a> for more info. View Jupyter <a href='command:jupyter.viewOutput'>log</a> for further details."
     ]
    }
   ],
   "source": [
    "fulldataset = pd.read_csv('/mnt/home/ande2472/data/full_clean_data/1147_latest.csv', sep='\\t')"
   ]
  },
  {
   "cell_type": "markdown",
   "metadata": {},
   "source": [
    "## Testing HDBSCAN model"
   ]
  },
  {
   "cell_type": "code",
   "execution_count": null,
   "metadata": {},
   "outputs": [],
   "source": [
    "output_dir = Path('/mnt/home/ande2472/data/testdat/test_model_2')\n",
    "r = '1'"
   ]
  },
  {
   "cell_type": "code",
   "execution_count": 2,
   "metadata": {},
   "outputs": [
    {
     "ename": "NameError",
     "evalue": "name 'output_dir' is not defined",
     "output_type": "error",
     "traceback": [
      "\u001b[0;31m---------------------------------------------------------------------------\u001b[0m",
      "\u001b[0;31mNameError\u001b[0m                                 Traceback (most recent call last)",
      "Cell \u001b[0;32mIn[2], line 3\u001b[0m\n\u001b[1;32m      1\u001b[0m r \u001b[38;5;241m=\u001b[39m \u001b[38;5;124m'\u001b[39m\u001b[38;5;124m1\u001b[39m\u001b[38;5;124m'\u001b[39m\n\u001b[1;32m      2\u001b[0m \u001b[38;5;28;01mif\u001b[39;00m r \u001b[38;5;129;01mis\u001b[39;00m \u001b[38;5;129;01mnot\u001b[39;00m \u001b[38;5;28;01mNone\u001b[39;00m:\n\u001b[0;32m----> 3\u001b[0m     inputfile \u001b[38;5;241m=\u001b[39m \u001b[43moutput_dir\u001b[49m\u001b[38;5;241m/\u001b[39m\u001b[38;5;124mf\u001b[39m\u001b[38;5;124m\"\u001b[39m\u001b[38;5;124mtrial\u001b[39m\u001b[38;5;132;01m{\u001b[39;00mr\u001b[38;5;132;01m}\u001b[39;00m\u001b[38;5;124m_cpufitted_hdbscan\u001b[39m\u001b[38;5;124m\"\u001b[39m\n\u001b[1;32m      4\u001b[0m     outputfile1 \u001b[38;5;241m=\u001b[39m output_dir\u001b[38;5;241m/\u001b[39m\u001b[38;5;124mf\u001b[39m\u001b[38;5;124m\"\u001b[39m\u001b[38;5;124mtrial\u001b[39m\u001b[38;5;132;01m{\u001b[39;00mr\u001b[38;5;132;01m}\u001b[39;00m\u001b[38;5;124m_documentsclustered.pickle\u001b[39m\u001b[38;5;124m\"\u001b[39m\n\u001b[1;32m      5\u001b[0m     outputfile2 \u001b[38;5;241m=\u001b[39m output_dir\u001b[38;5;241m/\u001b[39m\u001b[38;5;124mf\u001b[39m\u001b[38;5;124m\"\u001b[39m\u001b[38;5;124mtrial\u001b[39m\u001b[38;5;132;01m{\u001b[39;00mr\u001b[38;5;132;01m}\u001b[39;00m\u001b[38;5;124mprobabilitiesclustered.pickle\u001b[39m\u001b[38;5;124m\"\u001b[39m\n",
      "\u001b[0;31mNameError\u001b[0m: name 'output_dir' is not defined"
     ]
    }
   ],
   "source": [
    "\n",
    "if r is not None:\n",
    "    inputfile = output_dir/f\"trial{r}_cpufitted_hdbscan\"\n",
    "    outputfile1 = output_dir/f\"trial{r}_documentsclustered.pickle\"\n",
    "    outputfile2 = output_dir/f\"trial{r}probabilitiesclustered.pickle\"\n",
    "    topic_model_file_step1= output_dir/ f\"trial{r}_model_UMAPfitted\"\n",
    "    topic_model_file_step2= output_dir/ f\"trial{r}model_clustered\"\n",
    "else: \n",
    "    inputfile = output_dir/f\"cpufitted_hdbscan\"\n",
    "    outputfile1 = output_dir/f\"documentsclustered.pickle\"\n",
    "    outputfile2 = output_dir/f\"probabilitiesclustered.pickle\"\n",
    "    topic_model_file_step1= output_dir/ f\"model_UMAPfitted\"\n",
    "    topic_model_file_step2= output_dir/ f\"model_clustered\""
   ]
  },
  {
   "cell_type": "code",
   "execution_count": null,
   "metadata": {},
   "outputs": [],
   "source": [
    "print(f'{time.time()} Loading model...')\n",
    "    topic_model = BERTopic.load(topic_model_file_step1)\n",
    "    \n",
    "print(f'{time.time()} Loading HDBSCANmodel...')\n",
    "    with open(inputfile, \"rb\") as f:\n",
    "        topic_model.hdbscan_model = pickle.load(f)"
   ]
  },
  {
   "cell_type": "code",
   "execution_count": 4,
   "metadata": {},
   "outputs": [
    {
     "name": "stdout",
     "output_type": "stream",
     "text": [
      "\u001b[33mWARNING: Skipping cudf as it is not installed.\u001b[0m\u001b[33m\n",
      "\u001b[0mLooking in indexes: https://pypi.org/simple, https://pypi.nvidia.com\n",
      "Collecting cudf-cu11\n",
      "  Using cached cudf-cu11-24.2.1.tar.gz (6.9 kB)\n",
      "  Preparing metadata (setup.py) ... \u001b[?25lerror\n",
      "  \u001b[1;31merror\u001b[0m: \u001b[1msubprocess-exited-with-error\u001b[0m\n",
      "  \n",
      "  \u001b[31m×\u001b[0m \u001b[32mpython setup.py egg_info\u001b[0m did not run successfully.\n",
      "  \u001b[31m│\u001b[0m exit code: \u001b[1;36m1\u001b[0m\n",
      "  \u001b[31m╰─>\u001b[0m \u001b[31m[6 lines of output]\u001b[0m\n",
      "  \u001b[31m   \u001b[0m Traceback (most recent call last):\n",
      "  \u001b[31m   \u001b[0m   File \"<string>\", line 2, in <module>\n",
      "  \u001b[31m   \u001b[0m   File \"<pip-setuptools-caller>\", line 34, in <module>\n",
      "  \u001b[31m   \u001b[0m   File \"/tmp/pip-install-ixtzljw8/cudf-cu11_ccaa2d3d212342999ab4adcc8197b677/setup.py\", line 90, in <module>\n",
      "  \u001b[31m   \u001b[0m     raise RuntimeError(\"Bad params\")\n",
      "  \u001b[31m   \u001b[0m RuntimeError: Bad params\n",
      "  \u001b[31m   \u001b[0m \u001b[31m[end of output]\u001b[0m\n",
      "  \n",
      "  \u001b[1;35mnote\u001b[0m: This error originates from a subprocess, and is likely not a problem with pip.\n",
      "\u001b[?25h\u001b[1;31merror\u001b[0m: \u001b[1mmetadata-generation-failed\u001b[0m\n",
      "\n",
      "\u001b[31m×\u001b[0m Encountered error while generating package metadata.\n",
      "\u001b[31m╰─>\u001b[0m See above for output.\n",
      "\n",
      "\u001b[1;35mnote\u001b[0m: This is an issue with the package mentioned above, not pip.\n",
      "\u001b[1;36mhint\u001b[0m: See above for details.\n"
     ]
    },
    {
     "ename": "ModuleNotFoundError",
     "evalue": "No module named 'cudf'",
     "output_type": "error",
     "traceback": [
      "\u001b[0;31m---------------------------------------------------------------------------\u001b[0m",
      "\u001b[0;31mModuleNotFoundError\u001b[0m                       Traceback (most recent call last)",
      "Cell \u001b[0;32mIn[4], line 3\u001b[0m\n\u001b[1;32m      1\u001b[0m get_ipython()\u001b[38;5;241m.\u001b[39msystem(\u001b[38;5;124m'\u001b[39m\u001b[38;5;124mpip uninstall cudf\u001b[39m\u001b[38;5;124m'\u001b[39m)\n\u001b[1;32m      2\u001b[0m get_ipython()\u001b[38;5;241m.\u001b[39msystem(\u001b[38;5;124m'\u001b[39m\u001b[38;5;124mpip install --extra-index-url=https://pypi.nvidia.com cudf-cu11\u001b[39m\u001b[38;5;124m'\u001b[39m)\n\u001b[0;32m----> 3\u001b[0m \u001b[38;5;28;01mimport\u001b[39;00m \u001b[38;5;21;01mcudf\u001b[39;00m\n\u001b[1;32m      4\u001b[0m \u001b[38;5;28;01mimport\u001b[39;00m \u001b[38;5;21;01mrequests\u001b[39;00m\n\u001b[1;32m      5\u001b[0m \u001b[38;5;28;01mfrom\u001b[39;00m \u001b[38;5;21;01mio\u001b[39;00m \u001b[38;5;28;01mimport\u001b[39;00m StringIO\n",
      "\u001b[0;31mModuleNotFoundError\u001b[0m: No module named 'cudf'"
     ]
    }
   ],
   "source": [
    "!pip uninstall cudf\n",
    "!pip install --extra-index-url=https://pypi.nvidia.com cudf-cu11\n",
    "import cudf\n",
    "import requests\n",
    "from io import StringIO\n",
    "url = \"https://github.com/plotly/datasets/raw/master/tips.csv\"\n",
    "content = requests.get(url).content.decode(\"utf-8\")\n",
    "tips_df = cudf.read_csv(StringIO(content))"
   ]
  },
  {
   "cell_type": "code",
   "execution_count": 17,
   "metadata": {},
   "outputs": [
    {
     "ename": "NameError",
     "evalue": "name 'sns' is not defined",
     "output_type": "error",
     "traceback": [
      "\u001b[0;31m---------------------------------------------------------------------------\u001b[0m",
      "\u001b[0;31mNameError\u001b[0m                                 Traceback (most recent call last)",
      "Cell \u001b[0;32mIn[17], line 2\u001b[0m\n\u001b[1;32m      1\u001b[0m \u001b[38;5;66;03m# Set up the heatmap\u001b[39;00m\n\u001b[0;32m----> 2\u001b[0m \u001b[43msns\u001b[49m\u001b[38;5;241m.\u001b[39mset(style\u001b[38;5;241m=\u001b[39m\u001b[38;5;124m\"\u001b[39m\u001b[38;5;124mwhite\u001b[39m\u001b[38;5;124m\"\u001b[39m)\n\u001b[1;32m      3\u001b[0m plt\u001b[38;5;241m.\u001b[39mfigure(figsize\u001b[38;5;241m=\u001b[39m(\u001b[38;5;241m8\u001b[39m, \u001b[38;5;241m6\u001b[39m))\n\u001b[1;32m      5\u001b[0m \u001b[38;5;66;03m# Create the heatmap\u001b[39;00m\n",
      "\u001b[0;31mNameError\u001b[0m: name 'sns' is not defined"
     ]
    }
   ],
   "source": [
    "# Set up the heatmap\n",
    "sns.set(style=\"white\")\n",
    "plt.figure(figsize=(8, 6))\n",
    "\n",
    "# Create the heatmap\n",
    "sns.heatmap(heatmap_data, annot=True, fmt=\"g\", cmap=\"YlGnBu\", cbar=False)\n",
    "\n",
    "# Add labels and title\n",
    "plt.xlabel(\"List 2 Topic Assignments\")\n",
    "plt.ylabel(\"List 1 Topic Assignments\")\n",
    "plt.title(\"Topic Assignment Comparison Heatmap\")\n",
    "\n",
    "# Show the plot\n",
    "plt.show()"
   ]
  },
  {
   "cell_type": "markdown",
   "metadata": {},
   "source": [
    "## Testing BERTOPIC"
   ]
  },
  {
   "cell_type": "code",
   "execution_count": 4,
   "metadata": {},
   "outputs": [
    {
     "name": "stdout",
     "output_type": "stream",
     "text": [
      "Fri Feb 23 14:41:38 2024 Building and compiling search function\n"
     ]
    }
   ],
   "source": [
    "r = 1\n",
    "output_dir = Path('/mnt/home/ande2472/data/testdat/test_model_2')\n",
    "topic_model_file_step3= output_dir/ f\"trial{r}model_clustered\"\n",
    "topic_model = BERTopic.load(topic_model_file_step3)"
   ]
  },
  {
   "cell_type": "code",
   "execution_count": 14,
   "metadata": {},
   "outputs": [
    {
     "data": {
      "text/plain": [
       "['top_n_words',\n",
       " 'min_topic_size',\n",
       " 'nr_topics',\n",
       " 'low_memory',\n",
       " 'calculate_probabilities',\n",
       " 'verbose',\n",
       " 'seed_topic_list',\n",
       " 'language',\n",
       " 'embedding_model',\n",
       " 'n_gram_range',\n",
       " 'vectorizer_model',\n",
       " 'ctfidf_model',\n",
       " 'representation_model',\n",
       " 'umap_model',\n",
       " 'hdbscan_model',\n",
       " 'topics_',\n",
       " 'probabilities_',\n",
       " 'topic_sizes_',\n",
       " 'topic_mapper_',\n",
       " 'topic_representations_',\n",
       " 'topic_embeddings_',\n",
       " 'topic_labels_',\n",
       " 'custom_labels_',\n",
       " 'c_tf_idf_',\n",
       " 'representative_images_',\n",
       " 'representative_docs_',\n",
       " 'topic_aspects_',\n",
       " '_outliers',\n",
       " '_merged_topics',\n",
       " '__module__',\n",
       " '__doc__',\n",
       " '__init__',\n",
       " 'fit',\n",
       " 'fit_transform',\n",
       " 'transform',\n",
       " 'partial_fit',\n",
       " 'topics_over_time',\n",
       " 'topics_per_class',\n",
       " 'hierarchical_topics',\n",
       " 'approximate_distribution',\n",
       " 'find_topics',\n",
       " 'update_topics',\n",
       " 'get_topics',\n",
       " 'get_topic',\n",
       " 'get_topic_info',\n",
       " 'get_topic_freq',\n",
       " 'get_document_info',\n",
       " 'get_representative_docs',\n",
       " 'get_topic_tree',\n",
       " 'set_topic_labels',\n",
       " 'generate_topic_labels',\n",
       " 'merge_topics',\n",
       " 'reduce_topics',\n",
       " 'reduce_outliers',\n",
       " 'visualize_topics',\n",
       " 'visualize_documents',\n",
       " 'visualize_hierarchical_documents',\n",
       " 'visualize_term_rank',\n",
       " 'visualize_topics_over_time',\n",
       " 'visualize_topics_per_class',\n",
       " 'visualize_distribution',\n",
       " 'visualize_approximate_distribution',\n",
       " 'visualize_hierarchy',\n",
       " 'visualize_heatmap',\n",
       " 'visualize_barchart',\n",
       " 'save',\n",
       " 'load',\n",
       " 'push_to_hf_hub',\n",
       " 'get_params',\n",
       " '_extract_embeddings',\n",
       " '_images_to_text',\n",
       " '_map_predictions',\n",
       " '_reduce_dimensionality',\n",
       " '_cluster_embeddings',\n",
       " '_guided_topic_modeling',\n",
       " '_extract_topics',\n",
       " '_save_representative_docs',\n",
       " '_extract_representative_docs',\n",
       " '_create_topic_vectors',\n",
       " '_c_tf_idf',\n",
       " '_update_topic_size',\n",
       " '_extract_words_per_topic',\n",
       " '_reduce_topics',\n",
       " '_reduce_to_n_topics',\n",
       " '_auto_reduce_topics',\n",
       " '_sort_mappings_by_frequency',\n",
       " '_map_probabilities',\n",
       " '_preprocess_text',\n",
       " '_top_n_idx_sparse',\n",
       " '_top_n_values_sparse',\n",
       " '_get_param_names',\n",
       " '__str__',\n",
       " '__dict__',\n",
       " '__weakref__',\n",
       " '__new__',\n",
       " '__repr__',\n",
       " '__hash__',\n",
       " '__getattribute__',\n",
       " '__setattr__',\n",
       " '__delattr__',\n",
       " '__lt__',\n",
       " '__le__',\n",
       " '__eq__',\n",
       " '__ne__',\n",
       " '__gt__',\n",
       " '__ge__',\n",
       " '__reduce_ex__',\n",
       " '__reduce__',\n",
       " '__subclasshook__',\n",
       " '__init_subclass__',\n",
       " '__format__',\n",
       " '__sizeof__',\n",
       " '__dir__',\n",
       " '__class__']"
      ]
     },
     "execution_count": 14,
     "metadata": {},
     "output_type": "execute_result"
    }
   ],
   "source": [
    "topic_model.__dir__()"
   ]
  },
  {
   "cell_type": "code",
   "execution_count": 7,
   "metadata": {},
   "outputs": [
    {
     "data": {
      "text/plain": [
       "array([[0.00115354, 0.0019039 , 0.00124115, ..., 0.00064649, 0.0015875 ,\n",
       "        0.00154861],\n",
       "       [0.00091685, 0.00155432, 0.00097955, ..., 0.00046471, 0.00143658,\n",
       "        0.00139681],\n",
       "       [0.00085722, 0.00105225, 0.00076993, ..., 0.00037835, 0.00136919,\n",
       "        0.00132786],\n",
       "       ...,\n",
       "       [0.00094947, 0.00056494, 0.00052799, ..., 0.00026319, 0.00198218,\n",
       "        0.00211038],\n",
       "       [0.00270208, 0.00117429, 0.00120922, ..., 0.00046919, 0.00156779,\n",
       "        0.00155828],\n",
       "       [0.00114594, 0.0009341 , 0.00077454, ..., 0.00034229, 0.00194539,\n",
       "        0.0018913 ]], dtype=float32)"
      ]
     },
     "execution_count": 7,
     "metadata": {},
     "output_type": "execute_result"
    }
   ],
   "source": [
    "topic_model.probabilities_"
   ]
  },
  {
   "cell_type": "code",
   "execution_count": 20,
   "metadata": {},
   "outputs": [
    {
     "data": {
      "text/plain": [
       "array([1.        , 0.8485282 , 0.        , ..., 0.        , 0.        ,\n",
       "       0.68911034], dtype=float32)"
      ]
     },
     "execution_count": 20,
     "metadata": {},
     "output_type": "execute_result"
    }
   ],
   "source": [
    "hdbscan_delegator(topic_model.hdbscan_model, \"all_points_membership_vectors\")"
   ]
  },
  {
   "cell_type": "markdown",
   "metadata": {},
   "source": [
    "## Testing Cosine Similarity"
   ]
  },
  {
   "cell_type": "code",
   "execution_count": 10,
   "metadata": {},
   "outputs": [],
   "source": [
    "from cuml.preprocessing import Normalizer\n",
    "from sklearn.utils.extmath import safe_sparse_dot\n",
    "from sklearn.metrics.pairwise import cosine_similarity\n",
    "import time\n",
    "import resource"
   ]
  },
  {
   "cell_type": "code",
   "execution_count": 11,
   "metadata": {},
   "outputs": [],
   "source": [
    "embs = '/mnt/scratch/ande2472/testmodeloutput/mod_02/UMAPembeddings.pickle'\n",
    "\n",
    "def memory_usage():\n",
    "    usage = resource.getrusage(resource.RUSAGE_SELF).ru_maxrss\n",
    "    return usage / (1024**2)  # Convert to kilobytes\n"
   ]
  },
  {
   "cell_type": "code",
   "execution_count": 12,
   "metadata": {},
   "outputs": [],
   "source": [
    "with open(embs, \"rb\") as f:\n",
    "     matrix = pickle.load(f)"
   ]
  },
  {
   "cell_type": "code",
   "execution_count": 15,
   "metadata": {},
   "outputs": [
    {
     "name": "stdout",
     "output_type": "stream",
     "text": [
      "--- 17.32 seconds ---\n",
      "Memory usage: 19.442481994628906 GB\n"
     ]
    }
   ],
   "source": [
    "start_time = time.time()\n",
    "norm = Normalizer()\n",
    "norm_matrix = norm.transform(matrix)\n",
    "K1 = safe_sparse_dot(norm_matrix, norm_matrix.T, dense_output=True)\n",
    "\n",
    "print(\"--- %s seconds ---\" % round(time.time() - start_time, 2))\n",
    "print(f\"Memory usage: {memory_usage()} GB\")"
   ]
  },
  {
   "cell_type": "code",
   "execution_count": 17,
   "metadata": {},
   "outputs": [
    {
     "name": "stdout",
     "output_type": "stream",
     "text": [
      "--- 63.09 seconds ---\n",
      "Memory usage: 35.52450180053711 GB\n"
     ]
    }
   ],
   "source": [
    "start_time2 = time.time()\n",
    "K2 = cosine_similarity(matrix)\n",
    "\n",
    "print(\"--- %s seconds ---\" % round(time.time() - start_time, 2))\n",
    "print(f\"Memory usage: {memory_usage()} GB\")"
   ]
  },
  {
   "cell_type": "code",
   "execution_count": 18,
   "metadata": {},
   "outputs": [
    {
     "data": {
      "text/plain": [
       "array([[ True,  True,  True, ...,  True,  True,  True],\n",
       "       [ True,  True,  True, ...,  True,  True,  True],\n",
       "       [ True,  True,  True, ...,  True,  True,  True],\n",
       "       ...,\n",
       "       [ True,  True,  True, ...,  True,  True,  True],\n",
       "       [ True,  True,  True, ...,  True,  True,  True],\n",
       "       [ True,  True,  True, ...,  True,  True,  True]])"
      ]
     },
     "execution_count": 18,
     "metadata": {},
     "output_type": "execute_result"
    }
   ],
   "source": [
    "K1 == K2"
   ]
  },
  {
   "cell_type": "markdown",
   "metadata": {},
   "source": [
    "## ___Get all Arabidopsis records___"
   ]
  },
  {
   "cell_type": "markdown",
   "metadata": {},
   "source": [
    "### Get match_csr column that is for Arabidopsis"
   ]
  },
  {
   "cell_type": "code",
   "execution_count": 5,
   "metadata": {},
   "outputs": [],
   "source": [
    "# load the saved csr\n",
    "with open(match_csr_file, \"rb\") as f:\n",
    "  match_csr = pickle.load(f)\n",
    "\n",
    "# load viridiplantae offspring names that is the same order as match_csr\n",
    "with open(viridi_offspr_file, \"rb\") as f:\n",
    "  viridi_offspr_names = pickle.load(f)"
   ]
  },
  {
   "cell_type": "code",
   "execution_count": 6,
   "metadata": {},
   "outputs": [
    {
     "data": {
      "text/plain": [
       "((421658, 26782), 26782)"
      ]
     },
     "execution_count": 6,
     "metadata": {},
     "output_type": "execute_result"
    }
   ],
   "source": [
    "# Check dimension\n",
    "match_csr.shape, len(viridi_offspr_names)"
   ]
  },
  {
   "cell_type": "code",
   "execution_count": 7,
   "metadata": {},
   "outputs": [
    {
     "data": {
      "text/plain": [
       "22612"
      ]
     },
     "execution_count": 7,
     "metadata": {},
     "output_type": "execute_result"
    }
   ],
   "source": [
    "target_idx = viridi_offspr_names.index(target)\n",
    "target_idx"
   ]
  },
  {
   "cell_type": "code",
   "execution_count": 8,
   "metadata": {},
   "outputs": [
    {
     "data": {
      "text/plain": [
       "(numpy.ndarray, 421658, 50346)"
      ]
     },
     "execution_count": 8,
     "metadata": {},
     "output_type": "execute_result"
    }
   ],
   "source": [
    "# Get indicues of non-zero elements\n",
    "#https://numpy.org/doc/stable/reference/generated/numpy.nonzero.html\n",
    "target_match_arr = match_csr[:,target_idx].toarray().ravel()\n",
    "target_match_idx = np.nonzero(target_match_arr)[0]\n",
    "\n",
    "# Check datatype, shape, and total (ok)\n",
    "type(target_match_arr), len(target_match_arr), np.sum(target_match_arr)"
   ]
  },
  {
   "cell_type": "code",
   "execution_count": 9,
   "metadata": {},
   "outputs": [
    {
     "data": {
      "text/plain": [
       "(50346, array([ 994, 1725, 2524, 3022, 3032]))"
      ]
     },
     "execution_count": 9,
     "metadata": {},
     "output_type": "execute_result"
    }
   ],
   "source": [
    "len(target_match_idx), target_match_idx[:5]"
   ]
  },
  {
   "cell_type": "markdown",
   "metadata": {},
   "source": [
    "### Get the corpus dataframe for records mentioning Arabidopsis"
   ]
  },
  {
   "cell_type": "code",
   "execution_count": 10,
   "metadata": {},
   "outputs": [],
   "source": [
    "# Read corpus file\n",
    "corpus_all = pd.read_csv(corpus_file, compression='gzip', sep='\\t')"
   ]
  },
  {
   "cell_type": "code",
   "execution_count": 11,
   "metadata": {},
   "outputs": [
    {
     "name": "stdout",
     "output_type": "stream",
     "text": [
      "1000\n"
     ]
    }
   ],
   "source": [
    "# Make sure the corpus contain Arabidopsis, test the 1st 1000\n",
    "#https://www.statology.org/pandas-select-rows-by-index/\n",
    "test1000     = corpus_all.loc[target_match_idx[:1000]]['txt']\n",
    "count_found = 0\n",
    "for txt in test1000:\n",
    "  if \"Arabidopsis\" in txt:\n",
    "    count_found += 1\n",
    "\n",
    "print(count_found)"
   ]
  },
  {
   "cell_type": "code",
   "execution_count": 12,
   "metadata": {},
   "outputs": [
    {
     "name": "stdout",
     "output_type": "stream",
     "text": [
      "  load corpus_target_file\n",
      "(50346, 12)\n"
     ]
    }
   ],
   "source": [
    "# Get the dataframe for Arabidopsis\n",
    "if corpus_target_file.is_file():\n",
    "  print(\"  load corpus_target_file\")\n",
    "  corpus_target = pd.read_csv(corpus_target_file, sep='\\t', compression='gzip')\n",
    "else:\n",
    "  print(\"  generate corpus_target_file\")\n",
    "  corpus_target = corpus_all.loc[target_match_idx]\n",
    "  corpus_target.to_csv(corpus_target_file, sep='\\t', compression='gzip')\n",
    "  \n",
    "print(corpus_target.shape)"
   ]
  },
  {
   "cell_type": "markdown",
   "metadata": {},
   "source": [
    "## ___Topic modeling___\n",
    "\n",
    "Codes modified from `script_4_1_topic_model_v2.py` and `script_4_2_outlier_assign.ipynb`"
   ]
  },
  {
   "cell_type": "markdown",
   "metadata": {},
   "source": [
    "### Pre-processing texts"
   ]
  },
  {
   "cell_type": "code",
   "execution_count": 13,
   "metadata": {},
   "outputs": [
    {
     "name": "stdout",
     "output_type": "stream",
     "text": [
      "Pre-processing docs\n",
      "  load processed docs\n"
     ]
    },
    {
     "data": {
      "text/plain": [
       "50346"
      ]
     },
     "execution_count": 13,
     "metadata": {},
     "output_type": "execute_result"
    }
   ],
   "source": [
    "def clean_text(x, stop_words_dict):\n",
    "    x = str(x)\n",
    "    x = x.lower()\n",
    "    # Replace any non-alphanumric characters of any length\n",
    "    # Q: Not sure what the # character do.\n",
    "    x = re.sub(r'#[A-Za-z0-9]*', ' ', x)\n",
    "    # tokenize and rid of any token matching stop words\n",
    "    tokens = word_tokenize(x)\n",
    "    x = ' '.join([w for w in tokens if not w in stop_words_dict])\n",
    "    return x\n",
    "    \n",
    "print(\"Pre-processing docs\")\n",
    "if docs_clean_file.is_file():\n",
    "  print(\"  load processed docs\")\n",
    "  with open(docs_clean_file, \"rb\") as f:\n",
    "    docs_clean = pickle.load(f)\n",
    "else:\n",
    "  print(\"  read corpus and process docs\")\n",
    "  corpus_target_df = pd.read_csv(corpus_target_file, sep='\\t', \n",
    "                                 compression='gzip')\n",
    "  \n",
    "  docs       = corpus_target_df['txt']\n",
    "  stop_words = stopwords.words('english')\n",
    "  stop_words_dict = {}\n",
    "  for i in stop_words:\n",
    "    stop_words_dict[i] = 1\n",
    "\n",
    "  docs_clean = []\n",
    "  for doc_idx in tqdm(range(len(docs))):\n",
    "    doc = docs[doc_idx]\n",
    "    docs_clean.append(clean_text(doc, stop_words_dict))\n",
    "  with open(docs_clean_file, \"wb\") as f:\n",
    "    pickle.dump(docs_clean, f)\n",
    "\n",
    "len(docs_clean)"
   ]
  },
  {
   "cell_type": "markdown",
   "metadata": {},
   "source": [
    "### Generate embeddings"
   ]
  },
  {
   "cell_type": "code",
   "execution_count": 14,
   "metadata": {},
   "outputs": [
    {
     "name": "stdout",
     "output_type": "stream",
     "text": [
      "Load embeddings\n"
     ]
    }
   ],
   "source": [
    "# Generate embeddings\n",
    "if emb_file.is_file():\n",
    "  print(\"Load embeddings\")\n",
    "  with open(emb_file, \"rb\") as f:\n",
    "    embeddings = pickle.load(f)\n",
    "else:\n",
    "  print(\"Generate embeddings\")\n",
    "  emb_model  = SentenceTransformer(model_name)\n",
    "  embeddings = emb_model.encode(docs_clean, show_progress_bar=True)\n",
    "  # Output embeddings\n",
    "  with open(emb_file, \"wb\") as f:\n",
    "    pickle.dump(embeddings, f)"
   ]
  },
  {
   "cell_type": "code",
   "execution_count": 15,
   "metadata": {},
   "outputs": [
    {
     "data": {
      "text/plain": [
       "(50346, 768)"
      ]
     },
     "execution_count": 15,
     "metadata": {},
     "output_type": "execute_result"
    }
   ],
   "source": [
    "embeddings.shape"
   ]
  },
  {
   "cell_type": "markdown",
   "metadata": {},
   "source": [
    "### Run BERTopic\n",
    "\n",
    "Note that functions are stripped from the original version to fit my needs."
   ]
  },
  {
   "cell_type": "markdown",
   "metadata": {},
   "source": [
    "#### Set parameters"
   ]
  },
  {
   "cell_type": "code",
   "execution_count": 7,
   "metadata": {},
   "outputs": [],
   "source": [
    "# HDBSCAN clustering setting\n",
    "min_cluster_size         = 100 # This is 500 for the full dataset run\n",
    "metric                   = 'euclidean' \n",
    "cluster_selection_method ='eom' \n",
    "prediction_data          = True \n",
    "min_samples              = 5\n",
    "\n",
    "# BERTopic setting\n",
    "calculate_probabilities = True\n",
    "n_neighbors             = 10  \n",
    "nr_topics               = 500\n",
    "n_gram_range            = (1,2)"
   ]
  },
  {
   "cell_type": "markdown",
   "metadata": {},
   "source": [
    "#### Initialize HDBSCAN\n",
    "\n",
    "For reducing outliers, following [this instruction](https://maartengr.github.io/BERTopic/faq.html#how-do-i-reduce-topic-outliers)\n",
    "- Also see [HDBSCAN doc](https://hdbscan.readthedocs.io/en/latest/basic_hdbscan.html#what-about-different-metrics)\n",
    "- Comparison of [distance metrics](https://www.kdnuggets.com/2019/01/comparison-text-distance-metrics.html)"
   ]
  },
  {
   "cell_type": "code",
   "execution_count": 8,
   "metadata": {},
   "outputs": [],
   "source": [
    "hdbscan_model = HDBSCAN(min_cluster_size=min_cluster_size, \n",
    "                        metric=metric, \n",
    "                        cluster_selection_method=cluster_selection_method, \n",
    "                        prediction_data=prediction_data, \n",
    "                        min_samples=min_samples)"
   ]
  },
  {
   "cell_type": "markdown",
   "metadata": {},
   "source": [
    "#### Intialize and train topic model"
   ]
  },
  {
   "cell_type": "code",
   "execution_count": 9,
   "metadata": {},
   "outputs": [],
   "source": [
    "topic_model = BERTopic(hdbscan_model=hdbscan_model,\n",
    "                       calculate_probabilities=calculate_probabilities,\n",
    "                       n_gram_range=n_gram_range,\n",
    "                       nr_topics=nr_topics,\n",
    "                       verbose=True)"
   ]
  },
  {
   "cell_type": "code",
   "execution_count": 12,
   "metadata": {},
   "outputs": [
    {
     "ename": "MemoryError",
     "evalue": "Unable to allocate 4.12 TiB for an array with shape (7500000,) and data type <U150950",
     "output_type": "error",
     "traceback": [
      "\u001b[0;31m---------------------------------------------------------------------------\u001b[0m",
      "\u001b[0;31mMemoryError\u001b[0m                               Traceback (most recent call last)",
      "Cell \u001b[0;32mIn[12], line 1\u001b[0m\n\u001b[0;32m----> 1\u001b[0m embeddings \u001b[38;5;241m=\u001b[39m \u001b[43mnp\u001b[49m\u001b[38;5;241;43m.\u001b[39;49m\u001b[43marray\u001b[49m\u001b[43m(\u001b[49m\u001b[43membeddings\u001b[49m\u001b[43m)\u001b[49m\n\u001b[1;32m      2\u001b[0m \u001b[38;5;28mtype\u001b[39m(embeddings)\n",
      "\u001b[0;31mMemoryError\u001b[0m: Unable to allocate 4.12 TiB for an array with shape (7500000,) and data type <U150950"
     ]
    }
   ],
   "source": [
    "embeddings = np.array(embeddings)\n",
    "type(embeddings)"
   ]
  },
  {
   "cell_type": "code",
   "execution_count": 10,
   "metadata": {},
   "outputs": [
    {
     "ename": "ValueError",
     "evalue": "Make sure to input embeddings as a numpy array or scipy.sparse.csr.csr_matrix. ",
     "output_type": "error",
     "traceback": [
      "\u001b[0;31m---------------------------------------------------------------------------\u001b[0m",
      "\u001b[0;31mValueError\u001b[0m                                Traceback (most recent call last)",
      "Cell \u001b[0;32mIn[10], line 1\u001b[0m\n\u001b[0;32m----> 1\u001b[0m topics, probs \u001b[38;5;241m=\u001b[39m \u001b[43mtopic_model\u001b[49m\u001b[38;5;241;43m.\u001b[39;49m\u001b[43mfit_transform\u001b[49m\u001b[43m(\u001b[49m\u001b[43mdocs_clean\u001b[49m\u001b[43m,\u001b[49m\n\u001b[1;32m      2\u001b[0m \u001b[43m                                          \u001b[49m\u001b[43membeddings\u001b[49m\u001b[43m)\u001b[49m\n",
      "File \u001b[0;32m~/miniconda3/envs/topic_model/lib/python3.11/site-packages/bertopic/_bertopic.py:361\u001b[0m, in \u001b[0;36mBERTopic.fit_transform\u001b[0;34m(self, documents, embeddings, images, y)\u001b[0m\n\u001b[1;32m    359\u001b[0m \u001b[39mif\u001b[39;00m documents \u001b[39mis\u001b[39;00m \u001b[39mnot\u001b[39;00m \u001b[39mNone\u001b[39;00m:\n\u001b[1;32m    360\u001b[0m     check_documents_type(documents)\n\u001b[0;32m--> 361\u001b[0m     check_embeddings_shape(embeddings, documents)\n\u001b[1;32m    363\u001b[0m doc_ids \u001b[39m=\u001b[39m \u001b[39mrange\u001b[39m(\u001b[39mlen\u001b[39m(documents)) \u001b[39mif\u001b[39;00m documents \u001b[39mis\u001b[39;00m \u001b[39mnot\u001b[39;00m \u001b[39mNone\u001b[39;00m \u001b[39melse\u001b[39;00m \u001b[39mrange\u001b[39m(\u001b[39mlen\u001b[39m(images))\n\u001b[1;32m    364\u001b[0m documents \u001b[39m=\u001b[39m pd\u001b[39m.\u001b[39mDataFrame({\u001b[39m\"\u001b[39m\u001b[39mDocument\u001b[39m\u001b[39m\"\u001b[39m: documents,\n\u001b[1;32m    365\u001b[0m                           \u001b[39m\"\u001b[39m\u001b[39mID\u001b[39m\u001b[39m\"\u001b[39m: doc_ids,\n\u001b[1;32m    366\u001b[0m                           \u001b[39m\"\u001b[39m\u001b[39mTopic\u001b[39m\u001b[39m\"\u001b[39m: \u001b[39mNone\u001b[39;00m,\n\u001b[1;32m    367\u001b[0m                           \u001b[39m\"\u001b[39m\u001b[39mImage\u001b[39m\u001b[39m\"\u001b[39m: images})\n",
      "File \u001b[0;32m~/miniconda3/envs/topic_model/lib/python3.11/site-packages/bertopic/_utils.py:47\u001b[0m, in \u001b[0;36mcheck_embeddings_shape\u001b[0;34m(embeddings, docs)\u001b[0m\n\u001b[1;32m     45\u001b[0m \u001b[39mif\u001b[39;00m embeddings \u001b[39mis\u001b[39;00m \u001b[39mnot\u001b[39;00m \u001b[39mNone\u001b[39;00m:\n\u001b[1;32m     46\u001b[0m     \u001b[39mif\u001b[39;00m \u001b[39mnot\u001b[39;00m \u001b[39many\u001b[39m([\u001b[39misinstance\u001b[39m(embeddings, np\u001b[39m.\u001b[39mndarray), \u001b[39misinstance\u001b[39m(embeddings, csr_matrix)]):\n\u001b[0;32m---> 47\u001b[0m         \u001b[39mraise\u001b[39;00m \u001b[39mValueError\u001b[39;00m(\u001b[39m\"\u001b[39m\u001b[39mMake sure to input embeddings as a numpy array or scipy.sparse.csr.csr_matrix. \u001b[39m\u001b[39m\"\u001b[39m)\n\u001b[1;32m     48\u001b[0m     \u001b[39melse\u001b[39;00m:\n\u001b[1;32m     49\u001b[0m         \u001b[39mif\u001b[39;00m embeddings\u001b[39m.\u001b[39mshape[\u001b[39m0\u001b[39m] \u001b[39m!=\u001b[39m \u001b[39mlen\u001b[39m(docs):\n",
      "\u001b[0;31mValueError\u001b[0m: Make sure to input embeddings as a numpy array or scipy.sparse.csr.csr_matrix. "
     ]
    }
   ],
   "source": [
    "topics, probs = topic_model.fit_transform(docs_clean,\n",
    "                                          embeddings)\n",
    "            "
   ]
  },
  {
   "cell_type": "markdown",
   "metadata": {},
   "source": [
    "#### Save model, topics, and probability"
   ]
  },
  {
   "cell_type": "code",
   "execution_count": 20,
   "metadata": {},
   "outputs": [],
   "source": [
    "# I already save the embeddings, so won't save it again\n",
    "topic_model.save(topic_model_file)\n",
    "\n",
    "with open(topics_file, \"wb\") as f:\n",
    "    pickle.dump(topics, f)\n",
    "\n",
    "with open(probs_file, \"wb\") as f:\n",
    "  pickle.dump(probs, f)"
   ]
  },
  {
   "cell_type": "markdown",
   "metadata": {},
   "source": [
    "#### Load model and probabilities\n",
    "\n",
    "This is more for running topic modeling on the much larger corpus. Here the targeted corpus is much smaller. But keep this anyway."
   ]
  },
  {
   "cell_type": "code",
   "execution_count": 21,
   "metadata": {},
   "outputs": [],
   "source": [
    "# Load topic model\n",
    "topic_model = BERTopic.load(topic_model_file)\n",
    "\n",
    "# load prob\n",
    "with open(probs_file, \"rb\") as f:\n",
    "  probs = pickle.load(f)"
   ]
  },
  {
   "cell_type": "code",
   "execution_count": 22,
   "metadata": {},
   "outputs": [
    {
     "data": {
      "text/html": [
       "<div>\n",
       "<style scoped>\n",
       "    .dataframe tbody tr th:only-of-type {\n",
       "        vertical-align: middle;\n",
       "    }\n",
       "\n",
       "    .dataframe tbody tr th {\n",
       "        vertical-align: top;\n",
       "    }\n",
       "\n",
       "    .dataframe thead th {\n",
       "        text-align: right;\n",
       "    }\n",
       "</style>\n",
       "<table border=\"1\" class=\"dataframe\">\n",
       "  <thead>\n",
       "    <tr style=\"text-align: right;\">\n",
       "      <th></th>\n",
       "      <th>Topic</th>\n",
       "      <th>Count</th>\n",
       "      <th>Name</th>\n",
       "      <th>Representation</th>\n",
       "      <th>Representative_Docs</th>\n",
       "    </tr>\n",
       "  </thead>\n",
       "  <tbody>\n",
       "    <tr>\n",
       "      <th>0</th>\n",
       "      <td>-1</td>\n",
       "      <td>21556</td>\n",
       "      <td>-1_arabidopsis_plants_plant_genes</td>\n",
       "      <td>[arabidopsis, plants, plant, genes, expression...</td>\n",
       "      <td>[transcription factor garwrky5 involved salt s...</td>\n",
       "    </tr>\n",
       "    <tr>\n",
       "      <th>1</th>\n",
       "      <td>0</td>\n",
       "      <td>117</td>\n",
       "      <td>0_autophagy_atg8_atg_autophagic</td>\n",
       "      <td>[autophagy, atg8, atg, autophagic, degradation...</td>\n",
       "      <td>[tor negative regulator autophagy arabidopsis ...</td>\n",
       "    </tr>\n",
       "    <tr>\n",
       "      <th>2</th>\n",
       "      <td>1</td>\n",
       "      <td>111</td>\n",
       "      <td>1_ptdins_inositol_phosphatidylinositol_p2</td>\n",
       "      <td>[ptdins, inositol, phosphatidylinositol, p2, p...</td>\n",
       "      <td>[type b phosphatidylinositol-4-phosphate 5-kin...</td>\n",
       "    </tr>\n",
       "    <tr>\n",
       "      <th>3</th>\n",
       "      <td>2</td>\n",
       "      <td>289</td>\n",
       "      <td>2_sumo_ubiquitin_e3_proteasome</td>\n",
       "      <td>[sumo, ubiquitin, e3, proteasome, proteins, li...</td>\n",
       "      <td>[examining protein stability relevance plant g...</td>\n",
       "    </tr>\n",
       "    <tr>\n",
       "      <th>4</th>\n",
       "      <td>3</td>\n",
       "      <td>100</td>\n",
       "      <td>3_spaceflight_microgravity_space_gravity</td>\n",
       "      <td>[spaceflight, microgravity, space, gravity, gr...</td>\n",
       "      <td>[comparative transcriptomics indicate changes ...</td>\n",
       "    </tr>\n",
       "  </tbody>\n",
       "</table>\n",
       "</div>"
      ],
      "text/plain": [
       "   Topic  Count                                       Name  \\\n",
       "0     -1  21556          -1_arabidopsis_plants_plant_genes   \n",
       "1      0    117            0_autophagy_atg8_atg_autophagic   \n",
       "2      1    111  1_ptdins_inositol_phosphatidylinositol_p2   \n",
       "3      2    289             2_sumo_ubiquitin_e3_proteasome   \n",
       "4      3    100   3_spaceflight_microgravity_space_gravity   \n",
       "\n",
       "                                      Representation  \\\n",
       "0  [arabidopsis, plants, plant, genes, expression...   \n",
       "1  [autophagy, atg8, atg, autophagic, degradation...   \n",
       "2  [ptdins, inositol, phosphatidylinositol, p2, p...   \n",
       "3  [sumo, ubiquitin, e3, proteasome, proteins, li...   \n",
       "4  [spaceflight, microgravity, space, gravity, gr...   \n",
       "\n",
       "                                 Representative_Docs  \n",
       "0  [transcription factor garwrky5 involved salt s...  \n",
       "1  [tor negative regulator autophagy arabidopsis ...  \n",
       "2  [type b phosphatidylinositol-4-phosphate 5-kin...  \n",
       "3  [examining protein stability relevance plant g...  \n",
       "4  [comparative transcriptomics indicate changes ...  "
      ]
     },
     "execution_count": 22,
     "metadata": {},
     "output_type": "execute_result"
    }
   ],
   "source": [
    "topic_info = topic_model.get_topic_info()\n",
    "topic_info.head()"
   ]
  },
  {
   "cell_type": "code",
   "execution_count": 23,
   "metadata": {},
   "outputs": [
    {
     "data": {
      "text/html": [
       "<div>\n",
       "<style scoped>\n",
       "    .dataframe tbody tr th:only-of-type {\n",
       "        vertical-align: middle;\n",
       "    }\n",
       "\n",
       "    .dataframe tbody tr th {\n",
       "        vertical-align: top;\n",
       "    }\n",
       "\n",
       "    .dataframe thead th {\n",
       "        text-align: right;\n",
       "    }\n",
       "</style>\n",
       "<table border=\"1\" class=\"dataframe\">\n",
       "  <thead>\n",
       "    <tr style=\"text-align: right;\">\n",
       "      <th></th>\n",
       "      <th>Topic</th>\n",
       "      <th>Count</th>\n",
       "      <th>Name</th>\n",
       "      <th>Representation</th>\n",
       "      <th>Representative_Docs</th>\n",
       "    </tr>\n",
       "  </thead>\n",
       "  <tbody>\n",
       "    <tr>\n",
       "      <th>57</th>\n",
       "      <td>56</td>\n",
       "      <td>368</td>\n",
       "      <td>56_ethylene_auxin_ga_root</td>\n",
       "      <td>[ethylene, auxin, ga, root, etr1, growth, dell...</td>\n",
       "      <td>[arabidopsis etr1 ers1 differentially repress ...</td>\n",
       "    </tr>\n",
       "    <tr>\n",
       "      <th>58</th>\n",
       "      <td>57</td>\n",
       "      <td>1342</td>\n",
       "      <td>57_meristem_floral_cell_development</td>\n",
       "      <td>[meristem, floral, cell, development, stem, sh...</td>\n",
       "      <td>[shoot floral meristem maintenance arabidopsis...</td>\n",
       "    </tr>\n",
       "    <tr>\n",
       "      <th>59</th>\n",
       "      <td>58</td>\n",
       "      <td>430</td>\n",
       "      <td>58_circadian_clock_circadian clock_rhythms</td>\n",
       "      <td>[circadian, clock, circadian clock, rhythms, c...</td>\n",
       "      <td>[metabolic sensor akin10 modulates arabidopsis...</td>\n",
       "    </tr>\n",
       "    <tr>\n",
       "      <th>60</th>\n",
       "      <td>59</td>\n",
       "      <td>176</td>\n",
       "      <td>59_flowering_ft_co_floral</td>\n",
       "      <td>[flowering, ft, co, floral, flowering locus, p...</td>\n",
       "      <td>[balancing forces photoperiodic control flower...</td>\n",
       "    </tr>\n",
       "    <tr>\n",
       "      <th>61</th>\n",
       "      <td>60</td>\n",
       "      <td>132</td>\n",
       "      <td>60_flowering_ft_vernalization_flowering time</td>\n",
       "      <td>[flowering, ft, vernalization, flowering time,...</td>\n",
       "      <td>[medicago phya promotes flowering , primary st...</td>\n",
       "    </tr>\n",
       "  </tbody>\n",
       "</table>\n",
       "</div>"
      ],
      "text/plain": [
       "    Topic  Count                                          Name  \\\n",
       "57     56    368                     56_ethylene_auxin_ga_root   \n",
       "58     57   1342           57_meristem_floral_cell_development   \n",
       "59     58    430    58_circadian_clock_circadian clock_rhythms   \n",
       "60     59    176                     59_flowering_ft_co_floral   \n",
       "61     60    132  60_flowering_ft_vernalization_flowering time   \n",
       "\n",
       "                                       Representation  \\\n",
       "57  [ethylene, auxin, ga, root, etr1, growth, dell...   \n",
       "58  [meristem, floral, cell, development, stem, sh...   \n",
       "59  [circadian, clock, circadian clock, rhythms, c...   \n",
       "60  [flowering, ft, co, floral, flowering locus, p...   \n",
       "61  [flowering, ft, vernalization, flowering time,...   \n",
       "\n",
       "                                  Representative_Docs  \n",
       "57  [arabidopsis etr1 ers1 differentially repress ...  \n",
       "58  [shoot floral meristem maintenance arabidopsis...  \n",
       "59  [metabolic sensor akin10 modulates arabidopsis...  \n",
       "60  [balancing forces photoperiodic control flower...  \n",
       "61  [medicago phya promotes flowering , primary st...  "
      ]
     },
     "execution_count": 23,
     "metadata": {},
     "output_type": "execute_result"
    }
   ],
   "source": [
    "topic_info.tail()"
   ]
  },
  {
   "cell_type": "markdown",
   "metadata": {},
   "source": [
    "## ___Outlier assignments___\n",
    "\n",
    "Modified from `script_4_2_outlier_assign.ipynb`"
   ]
  },
  {
   "cell_type": "markdown",
   "metadata": {},
   "source": [
    "### Assignments\n",
    "\n",
    "To assign outlier to clusters if its max probability to a cluster exceed 95 percentile value of the overall probability distribution."
   ]
  },
  {
   "cell_type": "code",
   "execution_count": 24,
   "metadata": {},
   "outputs": [],
   "source": [
    "# 95 precentile probability value as threshold\n",
    "probability_threshold = np.percentile(probs, 95)\n",
    "new_topics = [np.argmax(prob) if max(prob) >= probability_threshold else -1 \n",
    "                                                            for prob in probs]"
   ]
  },
  {
   "cell_type": "code",
   "execution_count": 25,
   "metadata": {},
   "outputs": [
    {
     "data": {
      "text/plain": [
       "0.0870575616732213"
      ]
     },
     "execution_count": 25,
     "metadata": {},
     "output_type": "execute_result"
    }
   ],
   "source": [
    "# Unassigned doc number\n",
    "n_unassigned = pd.Series(new_topics).value_counts().loc[-1]\n",
    "n_unassigned/len(new_topics)"
   ]
  },
  {
   "cell_type": "markdown",
   "metadata": {},
   "source": [
    "### Update topics\n",
    "\n",
    "Save the new topic assignments to an updated topic model"
   ]
  },
  {
   "cell_type": "code",
   "execution_count": 26,
   "metadata": {},
   "outputs": [],
   "source": [
    "# update topic based on new topics\n",
    "topic_model.update_topics(docs_clean, new_topics)"
   ]
  },
  {
   "cell_type": "code",
   "execution_count": 27,
   "metadata": {},
   "outputs": [],
   "source": [
    "# Update topic frequencies\n",
    "documents = pd.DataFrame({\"Document\": docs_clean, \"Topic\": new_topics})\n",
    "topic_model._update_topic_size(documents)\n",
    "topic_model.save(topic_model_updated_file)"
   ]
  },
  {
   "cell_type": "markdown",
   "metadata": {},
   "source": [
    "### Get updated topic info"
   ]
  },
  {
   "cell_type": "code",
   "execution_count": 28,
   "metadata": {},
   "outputs": [],
   "source": [
    "# Load topic model again\n",
    "topic_model = BERTopic.load(topic_model_updated_file)"
   ]
  },
  {
   "cell_type": "code",
   "execution_count": 29,
   "metadata": {},
   "outputs": [
    {
     "data": {
      "text/html": [
       "<div>\n",
       "<style scoped>\n",
       "    .dataframe tbody tr th:only-of-type {\n",
       "        vertical-align: middle;\n",
       "    }\n",
       "\n",
       "    .dataframe tbody tr th {\n",
       "        vertical-align: top;\n",
       "    }\n",
       "\n",
       "    .dataframe thead th {\n",
       "        text-align: right;\n",
       "    }\n",
       "</style>\n",
       "<table border=\"1\" class=\"dataframe\">\n",
       "  <thead>\n",
       "    <tr style=\"text-align: right;\">\n",
       "      <th></th>\n",
       "      <th>Topic</th>\n",
       "      <th>Count</th>\n",
       "      <th>Name</th>\n",
       "      <th>Representation</th>\n",
       "      <th>Representative_Docs</th>\n",
       "    </tr>\n",
       "  </thead>\n",
       "  <tbody>\n",
       "    <tr>\n",
       "      <th>0</th>\n",
       "      <td>-1</td>\n",
       "      <td>4383</td>\n",
       "      <td>-1_arabidopsis_plants_plant_genes</td>\n",
       "      <td>[arabidopsis, plants, plant, genes, expression...</td>\n",
       "      <td>[transcription factor garwrky5 involved salt s...</td>\n",
       "    </tr>\n",
       "    <tr>\n",
       "      <th>1</th>\n",
       "      <td>0</td>\n",
       "      <td>161</td>\n",
       "      <td>0_autophagy_atg8_atg_autophagic</td>\n",
       "      <td>[autophagy, atg8, atg, autophagic, degradation...</td>\n",
       "      <td>[tor negative regulator autophagy arabidopsis ...</td>\n",
       "    </tr>\n",
       "    <tr>\n",
       "      <th>2</th>\n",
       "      <td>1</td>\n",
       "      <td>325</td>\n",
       "      <td>1_ptdins_inositol_phosphatidylinositol_p2</td>\n",
       "      <td>[ptdins, inositol, phosphatidylinositol, p2, p...</td>\n",
       "      <td>[type b phosphatidylinositol-4-phosphate 5-kin...</td>\n",
       "    </tr>\n",
       "    <tr>\n",
       "      <th>3</th>\n",
       "      <td>2</td>\n",
       "      <td>455</td>\n",
       "      <td>2_sumo_ubiquitin_e3_proteasome</td>\n",
       "      <td>[sumo, ubiquitin, e3, proteasome, proteins, li...</td>\n",
       "      <td>[examining protein stability relevance plant g...</td>\n",
       "    </tr>\n",
       "    <tr>\n",
       "      <th>4</th>\n",
       "      <td>3</td>\n",
       "      <td>161</td>\n",
       "      <td>3_spaceflight_microgravity_space_gravity</td>\n",
       "      <td>[spaceflight, microgravity, space, gravity, gr...</td>\n",
       "      <td>[comparative transcriptomics indicate changes ...</td>\n",
       "    </tr>\n",
       "  </tbody>\n",
       "</table>\n",
       "</div>"
      ],
      "text/plain": [
       "   Topic  Count                                       Name  \\\n",
       "0     -1   4383          -1_arabidopsis_plants_plant_genes   \n",
       "1      0    161            0_autophagy_atg8_atg_autophagic   \n",
       "2      1    325  1_ptdins_inositol_phosphatidylinositol_p2   \n",
       "3      2    455             2_sumo_ubiquitin_e3_proteasome   \n",
       "4      3    161   3_spaceflight_microgravity_space_gravity   \n",
       "\n",
       "                                      Representation  \\\n",
       "0  [arabidopsis, plants, plant, genes, expression...   \n",
       "1  [autophagy, atg8, atg, autophagic, degradation...   \n",
       "2  [ptdins, inositol, phosphatidylinositol, p2, p...   \n",
       "3  [sumo, ubiquitin, e3, proteasome, proteins, li...   \n",
       "4  [spaceflight, microgravity, space, gravity, gr...   \n",
       "\n",
       "                                 Representative_Docs  \n",
       "0  [transcription factor garwrky5 involved salt s...  \n",
       "1  [tor negative regulator autophagy arabidopsis ...  \n",
       "2  [type b phosphatidylinositol-4-phosphate 5-kin...  \n",
       "3  [examining protein stability relevance plant g...  \n",
       "4  [comparative transcriptomics indicate changes ...  "
      ]
     },
     "execution_count": 29,
     "metadata": {},
     "output_type": "execute_result"
    }
   ],
   "source": [
    "# Check topic info to make sure the topic model is updated\n",
    "topic_info = topic_model.get_topic_info()\n",
    "topic_info[:5]"
   ]
  },
  {
   "cell_type": "code",
   "execution_count": 30,
   "metadata": {},
   "outputs": [
    {
     "data": {
      "text/plain": [
       "(45963, 91.29424383267786)"
      ]
     },
     "execution_count": 30,
     "metadata": {},
     "output_type": "execute_result"
    }
   ],
   "source": [
    "n_total     = np.sum(topic_info['Count'].values)\n",
    "n_outlier   = topic_info['Count'][0]\n",
    "n_in_topics = n_total - n_outlier\n",
    "n_in_topics, n_in_topics/n_total*100"
   ]
  },
  {
   "cell_type": "markdown",
   "metadata": {},
   "source": [
    "## ___Topic model analysis___"
   ]
  },
  {
   "cell_type": "markdown",
   "metadata": {},
   "source": [
    "### Topic size plot"
   ]
  },
  {
   "cell_type": "code",
   "execution_count": 31,
   "metadata": {},
   "outputs": [],
   "source": [
    "topic_info_sorted = topic_info.sort_values(by=['Count'])\n",
    "topic_names  = list(topic_info_sorted.Name.values)\n",
    "topic_counts = list(topic_info_sorted.Count.values)\n",
    "y_pos        = len(topic_names)"
   ]
  },
  {
   "cell_type": "code",
   "execution_count": 32,
   "metadata": {},
   "outputs": [
    {
     "data": {
      "image/png": "[encoded data removed]",
      "text/plain": [
       "<Figure size 800x1200 with 1 Axes>"
      ]
     },
     "metadata": {},
     "output_type": "display_data"
    }
   ],
   "source": [
    "# Bar plot\n",
    "# xlabel got cutoff, see:\n",
    "# https://stackoverflow.com/questions/23497569/bar-plot-cutting-off-axis-title\n",
    "\n",
    "plt.figure(figsize=(8,12))\n",
    "plt.barh(topic_names, topic_counts)\n",
    "#ax.set_yticks(y_pos, labels=topic_names)\n",
    "plt.xlabel('Number of records')\n",
    "plt.tight_layout()\n",
    "plt.savefig(work_dir / f\"figure_topic_count_{target}.pdf\")"
   ]
  },
  {
   "cell_type": "markdown",
   "metadata": {},
   "source": [
    "### Topic-term matrix for top 50 terms"
   ]
  },
  {
   "cell_type": "code",
   "execution_count": 33,
   "metadata": {},
   "outputs": [
    {
     "data": {
      "text/plain": [
       "(scipy.sparse._csr.csr_matrix, (62, 3118361))"
      ]
     },
     "execution_count": 33,
     "metadata": {},
     "output_type": "execute_result"
    }
   ],
   "source": [
    "# Sparse matrix with topics as rows and features (i.e. terms) as columns, \n",
    "# values are c-Tf-idf\n",
    "# 10/4/22: The updated BERTopic refer to the c_tf_idf matrix differently with an\n",
    "#   extra '_' at the end\n",
    "#topic_term_matrix = topic_model.c_tf_idf\n",
    "topic_term_matrix = topic_model.c_tf_idf_\n",
    "type(topic_term_matrix), topic_term_matrix.shape"
   ]
  },
  {
   "cell_type": "code",
   "execution_count": 34,
   "metadata": {},
   "outputs": [
    {
     "name": "stderr",
     "output_type": "stream",
     "text": [
      "100%|██████████| 61/61 [00:08<00:00,  6.95it/s]\n"
     ]
    }
   ],
   "source": [
    "# A list of features (terms)\n",
    "terms = topic_model.vectorizer_model.get_feature_names_out()\n",
    "\n",
    "# Get top 50 terms\n",
    "top_50 = {} # {topic:[top50_idx_list, top50_c-tf-idf_list, to50_feat_list]}\n",
    "\n",
    "# Skip the outlier topic, named the variable topic_plus1 because the topic\n",
    "# index is -1 from the index in the topic_term_marix.\n",
    "for topic_plus1 in tqdm(range(1, topic_term_matrix.shape[0])):\n",
    "  row     = topic_term_matrix.getrow(topic_plus1).toarray()[0].ravel()\n",
    "\n",
    "  # The following two lines sorted from low to high\n",
    "  t50_idx = list(row.argsort()[-50:])\n",
    "  t50_val = list(row[row.argsort()[-50:]])\n",
    "\n",
    "  t50_fea = [terms[i] for i in t50_idx]\n",
    "  top_50[topic_plus1-1] = [t50_idx, t50_val, t50_fea]"
   ]
  },
  {
   "cell_type": "code",
   "execution_count": 35,
   "metadata": {},
   "outputs": [],
   "source": [
    "# Save the top 50 terms\n",
    "with open(top_50_terms_file, 'wb') as f:\n",
    "  pickle.dump(top_50, f)"
   ]
  },
  {
   "cell_type": "code",
   "execution_count": 36,
   "metadata": {},
   "outputs": [],
   "source": [
    "topic_labels = topic_model.generate_topic_labels(nr_words=10,\n",
    "                                                 topic_prefix=True,\n",
    "                                                 separator='|')"
   ]
  },
  {
   "cell_type": "code",
   "execution_count": 37,
   "metadata": {},
   "outputs": [],
   "source": [
    "# Save top terms for different topics into an xlsx file\n",
    "xlsx      = Workbook(top_50_terms_xlsx)\n",
    "\n",
    "# Do not output outlier\n",
    "topic_label_df = pd.DataFrame(topic_labels[1:])\n",
    "topic_label_df.columns = [\"label\"]\n",
    "topic_label_df.to_csv(topic_label_file, sep='\\t')\n",
    "\n",
    "worksheet = xlsx.add_worksheet(\"topic_label\")\n",
    "read_tsv = csv.reader(open(topic_label_file,'r',encoding='utf-8'),delimiter='\\t')\n",
    "for row, data in enumerate(read_tsv):\n",
    "  worksheet.write_row(row, 0, data)"
   ]
  },
  {
   "cell_type": "code",
   "execution_count": 38,
   "metadata": {},
   "outputs": [],
   "source": [
    "# Incude the representative doc in a worksheet\n",
    "rep_docs    = topic_model.get_representative_docs()\n",
    "rep_docs_df = pd.DataFrame.from_dict(rep_docs, orient='index',\n",
    "                                  columns=['doc1', 'doc2', 'doc3'])\n",
    "rep_docs_df.to_csv(rep_docs_file, sep='\\t')\n",
    "\n",
    "worksheet = xlsx.add_worksheet(\"representative docs\")\n",
    "read_tsv = csv.reader(open(rep_docs_file,'r',encoding='utf-8'),delimiter='\\t')\n",
    "for row, data in enumerate(read_tsv):\n",
    "  worksheet.write_row(row, 0, data)"
   ]
  },
  {
   "cell_type": "code",
   "execution_count": 39,
   "metadata": {},
   "outputs": [],
   "source": [
    "# Put the top 50 term info into different tsv files in the top_50 folder\n",
    "# Output individual tsv files and put tsv into xlsx\n",
    "for topic in top_50:\n",
    "  topic_file = top_50_dir / f\"topic_{topic}.tsv\"\n",
    "  # The nested list has index, c-tf-idf, and feature as rows. So it is transposed\n",
    "  # to have the rows as columns. The iloc bit is to reverse the order so higher\n",
    "  # c-tf-idf entries are on top.\n",
    "  topic_df = pd.DataFrame(top_50[topic]).transpose().iloc[::-1]\n",
    "  topic_df.columns = [\"index\", \"c-tf-idf\", \"feature\"]\n",
    "  topic_df.to_csv(topic_file, sep='\\t')\n",
    "\n",
    "  # Save to xlsx\n",
    "  worksheet = xlsx.add_worksheet(f\"{topic}\")\n",
    "  read_tsv  = csv.reader(open(topic_file, 'r',encoding='utf-8'),delimiter='\\t')\n",
    "  for row, data in enumerate(read_tsv):\n",
    "    worksheet.write_row(row, 0, data)\n",
    "\n",
    "xlsx.close()"
   ]
  },
  {
   "cell_type": "markdown",
   "metadata": {},
   "source": [
    "## ___Records per year and timestamp bins___\n",
    "\n",
    "Code modified from `script_4_4_topic_over_time.ipynb`"
   ]
  },
  {
   "cell_type": "markdown",
   "metadata": {},
   "source": [
    "### Plot records per year"
   ]
  },
  {
   "cell_type": "code",
   "execution_count": 40,
   "metadata": {},
   "outputs": [
    {
     "data": {
      "image/png": "[encoded data removed]",
      "text/plain": [
       "<Figure size 600x1000 with 1 Axes>"
      ]
     },
     "metadata": {},
     "output_type": "display_data"
    }
   ],
   "source": [
    "# Get pandas series dates\n",
    "dates = corpus_target['Date']\n",
    "\n",
    "ts_for_plot = [] # timestamps for plotting\n",
    "docs_yr     = [] # a list of years for generating bar graph later\n",
    "early_doc   = {} # {year: count}\n",
    "for date in dates:\n",
    "  [yr, mo, da] = date.split('-') # year, month, day\n",
    "  # docs from the same year has the same timestamp\n",
    "  yr = int(yr)\n",
    "  docs_yr.append(yr)\n",
    "\n",
    "  # Create \n",
    "  if yr not in early_doc:\n",
    "    early_doc[yr] = 1\n",
    "  else:\n",
    "    early_doc[yr]+= 1\n",
    "\n",
    "  # Set year before 1970 as 1969.\n",
    "  if yr < 1970:  \n",
    "    yr = 1969\n",
    "\n",
    "  # Set year after 2020 as 2020. There are 58 instances\n",
    "  if yr > 2020:  \n",
    "    yr = 2020\n",
    "\n",
    "  dt   = datetime(yr, 1, 1)\n",
    "  ts   = dt.timestamp()\n",
    "  ts_for_plot.append(ts)\n",
    "\n",
    "# array with number of records per year\n",
    "docs_year_array = np.unique(np.array(docs_yr), return_counts=True)\n",
    "\n",
    "# dataframe with counts per year\n",
    "docs_year_df    = pd.DataFrame(docs_year_array[1], columns=[\"Count\"],\n",
    "                               index=docs_year_array[0])\n",
    "\n",
    "# without log\n",
    "plt.figure(figsize=(6,10))\n",
    "plt.barh(docs_year_array[0], docs_year_array[1])\n",
    "plt.ylabel('Year')\n",
    "plt.xlabel('Numbers of documents')\n",
    "plt.yticks(range(1960, 2021, 5))\n",
    "plt.savefig(work_dir / f'figure_num_docs_per_year_{target}.pdf')"
   ]
  },
  {
   "cell_type": "code",
   "execution_count": 41,
   "metadata": {},
   "outputs": [
    {
     "data": {
      "image/png": "[encoded data removed]",
      "text/plain": [
       "<Figure size 600x1000 with 1 Axes>"
      ]
     },
     "metadata": {},
     "output_type": "display_data"
    }
   ],
   "source": [
    "# logged\n",
    "plt.figure(figsize=(6,10))\n",
    "plt.barh(docs_year_array[0], np.log10(docs_year_array[1]+1))\n",
    "plt.ylabel('Year')\n",
    "\n",
    "# +1 so the x-axis value is not zero.\n",
    "plt.xlabel('log10(Numbers of documents + 1)')\n",
    "plt.yticks(range(1960, 2021, 5))\n",
    "plt.savefig(work_dir / 'figure_num_docs_per_year_{target}_logged.pdf')"
   ]
  },
  {
   "cell_type": "markdown",
   "metadata": {},
   "source": [
    "### Get the binned timestamp values\n",
    "\n",
    "Divide into 20 bins"
   ]
  },
  {
   "cell_type": "code",
   "execution_count": 42,
   "metadata": {},
   "outputs": [],
   "source": [
    "# Turn all dates into timestamps \n",
    "ts_for_bins = []\n",
    "for date in dates:\n",
    "  [yr, mo, da] = date.split('-') # year, month, day\n",
    "  dt   = datetime(int(yr), int(mo), int(da))\n",
    "  ts   = dt.timestamp()\n",
    "  ts_for_bins.append(ts)\n",
    "  \n",
    "ts_for_bins.sort()"
   ]
  },
  {
   "cell_type": "code",
   "execution_count": 43,
   "metadata": {},
   "outputs": [],
   "source": [
    "# bin size\n",
    "bin_num  = 20\n",
    "bin_size = int(len(ts_for_bins)/bin_num)\n",
    "\n",
    "# index values of every 1/bin_num*100 percentile (because the data is broken \n",
    "# into parts=bin_num)\n",
    "bin_idxs = [idx for idx in range(0, len(ts_for_bins), bin_size)]\n",
    "\n",
    "# timestamp values at bin_idxs\n",
    "bin_timestamps = [ts_for_bins[idx] for idx in bin_idxs]\n",
    "\n",
    "# Modify the last value to be the max timestamp value + 1. This is otherwise\n",
    "# because of the bin_size is rounded down the last value be smaller than the max\n",
    "# timestamp values. Also, +1 to the max value, otherwise, the last entries will\n",
    "# be in its own bin.\n",
    "max_timestamp      = max(ts_for_bins) + 1\n",
    "bin_timestamps[-1] = max_timestamp\n",
    "\n",
    "# dates correspond to the different timestamp\n",
    "bin_dates      = [datetime.fromtimestamp(ts) for ts in bin_timestamps]\n",
    "\n",
    "# Put idx, timestamp, and date into a dataframe and save it.\n",
    "bin_df         = pd.DataFrame(list(zip(bin_idxs, bin_timestamps, bin_dates)),\n",
    "            columns=['bin_start_idx', 'bin_start_timestamp', 'bin_start_date'])\n",
    "bin_df.to_csv(work_dir / f\"table_bin_timestamp_date_{target}.tsv\", sep='\\t')"
   ]
  },
  {
   "cell_type": "code",
   "execution_count": 44,
   "metadata": {},
   "outputs": [
    {
     "data": {
      "text/plain": [
       "(   bin_start_idx  bin_start_timestamp bin_start_date\n",
       " 0              0        -1.211148e+08     1966-03-01\n",
       " 1           2517         9.030672e+08     1998-08-14\n",
       " 2           5034         1.006405e+09     2001-11-22\n",
       " 3           7551         1.071551e+09     2003-12-16\n",
       " 4          10068         1.124942e+09     2005-08-25,\n",
       "     bin_start_idx  bin_start_timestamp      bin_start_date\n",
       " 16          40272         1.509509e+09 2017-11-01 00:00:00\n",
       " 17          42789         1.536034e+09 2018-09-04 00:00:00\n",
       " 18          45306         1.561176e+09 2019-06-22 00:00:00\n",
       " 19          47823         1.585714e+09 2020-04-01 00:00:00\n",
       " 20          50340         1.609477e+09 2021-01-01 00:00:01)"
      ]
     },
     "execution_count": 44,
     "metadata": {},
     "output_type": "execute_result"
    }
   ],
   "source": [
    "bin_df.head(), bin_df.tail()"
   ]
  },
  {
   "cell_type": "markdown",
   "metadata": {},
   "source": [
    "### Generate the binned timestamps"
   ]
  },
  {
   "cell_type": "code",
   "execution_count": 45,
   "metadata": {},
   "outputs": [
    {
     "data": {
      "text/plain": [
       "50346"
      ]
     },
     "execution_count": 45,
     "metadata": {},
     "output_type": "execute_result"
    }
   ],
   "source": [
    "# Assign new timestamps based on the bin timestamp values\n",
    "ts_in_bins = []\n",
    "for date in dates:\n",
    "  [yr, mo, da] = date.split('-') # year, month, day\n",
    "  dt   = datetime(int(yr), int(mo), int(da))\n",
    "  ts   = dt.timestamp()\n",
    "\n",
    "  bin_idx = bisect(bin_timestamps, ts)\n",
    "\n",
    "  if bin_idx < len(bin_timestamps):\n",
    "    ts2     = bin_timestamps[bin_idx]\n",
    "  # Deal with the last bin\n",
    "  else:\n",
    "    ts2     = datetime(2022, 12, 31).timestamp()\n",
    "  ts_in_bins.append(ts2) \n",
    "\n",
    "len(ts_in_bins) # Expect 50346, the number of Arabidopsis docs"
   ]
  },
  {
   "cell_type": "markdown",
   "metadata": {},
   "source": [
    "## ___Run topics_over_time___\n",
    "\n",
    "The following is modified from `topics_over_time` in `_bertopic.py`\n",
    "- [source](https://github.com/MaartenGr/BERTopic/blob/master/bertopic/_bertopic.py)\n"
   ]
  },
  {
   "cell_type": "markdown",
   "metadata": {},
   "source": [
    "### Set up"
   ]
  },
  {
   "cell_type": "code",
   "execution_count": 46,
   "metadata": {},
   "outputs": [],
   "source": [
    "docs             = docs_clean\n",
    "topics           = new_topics # 10/27: an earlier run did not update this\n",
    "timestamps       = ts_in_bins\n",
    "nr_bins          = 20\n",
    "global_tuning    = 0\n",
    "evolution_tuning = 1\n",
    "\n",
    "# Get the global (i.e., based on the whole timef rame) ctfidf values\n",
    "global_c_tf_idf = normalize(topic_model.c_tf_idf_, axis=1, norm='l1', copy=False)\n",
    "# Construct a documents dataframe\n",
    "documents = pd.DataFrame({\"Document\": docs, \"Topic\": topics, \n",
    "                          \"Timestamps\": timestamps})"
   ]
  },
  {
   "cell_type": "code",
   "execution_count": 47,
   "metadata": {},
   "outputs": [
    {
     "data": {
      "text/plain": [
       "(62, -1, dict, 0)"
      ]
     },
     "execution_count": 47,
     "metadata": {},
     "output_type": "execute_result"
    }
   ],
   "source": [
    "# Get topic names, ordered and then get their indices, 0-based\n",
    "all_topics = sorted(list(documents.Topic.unique()))\n",
    "all_topics_indices = {topic: index for index, topic in enumerate(all_topics)}\n",
    "\n",
    "# 53 topics, index=0 is the outlier\n",
    "len(all_topics), all_topics[0], type(all_topics_indices), all_topics_indices[-1]"
   ]
  },
  {
   "cell_type": "code",
   "execution_count": 48,
   "metadata": {},
   "outputs": [
    {
     "data": {
      "text/html": [
       "<div>\n",
       "<style scoped>\n",
       "    .dataframe tbody tr th:only-of-type {\n",
       "        vertical-align: middle;\n",
       "    }\n",
       "\n",
       "    .dataframe tbody tr th {\n",
       "        vertical-align: top;\n",
       "    }\n",
       "\n",
       "    .dataframe thead th {\n",
       "        text-align: right;\n",
       "    }\n",
       "</style>\n",
       "<table border=\"1\" class=\"dataframe\">\n",
       "  <thead>\n",
       "    <tr style=\"text-align: right;\">\n",
       "      <th></th>\n",
       "      <th>Document</th>\n",
       "      <th>Topic</th>\n",
       "      <th>Timestamps</th>\n",
       "      <th>Bins</th>\n",
       "    </tr>\n",
       "  </thead>\n",
       "  <tbody>\n",
       "    <tr>\n",
       "      <th>0</th>\n",
       "      <td>somatic mosaicism plants special reference som...</td>\n",
       "      <td>-1</td>\n",
       "      <td>903067199.0</td>\n",
       "      <td>(903067199.0, 903067201.0]</td>\n",
       "    </tr>\n",
       "    <tr>\n",
       "      <th>1</th>\n",
       "      <td>[ growth arabidopsis thaliana embryos followin...</td>\n",
       "      <td>3</td>\n",
       "      <td>903067199.0</td>\n",
       "      <td>(903067199.0, 903067201.0]</td>\n",
       "    </tr>\n",
       "  </tbody>\n",
       "</table>\n",
       "</div>"
      ],
      "text/plain": [
       "                                            Document  Topic   Timestamps  \\\n",
       "0  somatic mosaicism plants special reference som...     -1  903067199.0   \n",
       "1  [ growth arabidopsis thaliana embryos followin...      3  903067199.0   \n",
       "\n",
       "                         Bins  \n",
       "0  (903067199.0, 903067201.0]  \n",
       "1  (903067199.0, 903067201.0]  "
      ]
     },
     "execution_count": 48,
     "metadata": {},
     "output_type": "execute_result"
    }
   ],
   "source": [
    "# Bin values into discrete intervals\n",
    "ts_bins   = [] # a list of tuples showing the bin range (+/-1 of the unique val)\n",
    "for ts in timestamps:\n",
    "  ts_bins.append(pd.Interval(left=ts-1, right=ts+1))\n",
    "\n",
    "# Add the bin info as a new column in documents df\n",
    "documents[\"Bins\"] = ts_bins\n",
    "# Add timestamp column\n",
    "documents[\"Timestamps\"] = documents.apply(lambda row: row.Bins.left, 1)\n",
    "documents.head(2)"
   ]
  },
  {
   "cell_type": "code",
   "execution_count": 49,
   "metadata": {},
   "outputs": [
    {
     "data": {
      "text/plain": [
       "array([9.03067199e+08, 1.00640520e+09, 1.07155080e+09, 1.12494240e+09,\n",
       "       1.17082440e+09, 1.21203360e+09, 1.25177760e+09, 1.28763360e+09,\n",
       "       1.31796000e+09, 1.34880480e+09, 1.37653920e+09, 1.40237280e+09,\n",
       "       1.42941600e+09, 1.45646280e+09, 1.48307400e+09, 1.50950880e+09,\n",
       "       1.53603360e+09, 1.56117600e+09, 1.58571360e+09, 1.60947720e+09])"
      ]
     },
     "execution_count": 49,
     "metadata": {},
     "output_type": "execute_result"
    }
   ],
   "source": [
    "# Sort documents in chronological order\n",
    "documents  = documents.sort_values(\"Timestamps\")\n",
    "\n",
    "# Unique timestamps\n",
    "ts_unique = documents.Timestamps.unique()\n",
    "ts_unique"
   ]
  },
  {
   "cell_type": "markdown",
   "metadata": {},
   "source": [
    "### Run modified topics_over_time code\n",
    "\n",
    "Setting\n",
    "- evolution_tuning=1, global_tuning=0\n",
    "\n",
    "09/12/23\n",
    "- The following line throws an error after update\n",
    "  - `words_per_toc = topic_model._extract_words_per_topic(words, c_tf_idf, labels)`\n",
    "  - In the current version, `labels` is replaced with `documents` mentioned [here](https://github.com/MaartenGr/BERTopic/issues/463)\n",
    "\n",
    "```Python\n",
    "documents = pd.DataFrame({\"Document\": documents,\n",
    "                          \"ID\": range(len(documents)),\n",
    "                          \"Topic\": model.topics_})\n",
    "```\n",
    "\n",
    "Note that this `documents` is a subset for that topic which is the same as `selection` in the code block below."
   ]
  },
  {
   "cell_type": "code",
   "execution_count": 50,
   "metadata": {},
   "outputs": [],
   "source": [
    "def topics_over_time_mod():\n",
    "  # For each unique timestamp, create topic representations\n",
    "  topics_over_time = []\n",
    "  for index, timestamp in enumerate(tqdm(ts_unique)):\n",
    "    #print(index, timestamp)\n",
    "    # Calculate c-TF-IDF representation for a specific timestamp\n",
    "    selection = documents.loc[documents.Timestamps == timestamp, :]\n",
    "    \n",
    "    docs_per_toc = selection.groupby(['Topic'], as_index=False).agg(\n",
    "                                  {'Document': ' '.join, \"Timestamps\": \"count\"})\n",
    "    c_tf_idf, words = topic_model._c_tf_idf(docs_per_toc, fit=False)\n",
    "    if global_tuning or evolution_tuning:\n",
    "      c_tf_idf = normalize(c_tf_idf, axis=1, norm='l1', copy=False)\n",
    "\n",
    "    # Fine-tune the c-TF-IDF matrix at timestamp t by averaging it with the \n",
    "    # c-TF-IDF matrix at timestamp t-1\n",
    "    if evolution_tuning and index != 0:\n",
    "      curr_toc         = sorted(list(docs_per_toc.Topic.values))\n",
    "      overlap_toc      = sorted(list(set(prev_toc).intersection(set(curr_toc))))\n",
    "      curr_overlap_idx = [curr_toc.index(topic) for topic in overlap_toc]\n",
    "      prev_overlap_idx = [prev_toc.index(topic) for topic in overlap_toc]\n",
    "\n",
    "      c_tf_idf.tolil()[curr_overlap_idx] = \\\n",
    "        ((c_tf_idf[curr_overlap_idx] + prev_c_tf_idf[prev_overlap_idx]) / 2.0).tolil()\n",
    "\n",
    "    # Fine-tune the timestamp c-TF-IDF representation based on the global c-TF-IDF representation\n",
    "    # by simply taking the average of the two\n",
    "    #if global_tuning:\n",
    "    #  selected_topics = [all_topics_indices[topic] \\\n",
    "    #                                      for topic in docs_per_toc.Topic.values]\n",
    "    #  c_tf_idf = (global_c_tf_idf[selected_topics] + c_tf_idf) / 2.0\n",
    "\n",
    "    # Extract the words per topic\n",
    "    words_per_toc = topic_model._extract_words_per_topic(words, \n",
    "                                                        c_tf_idf=c_tf_idf, \n",
    "                                                        documents=selection)\n",
    "    topic_frequency = pd.Series(docs_per_toc.Timestamps.values,\n",
    "                                  index=docs_per_toc.Topic).to_dict()\n",
    "    # Fill dataframe with results\n",
    "    topics_at_timestamp = [(topic,\n",
    "                            \", \".join([words[0] for words in values][:5]),\n",
    "                            topic_frequency[topic],\n",
    "                            timestamp) for topic, values in words_per_toc.items()]\n",
    "    topics_over_time.extend(topics_at_timestamp)\n",
    "\n",
    "    if evolution_tuning:\n",
    "      prev_toc = sorted(list(docs_per_toc.Topic.values))\n",
    "      prev_c_tf_idf = c_tf_idf.copy()\n",
    "\n",
    "    # Save the word list if this is the 1st timestamp\n",
    "    if index == 0:\n",
    "      word_file = ctfidf_dir / f\"word_list_{len(words)}.pickle\"\n",
    "      with open(word_file, 'wb') as f:\n",
    "        pickle.dump(words, f)\n",
    "\n",
    "    # Save the ctfidf values\n",
    "    ctfidf_file = ctfidf_dir / f'ctfidf_{index}_no_globatune.pickle'\n",
    "    with open(ctfidf_file, \"wb\") as f:\n",
    "      pickle.dump(c_tf_idf, f)\n",
    "\n",
    "    # Save index and topic name for cross-referencing in ctfidf_file\n",
    "    toc_index_file = ctfidf_dir / f\"ctfidf_{index}_toc_index.tsv\"\n",
    "    docs_per_toc['Topic'].to_csv(toc_index_file, sep='\\t')\n",
    "  \n",
    "  return topics_over_time\n"
   ]
  },
  {
   "cell_type": "code",
   "execution_count": 51,
   "metadata": {},
   "outputs": [
    {
     "name": "stdout",
     "output_type": "stream",
     "text": [
      "  generate topics_over_time\n"
     ]
    },
    {
     "name": "stderr",
     "output_type": "stream",
     "text": [
      "100%|██████████| 20/20 [05:30<00:00, 16.53s/it]\n"
     ]
    },
    {
     "data": {
      "text/html": [
       "<div>\n",
       "<style scoped>\n",
       "    .dataframe tbody tr th:only-of-type {\n",
       "        vertical-align: middle;\n",
       "    }\n",
       "\n",
       "    .dataframe tbody tr th {\n",
       "        vertical-align: top;\n",
       "    }\n",
       "\n",
       "    .dataframe thead th {\n",
       "        text-align: right;\n",
       "    }\n",
       "</style>\n",
       "<table border=\"1\" class=\"dataframe\">\n",
       "  <thead>\n",
       "    <tr style=\"text-align: right;\">\n",
       "      <th></th>\n",
       "      <th>Topic</th>\n",
       "      <th>Words</th>\n",
       "      <th>Frequency</th>\n",
       "      <th>Timestamp</th>\n",
       "    </tr>\n",
       "  </thead>\n",
       "  <tbody>\n",
       "    <tr>\n",
       "      <th>0</th>\n",
       "      <td>-1</td>\n",
       "      <td>gene, protein, arabidopsis, genes, sequence</td>\n",
       "      <td>253</td>\n",
       "      <td>903067199.0</td>\n",
       "    </tr>\n",
       "    <tr>\n",
       "      <th>1</th>\n",
       "      <td>1</td>\n",
       "      <td>calmodulin, domain, pldgamma, kinesin heavy, cld</td>\n",
       "      <td>16</td>\n",
       "      <td>903067199.0</td>\n",
       "    </tr>\n",
       "    <tr>\n",
       "      <th>2</th>\n",
       "      <td>2</td>\n",
       "      <td>ubiquitin, cop9, e2s, proteins, fus6</td>\n",
       "      <td>24</td>\n",
       "      <td>903067199.0</td>\n",
       "    </tr>\n",
       "    <tr>\n",
       "      <th>3</th>\n",
       "      <td>3</td>\n",
       "      <td>spaceflight, space, flight, seeds, plants</td>\n",
       "      <td>30</td>\n",
       "      <td>903067199.0</td>\n",
       "    </tr>\n",
       "    <tr>\n",
       "      <th>4</th>\n",
       "      <td>4</td>\n",
       "      <td>promoter, gus, gene, expression, region</td>\n",
       "      <td>193</td>\n",
       "      <td>903067199.0</td>\n",
       "    </tr>\n",
       "  </tbody>\n",
       "</table>\n",
       "</div>"
      ],
      "text/plain": [
       "   Topic                                             Words  Frequency  \\\n",
       "0     -1       gene, protein, arabidopsis, genes, sequence        253   \n",
       "1      1  calmodulin, domain, pldgamma, kinesin heavy, cld         16   \n",
       "2      2              ubiquitin, cop9, e2s, proteins, fus6         24   \n",
       "3      3         spaceflight, space, flight, seeds, plants         30   \n",
       "4      4           promoter, gus, gene, expression, region        193   \n",
       "\n",
       "     Timestamp  \n",
       "0  903067199.0  \n",
       "1  903067199.0  \n",
       "2  903067199.0  \n",
       "3  903067199.0  \n",
       "4  903067199.0  "
      ]
     },
     "execution_count": 51,
     "metadata": {},
     "output_type": "execute_result"
    }
   ],
   "source": [
    "tot_df_file = work_dir / \\\n",
    "                f\"table_topics_over_time_df_no_global_tune_{target}.tsv\"\n",
    "\n",
    "if tot_df_file.is_file():\n",
    "  print(\"  load topics_over_time\")\n",
    "  topics_over_time = pd.read_csv(tot_df_file, sep='\\t')\n",
    "else:\n",
    "  print(\"  generate topics_over_time\")\n",
    "  topics_over_time = topics_over_time_mod()\n",
    "  topics_over_time = pd.DataFrame(topics_over_time, \n",
    "                          columns=[\"Topic\", \"Words\", \"Frequency\", \"Timestamp\"])\n",
    "\n",
    "  topics_over_time.to_csv(tot_df_file, sep='\\t')\n",
    "\n",
    "topics_over_time.head()"
   ]
  },
  {
   "cell_type": "markdown",
   "metadata": {},
   "source": [
    "### Topic over time plot\n",
    "\n",
    "Customize [BERTopic/bertopic/plotting/_topics_over_time.py](https://github.com/MaartenGr/BERTopic/blob/master/bertopic/plotting/_topics_over_time.py):\n",
    "\n",
    "09/12/23\n",
    "- Current bertopic versoin is 0.15.0.\n",
    "- Was working with BERTopic version is 0.12.0, different from what I started with 0.9.4.\n",
    "- The function to modify is `visualize_topics_over_time`."
   ]
  },
  {
   "cell_type": "code",
   "execution_count": 52,
   "metadata": {},
   "outputs": [],
   "source": [
    "def visualize_tot_mod(topic_model, topics_over_time, topics=None, \n",
    "                      normalize_frequency=False, width=1000, height=400):\n",
    "\n",
    "  colors = [\"#56B4E9\", \"#E69F00\", \"#009E73\", \"#F0E442\", \"#D55E00\", \"#0072B2\", \n",
    "            \"#CC79A7\"]\n",
    "\n",
    "  # Select topics\n",
    "  if topics:\n",
    "    selected_topics = topics\n",
    "  else:\n",
    "    selected_topics = topic_model.get_topic_freq().Topic.values\n",
    "\n",
    "  # Prepare data\n",
    "  # topic_model.topic_names is now topic_model.topic_labels_\n",
    "  topic_names = {key: value[:40] + \"...\" if len(value) > 40 else value\n",
    "                       for key, value in topic_model.topic_labels_.items()}\n",
    "\n",
    "  topics_over_time[\"Name\"] = topics_over_time.Topic.map(topic_names)\n",
    "  data = topics_over_time.loc[\n",
    "    topics_over_time.Topic.isin(selected_topics), :].sort_values(\n",
    "        [\"Topic\", \"Timestamp\"])\n",
    "    \n",
    "  # Add traces\n",
    "  fig = go.Figure()\n",
    "  max_freq = 0  # set max frequency for plotting purpose\n",
    "  for index, topic in enumerate(data.Topic.unique()):\n",
    "    trace_data = data.loc[data.Topic == topic, :]\n",
    "    topic_name = trace_data.Name.values[0]\n",
    "    words = trace_data.Words.values\n",
    "    if normalize_frequency:\n",
    "      y = normalize(trace_data.Frequency.values.reshape(1, -1))[0]\n",
    "    else:\n",
    "      y = trace_data.Frequency\n",
    "\n",
    "    if max(y) > max_freq:\n",
    "      max_freq = max(y)\n",
    "    fig.add_trace(go.Scatter(x=trace_data.Timestamp, y=y, mode='lines+markers',\n",
    "      marker_color=colors[index % 7], hoverinfo=\"text\",\n",
    "      name=topic_name,\n",
    "      hovertext=[f'<b>Topic {topic}</b><br>Words: {word}' for word in words]))\n",
    "\n",
    "  # Set the xaxis values, just use topic=0 \n",
    "  unique_tss = data.loc[data.Topic == selected_topics[0], :].Timestamp.tolist()\n",
    "  datetimes  = [datetime.fromtimestamp(ts) for ts in unique_tss]\n",
    "  ymds       = [f'{dt.year}-{dt.month}-{dt.day}' for dt in datetimes]\n",
    "  \n",
    "  # At recent date it becomes too dense, so only show every 2 dates\n",
    "  skip_after = datetime(2011, 1, 1).timestamp()\n",
    "  skip_start_idx = bisect(unique_tss, skip_after)\n",
    "  unique_tss2 = unique_tss[:skip_start_idx] + unique_tss[skip_start_idx::2]\n",
    "  ymds2       = ymds[:skip_start_idx] + ymds[skip_start_idx::2]\n",
    "\n",
    "  # Styling of the visualization\n",
    "  #toc_str    = \"-\".join([str(toc) for toc in topics])\n",
    "  toc_str = topic_names[topics[0]]\n",
    "\n",
    "  fig.update_xaxes(showgrid=True)\n",
    "  fig.update_yaxes(showgrid=True)\n",
    "  fig.update_layout(\n",
    "    yaxis_title=\"Normalized Frequency\" if normalize_frequency else \"Frequency\",\n",
    "    title={'text': f\"<b>Topic(s): {toc_str}\",\n",
    "           'y': .95,\n",
    "           'x': 0.40,\n",
    "           'xanchor': 'center',\n",
    "           'yanchor': 'top',\n",
    "           'font': dict(size=22, color=\"Black\")},\n",
    "    template=\"simple_white\",\n",
    "    width=width,\n",
    "    height=height,\n",
    "    hoverlabel=dict(bgcolor=\"white\", font_size=16, font_family=\"Rockwell\"),\n",
    "    legend=dict(title=\"<b>Global Topic Representation\"),\n",
    "    xaxis=dict(tickmode='array', tickvals=unique_tss2, ticktext=ymds2,\n",
    "               tickangle=-60))\n",
    "\n",
    "  # Add decade lines\n",
    "  for decade in range(1980, 2020, 10):\n",
    "    dt = datetime(decade, 1, 1)\n",
    "    ts = datetime.timestamp(dt)\n",
    "    fig.add_shape(type=\"line\", x0=ts, y0=0, x1=ts, y1=max_freq*1.05,\n",
    "                  line=dict(color=\"red\", width=3, dash='dot'))\n",
    "\n",
    "  # Save figure\n",
    "  fig.write_html(tot_graph_dir / f'tot_graph_topic_{toc_str}_no_globaltune.html')\n",
    "  #fig.write_image(tot_graph_dir / f'tot_graph_topic_{toc_str}_no_globaltune.pdf')\n",
    "\n",
    "  return fig, unique_tss"
   ]
  },
  {
   "cell_type": "code",
   "execution_count": 55,
   "metadata": {},
   "outputs": [
    {
     "name": "stderr",
     "output_type": "stream",
     "text": [
      "100%|██████████| 62/62 [00:03<00:00, 17.05it/s]\n"
     ]
    }
   ],
   "source": [
    "# Get the topics\n",
    "topics = np.unique(topics_over_time['Topic'].values)\n",
    "\n",
    "# Go through all topics\n",
    "for topic in tqdm(topics):\n",
    "  visualize_tot_mod(topic_model, topics_over_time, topics=[topic])"
   ]
  },
  {
   "cell_type": "markdown",
   "metadata": {},
   "source": [
    "### Save topic over time dataframe and turn it into a topic-timestamp-freq table\n",
    "\n",
    "Code from script_4_4c"
   ]
  },
  {
   "cell_type": "code",
   "execution_count": 56,
   "metadata": {},
   "outputs": [],
   "source": [
    "tot_df_file = work_dir / \"table_topics_over_time_df_no_global_tune.tsv\"\n",
    "topics_over_time.to_csv(tot_df_file)"
   ]
  },
  {
   "cell_type": "code",
   "execution_count": 57,
   "metadata": {},
   "outputs": [
    {
     "data": {
      "text/plain": [
       "(1229, 5)"
      ]
     },
     "execution_count": 57,
     "metadata": {},
     "output_type": "execute_result"
    }
   ],
   "source": [
    "topics_over_time.shape"
   ]
  },
  {
   "cell_type": "code",
   "execution_count": 58,
   "metadata": {},
   "outputs": [
    {
     "data": {
      "text/html": [
       "<div>\n",
       "<style scoped>\n",
       "    .dataframe tbody tr th:only-of-type {\n",
       "        vertical-align: middle;\n",
       "    }\n",
       "\n",
       "    .dataframe tbody tr th {\n",
       "        vertical-align: top;\n",
       "    }\n",
       "\n",
       "    .dataframe thead th {\n",
       "        text-align: right;\n",
       "    }\n",
       "</style>\n",
       "<table border=\"1\" class=\"dataframe\">\n",
       "  <thead>\n",
       "    <tr style=\"text-align: right;\">\n",
       "      <th></th>\n",
       "      <th>9.030672e+08</th>\n",
       "      <th>1.006405e+09</th>\n",
       "      <th>1.071551e+09</th>\n",
       "      <th>1.124942e+09</th>\n",
       "      <th>1.170824e+09</th>\n",
       "      <th>1.212034e+09</th>\n",
       "      <th>1.251778e+09</th>\n",
       "      <th>1.287634e+09</th>\n",
       "      <th>1.317960e+09</th>\n",
       "      <th>1.348805e+09</th>\n",
       "      <th>1.376539e+09</th>\n",
       "      <th>1.402373e+09</th>\n",
       "      <th>1.429416e+09</th>\n",
       "      <th>1.456463e+09</th>\n",
       "      <th>1.483074e+09</th>\n",
       "      <th>1.509509e+09</th>\n",
       "      <th>1.536034e+09</th>\n",
       "      <th>1.561176e+09</th>\n",
       "      <th>1.585714e+09</th>\n",
       "      <th>1.609477e+09</th>\n",
       "    </tr>\n",
       "    <tr>\n",
       "      <th>Topic</th>\n",
       "      <th></th>\n",
       "      <th></th>\n",
       "      <th></th>\n",
       "      <th></th>\n",
       "      <th></th>\n",
       "      <th></th>\n",
       "      <th></th>\n",
       "      <th></th>\n",
       "      <th></th>\n",
       "      <th></th>\n",
       "      <th></th>\n",
       "      <th></th>\n",
       "      <th></th>\n",
       "      <th></th>\n",
       "      <th></th>\n",
       "      <th></th>\n",
       "      <th></th>\n",
       "      <th></th>\n",
       "      <th></th>\n",
       "      <th></th>\n",
       "    </tr>\n",
       "  </thead>\n",
       "  <tbody>\n",
       "    <tr>\n",
       "      <th>-1</th>\n",
       "      <td>253.0</td>\n",
       "      <td>262.0</td>\n",
       "      <td>231.0</td>\n",
       "      <td>233</td>\n",
       "      <td>246</td>\n",
       "      <td>233.0</td>\n",
       "      <td>214.0</td>\n",
       "      <td>238</td>\n",
       "      <td>241</td>\n",
       "      <td>198.0</td>\n",
       "      <td>195</td>\n",
       "      <td>217</td>\n",
       "      <td>204</td>\n",
       "      <td>187</td>\n",
       "      <td>214</td>\n",
       "      <td>207</td>\n",
       "      <td>231</td>\n",
       "      <td>214</td>\n",
       "      <td>168</td>\n",
       "      <td>197</td>\n",
       "    </tr>\n",
       "    <tr>\n",
       "      <th>0</th>\n",
       "      <td>0.0</td>\n",
       "      <td>2.0</td>\n",
       "      <td>4.0</td>\n",
       "      <td>11</td>\n",
       "      <td>12</td>\n",
       "      <td>8.0</td>\n",
       "      <td>10.0</td>\n",
       "      <td>6</td>\n",
       "      <td>4</td>\n",
       "      <td>8.0</td>\n",
       "      <td>9</td>\n",
       "      <td>18</td>\n",
       "      <td>11</td>\n",
       "      <td>11</td>\n",
       "      <td>5</td>\n",
       "      <td>13</td>\n",
       "      <td>7</td>\n",
       "      <td>5</td>\n",
       "      <td>9</td>\n",
       "      <td>8</td>\n",
       "    </tr>\n",
       "    <tr>\n",
       "      <th>1</th>\n",
       "      <td>16.0</td>\n",
       "      <td>23.0</td>\n",
       "      <td>20.0</td>\n",
       "      <td>21</td>\n",
       "      <td>17</td>\n",
       "      <td>14.0</td>\n",
       "      <td>18.0</td>\n",
       "      <td>15</td>\n",
       "      <td>26</td>\n",
       "      <td>17.0</td>\n",
       "      <td>20</td>\n",
       "      <td>13</td>\n",
       "      <td>14</td>\n",
       "      <td>13</td>\n",
       "      <td>19</td>\n",
       "      <td>13</td>\n",
       "      <td>16</td>\n",
       "      <td>10</td>\n",
       "      <td>15</td>\n",
       "      <td>5</td>\n",
       "    </tr>\n",
       "    <tr>\n",
       "      <th>2</th>\n",
       "      <td>24.0</td>\n",
       "      <td>29.0</td>\n",
       "      <td>23.0</td>\n",
       "      <td>29</td>\n",
       "      <td>17</td>\n",
       "      <td>22.0</td>\n",
       "      <td>28.0</td>\n",
       "      <td>28</td>\n",
       "      <td>19</td>\n",
       "      <td>22.0</td>\n",
       "      <td>26</td>\n",
       "      <td>21</td>\n",
       "      <td>15</td>\n",
       "      <td>22</td>\n",
       "      <td>31</td>\n",
       "      <td>22</td>\n",
       "      <td>23</td>\n",
       "      <td>15</td>\n",
       "      <td>18</td>\n",
       "      <td>21</td>\n",
       "    </tr>\n",
       "    <tr>\n",
       "      <th>3</th>\n",
       "      <td>30.0</td>\n",
       "      <td>22.0</td>\n",
       "      <td>7.0</td>\n",
       "      <td>9</td>\n",
       "      <td>4</td>\n",
       "      <td>2.0</td>\n",
       "      <td>8.0</td>\n",
       "      <td>3</td>\n",
       "      <td>7</td>\n",
       "      <td>4.0</td>\n",
       "      <td>7</td>\n",
       "      <td>5</td>\n",
       "      <td>9</td>\n",
       "      <td>5</td>\n",
       "      <td>4</td>\n",
       "      <td>9</td>\n",
       "      <td>8</td>\n",
       "      <td>7</td>\n",
       "      <td>4</td>\n",
       "      <td>7</td>\n",
       "    </tr>\n",
       "  </tbody>\n",
       "</table>\n",
       "</div>"
      ],
      "text/plain": [
       "       9.030672e+08  1.006405e+09  1.071551e+09  1.124942e+09  1.170824e+09  \\\n",
       "Topic                                                                         \n",
       "-1            253.0         262.0         231.0           233           246   \n",
       " 0              0.0           2.0           4.0            11            12   \n",
       " 1             16.0          23.0          20.0            21            17   \n",
       " 2             24.0          29.0          23.0            29            17   \n",
       " 3             30.0          22.0           7.0             9             4   \n",
       "\n",
       "       1.212034e+09  1.251778e+09  1.287634e+09  1.317960e+09  1.348805e+09  \\\n",
       "Topic                                                                         \n",
       "-1            233.0         214.0           238           241         198.0   \n",
       " 0              8.0          10.0             6             4           8.0   \n",
       " 1             14.0          18.0            15            26          17.0   \n",
       " 2             22.0          28.0            28            19          22.0   \n",
       " 3              2.0           8.0             3             7           4.0   \n",
       "\n",
       "       1.376539e+09  1.402373e+09  1.429416e+09  1.456463e+09  1.483074e+09  \\\n",
       "Topic                                                                         \n",
       "-1              195           217           204           187           214   \n",
       " 0                9            18            11            11             5   \n",
       " 1               20            13            14            13            19   \n",
       " 2               26            21            15            22            31   \n",
       " 3                7             5             9             5             4   \n",
       "\n",
       "       1.509509e+09  1.536034e+09  1.561176e+09  1.585714e+09  1.609477e+09  \n",
       "Topic                                                                        \n",
       "-1              207           231           214           168           197  \n",
       " 0               13             7             5             9             8  \n",
       " 1               13            16            10            15             5  \n",
       " 2               22            23            15            18            21  \n",
       " 3                9             8             7             4             7  "
      ]
     },
     "execution_count": 58,
     "metadata": {},
     "output_type": "execute_result"
    }
   ],
   "source": [
    "# Turn the dataframe into top_freq_df with rows as timestamps, column as topics,\n",
    "# and values as frequency\n",
    "top_freq_dict = {} # {timestamp:{topic:freq}}\n",
    "for idx in topics_over_time.index:\n",
    "  row  = topics_over_time.loc[idx]\n",
    "  ts   = row[\"Timestamp\"]\n",
    "  toc  = row[\"Topic\"]\n",
    "  freq = row[\"Frequency\"]\n",
    "  if ts not in top_freq_dict:\n",
    "    top_freq_dict[ts] = {toc:freq}\n",
    "  elif toc not in top_freq_dict[ts]:\n",
    "    top_freq_dict[ts][toc] = freq\n",
    "  else:\n",
    "    print(\"ERR: redundant\", topic,freq)\n",
    "\n",
    "top_freq_df = pd.DataFrame.from_dict(top_freq_dict)\n",
    "top_freq_df.fillna(0, inplace=True)\n",
    "top_freq_df.sort_index(axis=0, inplace=True)  # sort rows\n",
    "top_freq_df.sort_index(axis=1, inplace=True)  # sort columns\n",
    "top_freq_df.index.name = \"Topic\"\n",
    "top_freq_df.head()"
   ]
  },
  {
   "cell_type": "code",
   "execution_count": 59,
   "metadata": {},
   "outputs": [],
   "source": [
    "top_freq_df_file = work_dir / \"table_toc_ts_freq_df.tsv\"\n",
    "top_freq_df.to_csv(top_freq_df_file)"
   ]
  },
  {
   "cell_type": "markdown",
   "metadata": {},
   "source": [
    "## ___Lowess fit___\n",
    "\n",
    "Move function from script_4_4d"
   ]
  },
  {
   "cell_type": "markdown",
   "metadata": {},
   "source": [
    "### Set get_lowess function"
   ]
  },
  {
   "cell_type": "code",
   "execution_count": 60,
   "metadata": {},
   "outputs": [],
   "source": [
    "def get_lowess(toc, x, y, frac, it=3, dir_lowess=\"dir_lowess\", plot=0):\n",
    "\n",
    "  lowess = sm.nonparametric.lowess\n",
    "  lowess_fit = lowess(y, x, frac=frac, it=it) \n",
    "  lowess_x   = list(zip(*lowess_fit))[0]\n",
    "  lowess_y   = list(zip(*lowess_fit))[1]\n",
    "\n",
    "  # create a function using the interp1d method\n",
    "  lowesss_f  = interp1d(lowess_x, lowess_y, bounds_error=False)\n",
    "\n",
    "  # save the function\n",
    "  f_file = dir_lowess / f\"lowess_fit_func_topic{toc}_frac{frac}.pickle\"\n",
    "  with open(f_file, \"wb\") as f:\n",
    "    pickle.dump(lowesss_f, f)\n",
    "\n",
    "  #x_line = [i/10. for i in range(400)]\n",
    "  # define a sequence of inputs between the smallest and largest known inputs\n",
    "  x_line = np.arange(min(x), max(x), (max(x)-min(x))/100)\n",
    "  y_line = lowesss_f(x_line)\n",
    "\n",
    "  # For xtick labels\n",
    "  x_date = [datetime.fromtimestamp(ts+1).strftime('%Y-%m-%d') for ts in lowess_x]\n",
    "\n",
    "  # Create series\n",
    "  lowess_ser = pd.Series(lowess_y, index=lowess_x, name=toc)\n",
    "\n",
    "  if plot:\n",
    "    # get 2 decimal points for mse\n",
    "    mse = \"{:.2f}\".format(mean_squared_error(y, lowess_y))\n",
    "    plt.title(f\"topic {toc}, MSE={mse}\")\n",
    "    plt.plot(x, y, 'o')\n",
    "    #plt.plot(lowess_x, lowess_y, '*')\n",
    "    plt.plot(lowess_x, lowess_y, '*')\n",
    "    #plt.plot(x_new, y_new, '-')\n",
    "    plt.plot(x_line, y_line, '-')\n",
    "\n",
    "    #https://stackabuse.com/rotate-axis-labels-in-matplotlib/\n",
    "    plt.xticks(ticks=lowess_x, labels=x_date, rotation=90, fontsize=4)\n",
    "    plt.xlabel(\"Date\")\n",
    "    plt.ylabel(\"Frequency\")\n",
    "    plt.ylim([0, max([max(y), max(lowess_y)])])\n",
    "    plt.tight_layout()\n",
    "    plt.savefig(dir_lowess / \\\n",
    "                            f'figure_topic_{toc}_lowess_frac{frac}.pdf')\n",
    "    plt.close()\n",
    "    \n",
    "  return lowess_ser "
   ]
  },
  {
   "cell_type": "markdown",
   "metadata": {},
   "source": [
    "### Iterate through topics"
   ]
  },
  {
   "cell_type": "code",
   "execution_count": 61,
   "metadata": {},
   "outputs": [
    {
     "name": "stdout",
     "output_type": "stream",
     "text": [
      "[-1, 0, 1, 2, 3, 4, 5, 6, 7, 8, 9, 10, 11, 12, 13, 14, 15, 16, 17, 18, 19, 20, 21, 22, 23, 24, 25, 26, 27, 28, 29, 30, 31, 32, 33, 34, 35, 36, 37, 38, 39, 40, 41, 42, 43, 44, 45, 46, 47, 48, 49, 50, 51, 52, 53, 54, 55, 56, 57, 58, 59, 60]\n"
     ]
    }
   ],
   "source": [
    "# get topics from top_freq_df\n",
    "topics = top_freq_df.index.tolist()\n",
    "print(topics)"
   ]
  },
  {
   "cell_type": "code",
   "execution_count": 62,
   "metadata": {},
   "outputs": [],
   "source": [
    "def fit_topics(frac, it):\n",
    "  '''Lowess fit each topic and save the outputs\n",
    "  Args:\n",
    "    frac (float): The fraction of the data used when estimating each y-value.\n",
    "    it (int): The number of residual-based reweightings to perform.\n",
    "  Output:\n",
    "    \n",
    "  '''\n",
    "\n",
    "  # Create a subfolder for the specific frac\n",
    "  # Decide not to use this, so I can compare each fit side by side\n",
    "  #dir_lowess_frac = dir_lowess / f\"_{frac}\"\n",
    "  #dir_lowess_frac.mkdir(parents=True, exist_ok=True)\n",
    "\n",
    "  max_y_idxs      = [] # indices (x, timestamps) with max y\n",
    "  lowess_ser_list = [] # list of lowess-fitted series for different topics\n",
    "  for toc in tqdm(topics):\n",
    "    # series for the topic, timestamps as indices, frequencies as row\n",
    "    toc_series = top_freq_df.loc[toc]\n",
    "    x          = [float(ts) for ts in toc_series.index]  # timestamps\n",
    "    y          = toc_series.values # frequencies\n",
    "\n",
    "    # series after lowess smoothing\n",
    "    lowess_ser = get_lowess(toc, x, y, frac, it, dir_lowess, plot=1)\n",
    "\n",
    "    max_y_idx  = lowess_ser.idxmax()\n",
    "    max_y_idxs.append(max_y_idx)\n",
    "    lowess_ser_list.append(lowess_ser)\n",
    "\n",
    "  # for topic order\n",
    "  max_y_idxs_ser = pd.Series(max_y_idxs, index=topics, name='max_y_timestamp')\n",
    "  max_y_idxs_ser.to_csv(dir_lowess / \\\n",
    "          f\"table_1_arabidopsis_timestamps_with_max_y_lowess_frac{frac}.txt\")\n",
    "  \n",
    "  # Create a dataframe with lowess fits\n",
    "  #https://sparkbyexamples.com/pandas/pandas-create-dataframe-from-multiple-series/\n",
    "  lowess_df = pd.concat(lowess_ser_list, axis=1).transpose()\n",
    "\n",
    "  # Sort the dataframe based on timestamps\n",
    "  #https://www.geeksforgeeks.org/how-to-sort-a-pandas-dataframe-based-on-column-names-or-row-index/\n",
    "  lowess_df.sort_index(inplace=True, axis=1)\n",
    "\n",
    "  # Save the dataframe to file\n",
    "  lowess_df.to_csv(dir_lowess / \\\n",
    "          f\"table_1_arabidopsis_toc_timestamps_lowess_vals_{frac}.txt\")\n",
    "\n",
    "  return max_y_idxs_ser, lowess_df"
   ]
  },
  {
   "cell_type": "code",
   "execution_count": 63,
   "metadata": {},
   "outputs": [
    {
     "name": "stderr",
     "output_type": "stream",
     "text": [
      "100%|██████████| 62/62 [00:18<00:00,  3.31it/s]\n"
     ]
    }
   ],
   "source": [
    "# 0.1 is pretty useless\n",
    "max_y_idxs_ser01, lowess_df01 = fit_topics(0.1, 3)"
   ]
  },
  {
   "cell_type": "code",
   "execution_count": 64,
   "metadata": {},
   "outputs": [
    {
     "name": "stderr",
     "output_type": "stream",
     "text": [
      "100%|██████████| 62/62 [00:18<00:00,  3.38it/s]\n"
     ]
    }
   ],
   "source": [
    "max_y_idxs_ser02, lowess_df02 = fit_topics(0.2, 3)"
   ]
  },
  {
   "cell_type": "code",
   "execution_count": 65,
   "metadata": {},
   "outputs": [
    {
     "name": "stderr",
     "output_type": "stream",
     "text": [
      "100%|██████████| 62/62 [00:18<00:00,  3.36it/s]\n"
     ]
    }
   ],
   "source": [
    "max_y_idxs_ser03, lowess_df03 = fit_topics(0.3, 3)"
   ]
  },
  {
   "cell_type": "markdown",
   "metadata": {},
   "source": [
    "### Get toc frequency sum and max"
   ]
  },
  {
   "cell_type": "code",
   "execution_count": 66,
   "metadata": {},
   "outputs": [
    {
     "data": {
      "text/plain": [
       "(4383.0, 262.0)"
      ]
     },
     "execution_count": 66,
     "metadata": {},
     "output_type": "execute_result"
    }
   ],
   "source": [
    "# determine total and max freq for each topic\n",
    "toc_freq_sum = top_freq_df.sum(axis=1)\n",
    "toc_freq_max = top_freq_df.max(axis=1)\n",
    "toc_freq_sum.loc[-1], toc_freq_max.loc[-1]"
   ]
  },
  {
   "cell_type": "code",
   "execution_count": 67,
   "metadata": {},
   "outputs": [
    {
     "data": {
      "text/html": [
       "<div>\n",
       "<style scoped>\n",
       "    .dataframe tbody tr th:only-of-type {\n",
       "        vertical-align: middle;\n",
       "    }\n",
       "\n",
       "    .dataframe tbody tr th {\n",
       "        vertical-align: top;\n",
       "    }\n",
       "\n",
       "    .dataframe thead th {\n",
       "        text-align: right;\n",
       "    }\n",
       "</style>\n",
       "<table border=\"1\" class=\"dataframe\">\n",
       "  <thead>\n",
       "    <tr style=\"text-align: right;\">\n",
       "      <th></th>\n",
       "      <th>Sum</th>\n",
       "      <th>Max</th>\n",
       "    </tr>\n",
       "    <tr>\n",
       "      <th>Topic</th>\n",
       "      <th></th>\n",
       "      <th></th>\n",
       "    </tr>\n",
       "  </thead>\n",
       "  <tbody>\n",
       "    <tr>\n",
       "      <th>-1</th>\n",
       "      <td>4383.0</td>\n",
       "      <td>262.0</td>\n",
       "    </tr>\n",
       "    <tr>\n",
       "      <th>0</th>\n",
       "      <td>161.0</td>\n",
       "      <td>18.0</td>\n",
       "    </tr>\n",
       "    <tr>\n",
       "      <th>1</th>\n",
       "      <td>325.0</td>\n",
       "      <td>26.0</td>\n",
       "    </tr>\n",
       "    <tr>\n",
       "      <th>2</th>\n",
       "      <td>455.0</td>\n",
       "      <td>31.0</td>\n",
       "    </tr>\n",
       "    <tr>\n",
       "      <th>3</th>\n",
       "      <td>161.0</td>\n",
       "      <td>30.0</td>\n",
       "    </tr>\n",
       "  </tbody>\n",
       "</table>\n",
       "</div>"
      ],
      "text/plain": [
       "          Sum    Max\n",
       "Topic               \n",
       "-1     4383.0  262.0\n",
       " 0      161.0   18.0\n",
       " 1      325.0   26.0\n",
       " 2      455.0   31.0\n",
       " 3      161.0   30.0"
      ]
     },
     "execution_count": 67,
     "metadata": {},
     "output_type": "execute_result"
    }
   ],
   "source": [
    "toc_freq_stat = pd.concat({'Sum':toc_freq_sum, 'Max':toc_freq_max}, axis=1)\n",
    "toc_freq_stat.head()"
   ]
  }
 ],
 "metadata": {
  "kernelspec": {
   "display_name": "hdbscan5",
   "language": "python",
   "name": "hdbscan5"
  },
  "language_info": {
   "codemirror_mode": {
    "name": "ipython",
    "version": 3
   },
   "file_extension": ".py",
   "mimetype": "text/x-python",
   "name": "python",
   "nbconvert_exporter": "python",
   "pygments_lexer": "ipython3",
   "version": "3.10.13"
  },
  "vscode": {
   "interpreter": {
    "hash": "2546ba060a154487e3c4fa1e31a9e4aac886293d8c02f2edee3d64d0186acc54"
   }
  }
 },
 "nbformat": 4,
 "nbformat_minor": 2
}
